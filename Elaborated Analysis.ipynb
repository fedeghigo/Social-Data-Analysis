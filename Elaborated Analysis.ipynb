{
 "cells": [
  {
   "cell_type": "code",
   "execution_count": 44,
   "metadata": {},
   "outputs": [
    {
     "name": "stdout",
     "output_type": "stream",
     "text": [
      "The autoreload extension is already loaded. To reload it, use:\n",
      "  %reload_ext autoreload\n"
     ]
    }
   ],
   "source": [
    "## Elaborated Analysis\n",
    "%load_ext autoreload\n",
    "%autoreload 2\n",
    "from Socialanalysis_main import SocialDataAnalysis\n",
    "import pandas as pd \n",
    "import numpy as np\n",
    "import tweepy as tw \n",
    "import os\n"
   ]
  },
  {
   "cell_type": "code",
   "execution_count": 9,
   "metadata": {},
   "outputs": [
    {
     "data": {
      "text/plain": [
       "'4.8.0'"
      ]
     },
     "execution_count": 9,
     "metadata": {},
     "output_type": "execute_result"
    }
   ],
   "source": [
    "tw.__version__"
   ]
  },
  {
   "cell_type": "code",
   "execution_count": 45,
   "metadata": {},
   "outputs": [],
   "source": [
    "API_KEY_SECRET = os.environ[\"API_KEY_SECRET_twitter\"]\n",
    "API_KEY= os.environ[\"API_KEY_twitter\"]"
   ]
  },
  {
   "cell_type": "code",
   "execution_count": 130,
   "metadata": {},
   "outputs": [],
   "source": [
    "twitter=SocialDataAnalysis(API_KEY_SECRET,API_KEY)\n",
    "api=twitter.connect_twitter()"
   ]
  },
  {
   "cell_type": "code",
   "execution_count": 137,
   "metadata": {},
   "outputs": [],
   "source": [
    "search_list=[\"#RussiaUkraineWar\",\"#War\" , \"#NetflixWar\",\"#BearMarket\",\"#FinancialWar\" ,\"#Army\",\"#Energy\" ]\n",
    "fromDate =\"202001010000\"\n",
    "toDate = \"202204200000\""
   ]
  },
  {
   "cell_type": "code",
   "execution_count": 139,
   "metadata": {},
   "outputs": [
    {
     "name": "stderr",
     "output_type": "stream",
     "text": [
      "176it [01:09,  2.55it/s]                         \n",
      "159it [00:59,  2.68it/s]                         \n",
      "0it [00:00, ?it/s]\n",
      "180it [01:14,  2.42it/s]                         \n",
      "23it [00:09,  2.32it/s]                        \n",
      "157it [01:06,  2.38it/s]                         \n",
      "119it [00:49,  2.50it/s]                         Rate limit reached. Sleeping for: 402\n",
      "178it [08:09,  2.75s/it] \n"
     ]
    }
   ],
   "source": [
    "twitter_df = twitter.twitter_loop(search_list,fromDate,toDate,100,\" twitter_search_30_day\")"
   ]
  },
  {
   "cell_type": "code",
   "execution_count": 140,
   "metadata": {},
   "outputs": [
    {
     "data": {
      "text/plain": [
       "(516, 16)"
      ]
     },
     "execution_count": 140,
     "metadata": {},
     "output_type": "execute_result"
    }
   ],
   "source": [
    "np.shape(twitter_df)"
   ]
  },
  {
   "cell_type": "code",
   "execution_count": 152,
   "metadata": {},
   "outputs": [],
   "source": [
    "del(twitter_df[\"Unnamed: 0\"])"
   ]
  },
  {
   "cell_type": "code",
   "execution_count": 153,
   "metadata": {},
   "outputs": [
    {
     "ename": "KeyError",
     "evalue": "'user_name'",
     "output_type": "error",
     "traceback": [
      "\u001b[1;31m---------------------------------------------------------------------------\u001b[0m",
      "\u001b[1;31mKeyError\u001b[0m                                  Traceback (most recent call last)",
      "File \u001b[1;32m~\\Anaconda3\\envs\\time_series\\lib\\site-packages\\pandas\\core\\indexes\\base.py:3361\u001b[0m, in \u001b[0;36mIndex.get_loc\u001b[1;34m(self, key, method, tolerance)\u001b[0m\n\u001b[0;32m   <a href='file:///c%3A/Users/finnocenti/Anaconda3/envs/time_series/lib/site-packages/pandas/core/indexes/base.py?line=3359'>3360</a>\u001b[0m \u001b[39mtry\u001b[39;00m:\n\u001b[1;32m-> <a href='file:///c%3A/Users/finnocenti/Anaconda3/envs/time_series/lib/site-packages/pandas/core/indexes/base.py?line=3360'>3361</a>\u001b[0m     \u001b[39mreturn\u001b[39;00m \u001b[39mself\u001b[39;49m\u001b[39m.\u001b[39;49m_engine\u001b[39m.\u001b[39;49mget_loc(casted_key)\n\u001b[0;32m   <a href='file:///c%3A/Users/finnocenti/Anaconda3/envs/time_series/lib/site-packages/pandas/core/indexes/base.py?line=3361'>3362</a>\u001b[0m \u001b[39mexcept\u001b[39;00m \u001b[39mKeyError\u001b[39;00m \u001b[39mas\u001b[39;00m err:\n",
      "File \u001b[1;32m~\\Anaconda3\\envs\\time_series\\lib\\site-packages\\pandas\\_libs\\index.pyx:76\u001b[0m, in \u001b[0;36mpandas._libs.index.IndexEngine.get_loc\u001b[1;34m()\u001b[0m\n",
      "File \u001b[1;32m~\\Anaconda3\\envs\\time_series\\lib\\site-packages\\pandas\\_libs\\index.pyx:108\u001b[0m, in \u001b[0;36mpandas._libs.index.IndexEngine.get_loc\u001b[1;34m()\u001b[0m\n",
      "File \u001b[1;32mpandas\\_libs\\hashtable_class_helper.pxi:5198\u001b[0m, in \u001b[0;36mpandas._libs.hashtable.PyObjectHashTable.get_item\u001b[1;34m()\u001b[0m\n",
      "File \u001b[1;32mpandas\\_libs\\hashtable_class_helper.pxi:5206\u001b[0m, in \u001b[0;36mpandas._libs.hashtable.PyObjectHashTable.get_item\u001b[1;34m()\u001b[0m\n",
      "\u001b[1;31mKeyError\u001b[0m: 'user_name'",
      "\nThe above exception was the direct cause of the following exception:\n",
      "\u001b[1;31mKeyError\u001b[0m                                  Traceback (most recent call last)",
      "\u001b[1;32mg:\\Il mio Drive\\1Master Data Analytics and data science\\lezioni_MDA\\corporate analytics\\corporate analytics 2\\assignment_finale\\Social-Data-Analysis-1\\Elaborated Analysis.ipynb Cell 9'\u001b[0m in \u001b[0;36m<cell line: 1>\u001b[1;34m()\u001b[0m\n\u001b[1;32m----> <a href='vscode-notebook-cell:/g%3A/Il%20mio%20Drive/1Master%20Data%20Analytics%20and%20data%20science/lezioni_MDA/corporate%20analytics/corporate%20analytics%202/assignment_finale/Social-Data-Analysis-1/Elaborated%20Analysis.ipynb#ch0000049?line=0'>1</a>\u001b[0m \u001b[39mdel\u001b[39;00m(twitter_df[\u001b[39m\"\u001b[39m\u001b[39muser_name\u001b[39m\u001b[39m\"\u001b[39m])\n\u001b[0;32m      <a href='vscode-notebook-cell:/g%3A/Il%20mio%20Drive/1Master%20Data%20Analytics%20and%20data%20science/lezioni_MDA/corporate%20analytics/corporate%20analytics%202/assignment_finale/Social-Data-Analysis-1/Elaborated%20Analysis.ipynb#ch0000049?line=1'>2</a>\u001b[0m \u001b[39mdel\u001b[39;00m(twitter_df[\u001b[39m\"\u001b[39m\u001b[39muser_description\u001b[39m\u001b[39m\"\u001b[39m])\n\u001b[0;32m      <a href='vscode-notebook-cell:/g%3A/Il%20mio%20Drive/1Master%20Data%20Analytics%20and%20data%20science/lezioni_MDA/corporate%20analytics/corporate%20analytics%202/assignment_finale/Social-Data-Analysis-1/Elaborated%20Analysis.ipynb#ch0000049?line=2'>3</a>\u001b[0m \u001b[39mdel\u001b[39;00m(twitter_df[\u001b[39m\"\u001b[39m\u001b[39muser_verified\u001b[39m\u001b[39m\"\u001b[39m])\n",
      "File \u001b[1;32m~\\Anaconda3\\envs\\time_series\\lib\\site-packages\\pandas\\core\\generic.py:3963\u001b[0m, in \u001b[0;36mNDFrame.__delitem__\u001b[1;34m(self, key)\u001b[0m\n\u001b[0;32m   <a href='file:///c%3A/Users/finnocenti/Anaconda3/envs/time_series/lib/site-packages/pandas/core/generic.py?line=3957'>3958</a>\u001b[0m             deleted \u001b[39m=\u001b[39m \u001b[39mTrue\u001b[39;00m\n\u001b[0;32m   <a href='file:///c%3A/Users/finnocenti/Anaconda3/envs/time_series/lib/site-packages/pandas/core/generic.py?line=3958'>3959</a>\u001b[0m \u001b[39mif\u001b[39;00m \u001b[39mnot\u001b[39;00m deleted:\n\u001b[0;32m   <a href='file:///c%3A/Users/finnocenti/Anaconda3/envs/time_series/lib/site-packages/pandas/core/generic.py?line=3959'>3960</a>\u001b[0m     \u001b[39m# If the above loop ran and didn't delete anything because\u001b[39;00m\n\u001b[0;32m   <a href='file:///c%3A/Users/finnocenti/Anaconda3/envs/time_series/lib/site-packages/pandas/core/generic.py?line=3960'>3961</a>\u001b[0m     \u001b[39m# there was no match, this call should raise the appropriate\u001b[39;00m\n\u001b[0;32m   <a href='file:///c%3A/Users/finnocenti/Anaconda3/envs/time_series/lib/site-packages/pandas/core/generic.py?line=3961'>3962</a>\u001b[0m     \u001b[39m# exception:\u001b[39;00m\n\u001b[1;32m-> <a href='file:///c%3A/Users/finnocenti/Anaconda3/envs/time_series/lib/site-packages/pandas/core/generic.py?line=3962'>3963</a>\u001b[0m     loc \u001b[39m=\u001b[39m \u001b[39mself\u001b[39;49m\u001b[39m.\u001b[39;49maxes[\u001b[39m-\u001b[39;49m\u001b[39m1\u001b[39;49m]\u001b[39m.\u001b[39;49mget_loc(key)\n\u001b[0;32m   <a href='file:///c%3A/Users/finnocenti/Anaconda3/envs/time_series/lib/site-packages/pandas/core/generic.py?line=3963'>3964</a>\u001b[0m     \u001b[39mself\u001b[39m\u001b[39m.\u001b[39m_mgr \u001b[39m=\u001b[39m \u001b[39mself\u001b[39m\u001b[39m.\u001b[39m_mgr\u001b[39m.\u001b[39midelete(loc)\n\u001b[0;32m   <a href='file:///c%3A/Users/finnocenti/Anaconda3/envs/time_series/lib/site-packages/pandas/core/generic.py?line=3965'>3966</a>\u001b[0m \u001b[39m# delete from the caches\u001b[39;00m\n",
      "File \u001b[1;32m~\\Anaconda3\\envs\\time_series\\lib\\site-packages\\pandas\\core\\indexes\\base.py:3363\u001b[0m, in \u001b[0;36mIndex.get_loc\u001b[1;34m(self, key, method, tolerance)\u001b[0m\n\u001b[0;32m   <a href='file:///c%3A/Users/finnocenti/Anaconda3/envs/time_series/lib/site-packages/pandas/core/indexes/base.py?line=3360'>3361</a>\u001b[0m         \u001b[39mreturn\u001b[39;00m \u001b[39mself\u001b[39m\u001b[39m.\u001b[39m_engine\u001b[39m.\u001b[39mget_loc(casted_key)\n\u001b[0;32m   <a href='file:///c%3A/Users/finnocenti/Anaconda3/envs/time_series/lib/site-packages/pandas/core/indexes/base.py?line=3361'>3362</a>\u001b[0m     \u001b[39mexcept\u001b[39;00m \u001b[39mKeyError\u001b[39;00m \u001b[39mas\u001b[39;00m err:\n\u001b[1;32m-> <a href='file:///c%3A/Users/finnocenti/Anaconda3/envs/time_series/lib/site-packages/pandas/core/indexes/base.py?line=3362'>3363</a>\u001b[0m         \u001b[39mraise\u001b[39;00m \u001b[39mKeyError\u001b[39;00m(key) \u001b[39mfrom\u001b[39;00m \u001b[39merr\u001b[39;00m\n\u001b[0;32m   <a href='file:///c%3A/Users/finnocenti/Anaconda3/envs/time_series/lib/site-packages/pandas/core/indexes/base.py?line=3364'>3365</a>\u001b[0m \u001b[39mif\u001b[39;00m is_scalar(key) \u001b[39mand\u001b[39;00m isna(key) \u001b[39mand\u001b[39;00m \u001b[39mnot\u001b[39;00m \u001b[39mself\u001b[39m\u001b[39m.\u001b[39mhasnans:\n\u001b[0;32m   <a href='file:///c%3A/Users/finnocenti/Anaconda3/envs/time_series/lib/site-packages/pandas/core/indexes/base.py?line=3365'>3366</a>\u001b[0m     \u001b[39mraise\u001b[39;00m \u001b[39mKeyError\u001b[39;00m(key)\n",
      "\u001b[1;31mKeyError\u001b[0m: 'user_name'"
     ]
    }
   ],
   "source": [
    "del(twitter_df[\"user_name\"])\n",
    "del(twitter_df[\"user_description\"])\n",
    "del(twitter_df[\"user_verified\"])"
   ]
  },
  {
   "cell_type": "code",
   "execution_count": 154,
   "metadata": {},
   "outputs": [],
   "source": [
    "twitter_df.to_csv(\"Data/twitter_df.csv\", sep=\",\")"
   ]
  },
  {
   "cell_type": "code",
   "execution_count": 155,
   "metadata": {},
   "outputs": [],
   "source": [
    "twitter_df= pd.read_csv(\"Data/twitter_df.csv\", sep=\",\")"
   ]
  },
  {
   "cell_type": "code",
   "execution_count": 156,
   "metadata": {},
   "outputs": [
    {
     "data": {
      "text/html": [
       "<div>\n",
       "<style scoped>\n",
       "    .dataframe tbody tr th:only-of-type {\n",
       "        vertical-align: middle;\n",
       "    }\n",
       "\n",
       "    .dataframe tbody tr th {\n",
       "        vertical-align: top;\n",
       "    }\n",
       "\n",
       "    .dataframe thead th {\n",
       "        text-align: right;\n",
       "    }\n",
       "</style>\n",
       "<table border=\"1\" class=\"dataframe\">\n",
       "  <thead>\n",
       "    <tr style=\"text-align: right;\">\n",
       "      <th></th>\n",
       "      <th>Unnamed: 0</th>\n",
       "      <th>user_location</th>\n",
       "      <th>id</th>\n",
       "      <th>date</th>\n",
       "      <th>text</th>\n",
       "      <th>in_reply_to_status_id</th>\n",
       "      <th>in_reply_to_user_id</th>\n",
       "      <th>retweet_original_user</th>\n",
       "      <th>retweet_original_tweet_id</th>\n",
       "      <th>hashtags</th>\n",
       "      <th>retweet_count</th>\n",
       "      <th>favorite_count</th>\n",
       "      <th>source</th>\n",
       "      <th>user_id</th>\n",
       "    </tr>\n",
       "  </thead>\n",
       "  <tbody>\n",
       "    <tr>\n",
       "      <th>0</th>\n",
       "      <td>0</td>\n",
       "      <td>NaN</td>\n",
       "      <td>1517969386249854977</td>\n",
       "      <td>2022-04-23 20:51:18+00:00</td>\n",
       "      <td>Последствия боевых действий на востоке Украины...</td>\n",
       "      <td>NaN</td>\n",
       "      <td>NaN</td>\n",
       "      <td>NaN</td>\n",
       "      <td>NaN</td>\n",
       "      <td>['Украина', 'Ukraine', 'UkraineWar', 'RussiaUk...</td>\n",
       "      <td>0</td>\n",
       "      <td>0</td>\n",
       "      <td>Twitter for Android</td>\n",
       "      <td>8.028000e+17</td>\n",
       "    </tr>\n",
       "    <tr>\n",
       "      <th>1</th>\n",
       "      <td>1</td>\n",
       "      <td>NaN</td>\n",
       "      <td>1517969260949250048</td>\n",
       "      <td>2022-04-23 20:50:48+00:00</td>\n",
       "      <td>@TheresiaCrone #climatecrisis and #RussiaUkrai...</td>\n",
       "      <td>1.517892e+18</td>\n",
       "      <td>1.193110e+18</td>\n",
       "      <td>NaN</td>\n",
       "      <td>NaN</td>\n",
       "      <td>['climatecrisis', 'RussiaUkraineWar', 'renewab...</td>\n",
       "      <td>0</td>\n",
       "      <td>0</td>\n",
       "      <td>Twitter Web App</td>\n",
       "      <td>1.009679e+09</td>\n",
       "    </tr>\n",
       "    <tr>\n",
       "      <th>2</th>\n",
       "      <td>2</td>\n",
       "      <td>Italia</td>\n",
       "      <td>1517968508813991936</td>\n",
       "      <td>2022-04-23 20:47:49+00:00</td>\n",
       "      <td>#Russia 🇷🇺 / #Ukraine 🇺🇦\\n\\n❗❗Explosions repor...</td>\n",
       "      <td>NaN</td>\n",
       "      <td>NaN</td>\n",
       "      <td>NaN</td>\n",
       "      <td>NaN</td>\n",
       "      <td>['Russia', 'Ukraine', 'UkraineRussianWar', 'Ru...</td>\n",
       "      <td>0</td>\n",
       "      <td>0</td>\n",
       "      <td>Twitter for Android</td>\n",
       "      <td>9.852641e+17</td>\n",
       "    </tr>\n",
       "    <tr>\n",
       "      <th>3</th>\n",
       "      <td>3</td>\n",
       "      <td>NaN</td>\n",
       "      <td>1517967820105170944</td>\n",
       "      <td>2022-04-23 20:45:05+00:00</td>\n",
       "      <td>#Turkey closes airspace to Russian military ai...</td>\n",
       "      <td>NaN</td>\n",
       "      <td>NaN</td>\n",
       "      <td>NaN</td>\n",
       "      <td>NaN</td>\n",
       "      <td>['Turkey', 'Syria', 'Russia', 'Ukraine', 'Russ...</td>\n",
       "      <td>1</td>\n",
       "      <td>1</td>\n",
       "      <td>Twitter Web App</td>\n",
       "      <td>1.326832e+08</td>\n",
       "    </tr>\n",
       "    <tr>\n",
       "      <th>4</th>\n",
       "      <td>4</td>\n",
       "      <td>NaN</td>\n",
       "      <td>1517967450721112064</td>\n",
       "      <td>2022-04-23 20:43:37+00:00</td>\n",
       "      <td>#NaziRussia #Nazi #NaziRussianArmy #WarCrimes ...</td>\n",
       "      <td>NaN</td>\n",
       "      <td>NaN</td>\n",
       "      <td>NaN</td>\n",
       "      <td>NaN</td>\n",
       "      <td>['NaziRussia', 'Nazi', 'NaziRussianArmy', 'War...</td>\n",
       "      <td>0</td>\n",
       "      <td>0</td>\n",
       "      <td>Twitter for Android</td>\n",
       "      <td>1.498691e+18</td>\n",
       "    </tr>\n",
       "    <tr>\n",
       "      <th>...</th>\n",
       "      <td>...</td>\n",
       "      <td>...</td>\n",
       "      <td>...</td>\n",
       "      <td>...</td>\n",
       "      <td>...</td>\n",
       "      <td>...</td>\n",
       "      <td>...</td>\n",
       "      <td>...</td>\n",
       "      <td>...</td>\n",
       "      <td>...</td>\n",
       "      <td>...</td>\n",
       "      <td>...</td>\n",
       "      <td>...</td>\n",
       "      <td>...</td>\n",
       "    </tr>\n",
       "    <tr>\n",
       "      <th>511</th>\n",
       "      <td>511</td>\n",
       "      <td>Tel Aviv</td>\n",
       "      <td>1488250981888544779</td>\n",
       "      <td>2022-01-31 20:40:59+00:00</td>\n",
       "      <td>@TheRealNumber6 @RisePDX @Jackthelad1947 @seth...</td>\n",
       "      <td>1.393316e+18</td>\n",
       "      <td>5.938633e+07</td>\n",
       "      <td>NaN</td>\n",
       "      <td>NaN</td>\n",
       "      <td>NaN</td>\n",
       "      <td>122</td>\n",
       "      <td>125</td>\n",
       "      <td>Twitter Web App</td>\n",
       "      <td>5.938633e+07</td>\n",
       "    </tr>\n",
       "    <tr>\n",
       "      <th>512</th>\n",
       "      <td>512</td>\n",
       "      <td>Tel Aviv</td>\n",
       "      <td>1488250981888544779</td>\n",
       "      <td>2022-01-31 20:40:59+00:00</td>\n",
       "      <td>@TheRealNumber6 @RisePDX @Jackthelad1947 @seth...</td>\n",
       "      <td>1.393316e+18</td>\n",
       "      <td>5.938633e+07</td>\n",
       "      <td>NaN</td>\n",
       "      <td>NaN</td>\n",
       "      <td>NaN</td>\n",
       "      <td>122</td>\n",
       "      <td>125</td>\n",
       "      <td>Twitter Web App</td>\n",
       "      <td>5.938633e+07</td>\n",
       "    </tr>\n",
       "    <tr>\n",
       "      <th>513</th>\n",
       "      <td>513</td>\n",
       "      <td>Unceded Squamish Territory</td>\n",
       "      <td>1517841255526510594</td>\n",
       "      <td>2022-04-23 12:22:10+00:00</td>\n",
       "      <td>The past 7 years have been the hottest in reco...</td>\n",
       "      <td>NaN</td>\n",
       "      <td>NaN</td>\n",
       "      <td>NaN</td>\n",
       "      <td>NaN</td>\n",
       "      <td>NaN</td>\n",
       "      <td>149</td>\n",
       "      <td>256</td>\n",
       "      <td>Buffer</td>\n",
       "      <td>1.508848e+07</td>\n",
       "    </tr>\n",
       "    <tr>\n",
       "      <th>514</th>\n",
       "      <td>514</td>\n",
       "      <td>Unceded Squamish Territory</td>\n",
       "      <td>1517841255526510594</td>\n",
       "      <td>2022-04-23 12:22:10+00:00</td>\n",
       "      <td>The past 7 years have been the hottest in reco...</td>\n",
       "      <td>NaN</td>\n",
       "      <td>NaN</td>\n",
       "      <td>NaN</td>\n",
       "      <td>NaN</td>\n",
       "      <td>NaN</td>\n",
       "      <td>149</td>\n",
       "      <td>256</td>\n",
       "      <td>Buffer</td>\n",
       "      <td>1.508848e+07</td>\n",
       "    </tr>\n",
       "    <tr>\n",
       "      <th>515</th>\n",
       "      <td>515</td>\n",
       "      <td>NaN</td>\n",
       "      <td>1517073317416607745</td>\n",
       "      <td>2022-04-21 09:30:39+00:00</td>\n",
       "      <td>Let’s take a look at how this IGU global energ...</td>\n",
       "      <td>NaN</td>\n",
       "      <td>NaN</td>\n",
       "      <td>NaN</td>\n",
       "      <td>NaN</td>\n",
       "      <td>['gas', 'energy']</td>\n",
       "      <td>4</td>\n",
       "      <td>6</td>\n",
       "      <td>SocialPilot.co</td>\n",
       "      <td>4.838571e+09</td>\n",
       "    </tr>\n",
       "  </tbody>\n",
       "</table>\n",
       "<p>516 rows × 14 columns</p>\n",
       "</div>"
      ],
      "text/plain": [
       "     Unnamed: 0               user_location                   id  \\\n",
       "0             0                         NaN  1517969386249854977   \n",
       "1             1                         NaN  1517969260949250048   \n",
       "2             2                      Italia  1517968508813991936   \n",
       "3             3                         NaN  1517967820105170944   \n",
       "4             4                         NaN  1517967450721112064   \n",
       "..          ...                         ...                  ...   \n",
       "511         511                    Tel Aviv  1488250981888544779   \n",
       "512         512                    Tel Aviv  1488250981888544779   \n",
       "513         513  Unceded Squamish Territory  1517841255526510594   \n",
       "514         514  Unceded Squamish Territory  1517841255526510594   \n",
       "515         515                         NaN  1517073317416607745   \n",
       "\n",
       "                          date  \\\n",
       "0    2022-04-23 20:51:18+00:00   \n",
       "1    2022-04-23 20:50:48+00:00   \n",
       "2    2022-04-23 20:47:49+00:00   \n",
       "3    2022-04-23 20:45:05+00:00   \n",
       "4    2022-04-23 20:43:37+00:00   \n",
       "..                         ...   \n",
       "511  2022-01-31 20:40:59+00:00   \n",
       "512  2022-01-31 20:40:59+00:00   \n",
       "513  2022-04-23 12:22:10+00:00   \n",
       "514  2022-04-23 12:22:10+00:00   \n",
       "515  2022-04-21 09:30:39+00:00   \n",
       "\n",
       "                                                  text  in_reply_to_status_id  \\\n",
       "0    Последствия боевых действий на востоке Украины...                    NaN   \n",
       "1    @TheresiaCrone #climatecrisis and #RussiaUkrai...           1.517892e+18   \n",
       "2    #Russia 🇷🇺 / #Ukraine 🇺🇦\\n\\n❗❗Explosions repor...                    NaN   \n",
       "3    #Turkey closes airspace to Russian military ai...                    NaN   \n",
       "4    #NaziRussia #Nazi #NaziRussianArmy #WarCrimes ...                    NaN   \n",
       "..                                                 ...                    ...   \n",
       "511  @TheRealNumber6 @RisePDX @Jackthelad1947 @seth...           1.393316e+18   \n",
       "512  @TheRealNumber6 @RisePDX @Jackthelad1947 @seth...           1.393316e+18   \n",
       "513  The past 7 years have been the hottest in reco...                    NaN   \n",
       "514  The past 7 years have been the hottest in reco...                    NaN   \n",
       "515  Let’s take a look at how this IGU global energ...                    NaN   \n",
       "\n",
       "     in_reply_to_user_id  retweet_original_user  retweet_original_tweet_id  \\\n",
       "0                    NaN                    NaN                        NaN   \n",
       "1           1.193110e+18                    NaN                        NaN   \n",
       "2                    NaN                    NaN                        NaN   \n",
       "3                    NaN                    NaN                        NaN   \n",
       "4                    NaN                    NaN                        NaN   \n",
       "..                   ...                    ...                        ...   \n",
       "511         5.938633e+07                    NaN                        NaN   \n",
       "512         5.938633e+07                    NaN                        NaN   \n",
       "513                  NaN                    NaN                        NaN   \n",
       "514                  NaN                    NaN                        NaN   \n",
       "515                  NaN                    NaN                        NaN   \n",
       "\n",
       "                                              hashtags  retweet_count  \\\n",
       "0    ['Украина', 'Ukraine', 'UkraineWar', 'RussiaUk...              0   \n",
       "1    ['climatecrisis', 'RussiaUkraineWar', 'renewab...              0   \n",
       "2    ['Russia', 'Ukraine', 'UkraineRussianWar', 'Ru...              0   \n",
       "3    ['Turkey', 'Syria', 'Russia', 'Ukraine', 'Russ...              1   \n",
       "4    ['NaziRussia', 'Nazi', 'NaziRussianArmy', 'War...              0   \n",
       "..                                                 ...            ...   \n",
       "511                                                NaN            122   \n",
       "512                                                NaN            122   \n",
       "513                                                NaN            149   \n",
       "514                                                NaN            149   \n",
       "515                                  ['gas', 'energy']              4   \n",
       "\n",
       "     favorite_count               source       user_id  \n",
       "0                 0  Twitter for Android  8.028000e+17  \n",
       "1                 0      Twitter Web App  1.009679e+09  \n",
       "2                 0  Twitter for Android  9.852641e+17  \n",
       "3                 1      Twitter Web App  1.326832e+08  \n",
       "4                 0  Twitter for Android  1.498691e+18  \n",
       "..              ...                  ...           ...  \n",
       "511             125      Twitter Web App  5.938633e+07  \n",
       "512             125      Twitter Web App  5.938633e+07  \n",
       "513             256               Buffer  1.508848e+07  \n",
       "514             256               Buffer  1.508848e+07  \n",
       "515               6       SocialPilot.co  4.838571e+09  \n",
       "\n",
       "[516 rows x 14 columns]"
      ]
     },
     "execution_count": 156,
     "metadata": {},
     "output_type": "execute_result"
    }
   ],
   "source": [
    "twitter_df"
   ]
  },
  {
   "cell_type": "code",
   "execution_count": null,
   "metadata": {},
   "outputs": [],
   "source": []
  }
 ],
 "metadata": {
  "interpreter": {
   "hash": "ac77c34e32d361169ed8893496f5742a396c95324854ab152ba3d17f7fd0aaef"
  },
  "kernelspec": {
   "display_name": "Python 3.8.12 ('time_series')",
   "language": "python",
   "name": "python3"
  },
  "language_info": {
   "codemirror_mode": {
    "name": "ipython",
    "version": 3
   },
   "file_extension": ".py",
   "mimetype": "text/x-python",
   "name": "python",
   "nbconvert_exporter": "python",
   "pygments_lexer": "ipython3",
   "version": "3.8.12"
  },
  "orig_nbformat": 4
 },
 "nbformat": 4,
 "nbformat_minor": 2
}
