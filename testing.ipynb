{
 "cells": [
  {
   "cell_type": "code",
   "execution_count": 1,
   "metadata": {},
   "outputs": [],
   "source": [
    "## Elaborated Analysis\n",
    "%load_ext autoreload\n",
    "%autoreload 2\n",
    "from Socialanalysis_main import SocialDataAnalysis\n",
    "from Socialanalysis_main import SocialDataAnalysisML\n",
    "from Socialanalysis_main import Unlimited_Tweet\n",
    "import pandas as pd \n",
    "import numpy as np\n",
    "import tweepy as tw \n",
    "import os\n"
   ]
  },
  {
   "cell_type": "code",
   "execution_count": null,
   "metadata": {},
   "outputs": [],
   "source": [
    "API_KEY_SECRET = os.environ[\"API_KEY_SECRET_twitter\"]\n",
    "API_KEY= os.environ[\"API_KEY_twitter\"]\n",
    "BARER_TOKEN=os.environ[\"barer_token\"]\n"
   ]
  },
  {
   "cell_type": "code",
   "execution_count": null,
   "metadata": {},
   "outputs": [],
   "source": [
    "import tweepy as tw\n",
    "client = tw.Client(bearer_token=BARER_TOKEN , wait_on_rate_limit= True)\n",
    "search_query=\"#guerra\""
   ]
  },
  {
   "cell_type": "code",
   "execution_count": null,
   "metadata": {},
   "outputs": [],
   "source": [
    "max_results=11"
   ]
  },
  {
   "cell_type": "code",
   "execution_count": null,
   "metadata": {},
   "outputs": [],
   "source": [
    "## recent tweet\n",
    "tweets=[]\n",
    "for tweet in tw.Paginator(client.search_recent_tweets,\n",
    "                          search_query,\n",
    "                          tweet_fields=['id','text','created_at','author_id','entities']).flatten(limit=max_results):\n",
    "    user=client.get_user(id= tweet.author_id)\n",
    "    tweets.append((user,tweet))"
   ]
  },
  {
   "cell_type": "code",
   "execution_count": null,
   "metadata": {},
   "outputs": [],
   "source": [
    "tweets=[]\n",
    "for tweet in tw.Paginator(client.search_all_tweets,\n",
    "                          search_query,\n",
    "                          tweet_fields=['id','text','created_at','author_id','entities']).flatten(limit=max_results):\n",
    "    user=client.get_user(id= tweet.author_id)\n",
    "    tweets.append((user,tweet))"
   ]
  },
  {
   "cell_type": "code",
   "execution_count": null,
   "metadata": {},
   "outputs": [],
   "source": [
    "import pandas as pd \n",
    "\n",
    "df= pd.DataFrame( columns=['id','text','users_id'])\n",
    "df.head()"
   ]
  },
  {
   "cell_type": "code",
   "execution_count": null,
   "metadata": {},
   "outputs": [],
   "source": [
    "for user,tweet in tweets:\n",
    "    id= tweet.id\n",
    "    text = tweet.text \n",
    "    user_id = tweet.author_id\n",
    "    df=df.append(pd.DataFrame([[id ,text,user_id]], columns= ['id' ,'text' ,'user_id']))\n",
    "    #df=df.append({'id':id , 'text':text , 'user_id': user_id})\n",
    "    df=df.reset_index(drop=True)\n",
    "    "
   ]
  },
  {
   "cell_type": "code",
   "execution_count": null,
   "metadata": {},
   "outputs": [],
   "source": [
    "df"
   ]
  },
  {
   "cell_type": "code",
   "execution_count": null,
   "metadata": {},
   "outputs": [],
   "source": [
    "# OAuth2.0 Version \n",
    "import tweepy\n",
    "\n",
    "#Put your Bearer Token in the parenthesis below\n",
    "client = tweepy.Client(bearer_token=BARER_TOKEN)\n",
    "\n",
    "\"\"\"\n",
    "If you don't understand search queries, there is an excellent introduction to it here: \n",
    "https://github.com/twitterdev/getting-started-with-the-twitter-api-v2-for-academic-research/blob/main/modules/5-how-to-write-search-queries.md\n",
    "\"\"\"\n",
    "\n",
    "# Get tweets that contain the hashtag #petday\n",
    "# -is:retweet means I don't want retweets\n",
    "# lang:en is asking for the tweets to be in english\n",
    "query = '#petday -is:retweet lang:en'\n",
    "tweets = client.search_recent_tweets(query=query, tweet_fields=['context_annotations', 'created_at'], max_results=100)\n",
    "\n",
    "\"\"\"\n",
    "What context_annotations are: \n",
    "https://developer.twitter.com/en/docs/twitter-api/annotations/overview\n",
    "\"\"\"\n",
    "for tweet in tweets.data:\n",
    "    print(tweet.text)\n",
    "    if len(tweet.context_annotations) > 0:\n",
    "        print(tweet.context_annotations)"
   ]
  },
  {
   "cell_type": "code",
   "execution_count": null,
   "metadata": {},
   "outputs": [],
   "source": [
    "# OAuth2.0 Version \n",
    "import tweepy\n",
    "\n",
    "#Put your Bearer Token in the parenthesis below\n",
    "client = tweepy.Client(bearer_token=BARER_TOKEN)\n",
    "\n",
    "\"\"\"\n",
    "If you don't understand search queries, there is an excellent introduction to it here: \n",
    "https://github.com/twitterdev/getting-started-with-the-twitter-api-v2-for-academic-research/blob/main/modules/5-how-to-write-search-queries.md\n",
    "\"\"\"\n",
    "\n",
    "# Get tweets that contain the hashtag #petday\n",
    "# -is:retweet means I don't wantretweets\n",
    "# lang:en is asking for the tweets to be in english\n",
    "query = '#petday -is:retweet lang:en'\n",
    "tweets = tweepy.Paginator(client.search_recent_tweets, query=query,\n",
    "                              tweet_fields=['context_annotations', 'created_at'], max_results=100).flatten(limit=1000)\n",
    "\n",
    "for tweet in tweets:\n",
    "    print(tweet.text)\n",
    "    if len(tweet.context_annotations) > 0:\n",
    "        print(tweet.context_annotations)"
   ]
  },
  {
   "cell_type": "code",
   "execution_count": null,
   "metadata": {},
   "outputs": [],
   "source": []
  },
  {
   "cell_type": "code",
   "execution_count": null,
   "metadata": {},
   "outputs": [],
   "source": []
  },
  {
   "cell_type": "code",
   "execution_count": null,
   "metadata": {},
   "outputs": [],
   "source": []
  },
  {
   "cell_type": "code",
   "execution_count": null,
   "metadata": {},
   "outputs": [],
   "source": []
  },
  {
   "cell_type": "code",
   "execution_count": null,
   "metadata": {},
   "outputs": [],
   "source": []
  },
  {
   "cell_type": "code",
   "execution_count": null,
   "metadata": {},
   "outputs": [],
   "source": []
  }
 ],
 "metadata": {
  "interpreter": {
   "hash": "ac77c34e32d361169ed8893496f5742a396c95324854ab152ba3d17f7fd0aaef"
  },
  "kernelspec": {
   "display_name": "Python 3.8.12 ('time_series')",
   "language": "python",
   "name": "python3"
  },
  "language_info": {
   "codemirror_mode": {
    "name": "ipython",
    "version": 3
   },
   "file_extension": ".py",
   "mimetype": "text/x-python",
   "name": "python",
   "nbconvert_exporter": "python",
   "pygments_lexer": "ipython3",
   "version": "3.8.12"
  },
  "orig_nbformat": 4
 },
 "nbformat": 4,
 "nbformat_minor": 2
}
