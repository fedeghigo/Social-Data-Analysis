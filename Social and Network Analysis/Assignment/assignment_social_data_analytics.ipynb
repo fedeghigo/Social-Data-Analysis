{
 "cells": [
  {
   "cell_type": "code",
   "execution_count": 59,
   "metadata": {},
   "outputs": [
    {
     "name": "stdout",
     "output_type": "stream",
     "text": [
      "Group: Federico Innocenti mail: fed.innocenti1@stud.uniroma3.it ,   Daniele Cinque mail : dan.cinque@stud.uniroma3.it ,   Rosalia moffa : ros.moffa@stud.uniroma3.it   e    Giulia orlandi : giu.orlandi2@stud.uniroma3.it\n"
     ]
    }
   ],
   "source": [
    "creator= \"Group: Federico Innocenti mail: fed.innocenti1@stud.uniroma3.it ,   \\\n",
    "Daniele Cinque mail : dan.cinque@stud.uniroma3.it ,   \\\n",
    "Rosalia moffa : ros.moffa@stud.uniroma3.it   \\\n",
    "e    \\\n",
    "Giulia orlandi : giu.orlandi2@stud.uniroma3.it\"\n",
    "\n",
    "print(creator)"
   ]
  },
  {
   "cell_type": "code",
   "execution_count": 60,
   "metadata": {},
   "outputs": [
    {
     "name": "stderr",
     "output_type": "stream",
     "text": [
      "[nltk_data] Error loading wordnet: <urlopen error [Errno 11001]\n",
      "[nltk_data]     getaddrinfo failed>\n"
     ]
    }
   ],
   "source": [
    "import numpy as np\n",
    "import pandas as pd\n",
    "import json, nltk\n",
    "import matplotlib.pyplot as plt\n",
    "\n",
    "import seaborn as sns\n",
    "nltk.download('wordnet')  \n",
    "\n",
    "%matplotlib inline"
   ]
  },
  {
   "cell_type": "code",
   "execution_count": 61,
   "metadata": {},
   "outputs": [],
   "source": [
    "#Installation of Hugging Faces Library \n",
    "\n",
    "#! pip install transformers"
   ]
  },
  {
   "cell_type": "code",
   "execution_count": 62,
   "metadata": {},
   "outputs": [],
   "source": [
    "#Installation of Hugging Faces Dataset \n",
    "# !pip install datasets"
   ]
  },
  {
   "cell_type": "code",
   "execution_count": 63,
   "metadata": {},
   "outputs": [],
   "source": [
    "#!pip install PyTorch\n",
    "#!pip install TensorFlow "
   ]
  },
  {
   "cell_type": "code",
   "execution_count": 64,
   "metadata": {},
   "outputs": [],
   "source": [
    "## 1 Using Different approach for Text Processing and Vectorization and Compare Result \n",
    "## 2 Vary the model and compare with Multinomial Naive Bayes \n",
    "## 3 use texblob \n",
    "## 4 create a vocabulary of positive/negative words which positive/neg words are found in tweet classified as positive/negative , which is their distrib ?= "
   ]
  },
  {
   "cell_type": "markdown",
   "metadata": {},
   "source": [
    "### Step 0 : Creation of DF; Part of Creation of a subset of Amazon Review from Hugging Faces , it is commented because we directly import it as csv for seek of reproducibility"
   ]
  },
  {
   "cell_type": "code",
   "execution_count": 65,
   "metadata": {},
   "outputs": [],
   "source": [
    "#from transformers import pipeline"
   ]
  },
  {
   "cell_type": "code",
   "execution_count": 66,
   "metadata": {},
   "outputs": [],
   "source": [
    "#from datasets import load_dataset\n",
    "#dataset_train = load_dataset('amazon_polarity', split='train')\n"
   ]
  },
  {
   "cell_type": "code",
   "execution_count": 67,
   "metadata": {},
   "outputs": [],
   "source": [
    "#dataset_train"
   ]
  },
  {
   "cell_type": "code",
   "execution_count": 68,
   "metadata": {},
   "outputs": [],
   "source": [
    "#df = pd.DataFrame(dataset)"
   ]
  },
  {
   "cell_type": "code",
   "execution_count": 69,
   "metadata": {},
   "outputs": [],
   "source": [
    "#df[:99782].to_csv(\"amazon_review.csv\", index=False)"
   ]
  },
  {
   "cell_type": "markdown",
   "metadata": {},
   "source": [
    "## Step 1 : Import Amazon Review and Pre-Processing"
   ]
  },
  {
   "cell_type": "code",
   "execution_count": 70,
   "metadata": {},
   "outputs": [
    {
     "data": {
      "text/html": [
       "<div>\n",
       "<style scoped>\n",
       "    .dataframe tbody tr th:only-of-type {\n",
       "        vertical-align: middle;\n",
       "    }\n",
       "\n",
       "    .dataframe tbody tr th {\n",
       "        vertical-align: top;\n",
       "    }\n",
       "\n",
       "    .dataframe thead th {\n",
       "        text-align: right;\n",
       "    }\n",
       "</style>\n",
       "<table border=\"1\" class=\"dataframe\">\n",
       "  <thead>\n",
       "    <tr style=\"text-align: right;\">\n",
       "      <th></th>\n",
       "      <th>label</th>\n",
       "      <th>title</th>\n",
       "      <th>content</th>\n",
       "    </tr>\n",
       "  </thead>\n",
       "  <tbody>\n",
       "    <tr>\n",
       "      <th>0</th>\n",
       "      <td>1</td>\n",
       "      <td>Stuning even for the non-gamer</td>\n",
       "      <td>This sound track was beautiful! It paints the ...</td>\n",
       "    </tr>\n",
       "    <tr>\n",
       "      <th>1</th>\n",
       "      <td>1</td>\n",
       "      <td>The best soundtrack ever to anything.</td>\n",
       "      <td>I'm reading a lot of reviews saying that this ...</td>\n",
       "    </tr>\n",
       "    <tr>\n",
       "      <th>2</th>\n",
       "      <td>1</td>\n",
       "      <td>Amazing!</td>\n",
       "      <td>This soundtrack is my favorite music of all ti...</td>\n",
       "    </tr>\n",
       "    <tr>\n",
       "      <th>3</th>\n",
       "      <td>1</td>\n",
       "      <td>Excellent Soundtrack</td>\n",
       "      <td>I truly like this soundtrack and I enjoy video...</td>\n",
       "    </tr>\n",
       "    <tr>\n",
       "      <th>4</th>\n",
       "      <td>1</td>\n",
       "      <td>Remember, Pull Your Jaw Off The Floor After He...</td>\n",
       "      <td>If you've played the game, you know how divine...</td>\n",
       "    </tr>\n",
       "    <tr>\n",
       "      <th>...</th>\n",
       "      <td>...</td>\n",
       "      <td>...</td>\n",
       "      <td>...</td>\n",
       "    </tr>\n",
       "    <tr>\n",
       "      <th>99777</th>\n",
       "      <td>1</td>\n",
       "      <td>THE POLY SCI MAJOR WAS FORCED TO READ THIS</td>\n",
       "      <td>The last thing i wanted to do was invest time ...</td>\n",
       "    </tr>\n",
       "    <tr>\n",
       "      <th>99778</th>\n",
       "      <td>0</td>\n",
       "      <td>Moby Dick DVD</td>\n",
       "      <td>You are never too old to learn something new. ...</td>\n",
       "    </tr>\n",
       "    <tr>\n",
       "      <th>99779</th>\n",
       "      <td>1</td>\n",
       "      <td>John Huston does himself &amp; Melville proud</td>\n",
       "      <td>Huston, although necessarily simplifying the c...</td>\n",
       "    </tr>\n",
       "    <tr>\n",
       "      <th>99780</th>\n",
       "      <td>0</td>\n",
       "      <td>Great movie, false advertising</td>\n",
       "      <td>One of the truly great movies by John Huston a...</td>\n",
       "    </tr>\n",
       "    <tr>\n",
       "      <th>99781</th>\n",
       "      <td>0</td>\n",
       "      <td>worst quality DVD I've ever seen</td>\n",
       "      <td>Don't waste your money on this DVD (original 1...</td>\n",
       "    </tr>\n",
       "  </tbody>\n",
       "</table>\n",
       "<p>99782 rows × 3 columns</p>\n",
       "</div>"
      ],
      "text/plain": [
       "       label                                              title  \\\n",
       "0          1                     Stuning even for the non-gamer   \n",
       "1          1              The best soundtrack ever to anything.   \n",
       "2          1                                           Amazing!   \n",
       "3          1                               Excellent Soundtrack   \n",
       "4          1  Remember, Pull Your Jaw Off The Floor After He...   \n",
       "...      ...                                                ...   \n",
       "99777      1         THE POLY SCI MAJOR WAS FORCED TO READ THIS   \n",
       "99778      0                                      Moby Dick DVD   \n",
       "99779      1          John Huston does himself & Melville proud   \n",
       "99780      0                     Great movie, false advertising   \n",
       "99781      0                   worst quality DVD I've ever seen   \n",
       "\n",
       "                                                 content  \n",
       "0      This sound track was beautiful! It paints the ...  \n",
       "1      I'm reading a lot of reviews saying that this ...  \n",
       "2      This soundtrack is my favorite music of all ti...  \n",
       "3      I truly like this soundtrack and I enjoy video...  \n",
       "4      If you've played the game, you know how divine...  \n",
       "...                                                  ...  \n",
       "99777  The last thing i wanted to do was invest time ...  \n",
       "99778  You are never too old to learn something new. ...  \n",
       "99779  Huston, although necessarily simplifying the c...  \n",
       "99780  One of the truly great movies by John Huston a...  \n",
       "99781  Don't waste your money on this DVD (original 1...  \n",
       "\n",
       "[99782 rows x 3 columns]"
      ]
     },
     "execution_count": 70,
     "metadata": {},
     "output_type": "execute_result"
    }
   ],
   "source": [
    "df= pd.read_csv(\"amazon_review.csv\")\n",
    "df"
   ]
  },
  {
   "cell_type": "code",
   "execution_count": 71,
   "metadata": {},
   "outputs": [
    {
     "data": {
      "text/html": [
       "<div>\n",
       "<style scoped>\n",
       "    .dataframe tbody tr th:only-of-type {\n",
       "        vertical-align: middle;\n",
       "    }\n",
       "\n",
       "    .dataframe tbody tr th {\n",
       "        vertical-align: top;\n",
       "    }\n",
       "\n",
       "    .dataframe thead th {\n",
       "        text-align: right;\n",
       "    }\n",
       "</style>\n",
       "<table border=\"1\" class=\"dataframe\">\n",
       "  <thead>\n",
       "    <tr style=\"text-align: right;\">\n",
       "      <th></th>\n",
       "      <th>label</th>\n",
       "    </tr>\n",
       "  </thead>\n",
       "  <tbody>\n",
       "    <tr>\n",
       "      <th>count</th>\n",
       "      <td>99782.000000</td>\n",
       "    </tr>\n",
       "    <tr>\n",
       "      <th>mean</th>\n",
       "      <td>0.512748</td>\n",
       "    </tr>\n",
       "    <tr>\n",
       "      <th>std</th>\n",
       "      <td>0.499840</td>\n",
       "    </tr>\n",
       "    <tr>\n",
       "      <th>min</th>\n",
       "      <td>0.000000</td>\n",
       "    </tr>\n",
       "    <tr>\n",
       "      <th>25%</th>\n",
       "      <td>0.000000</td>\n",
       "    </tr>\n",
       "    <tr>\n",
       "      <th>50%</th>\n",
       "      <td>1.000000</td>\n",
       "    </tr>\n",
       "    <tr>\n",
       "      <th>75%</th>\n",
       "      <td>1.000000</td>\n",
       "    </tr>\n",
       "    <tr>\n",
       "      <th>max</th>\n",
       "      <td>1.000000</td>\n",
       "    </tr>\n",
       "  </tbody>\n",
       "</table>\n",
       "</div>"
      ],
      "text/plain": [
       "              label\n",
       "count  99782.000000\n",
       "mean       0.512748\n",
       "std        0.499840\n",
       "min        0.000000\n",
       "25%        0.000000\n",
       "50%        1.000000\n",
       "75%        1.000000\n",
       "max        1.000000"
      ]
     },
     "execution_count": 71,
     "metadata": {},
     "output_type": "execute_result"
    }
   ],
   "source": [
    "df.describe()"
   ]
  },
  {
   "cell_type": "code",
   "execution_count": 72,
   "metadata": {},
   "outputs": [],
   "source": [
    "with open('contractions.json', 'r') as f:\n",
    "    contractions_dict = json.load(f)\n",
    "contractions = contractions_dict['contractions']"
   ]
  },
  {
   "cell_type": "code",
   "execution_count": 73,
   "metadata": {},
   "outputs": [],
   "source": [
    "def emoji(tweet):\n",
    "    # Smile -- :), : ), :-), (:, ( :, (-:, :') , :O\n",
    "    tweet = re.sub(r'(:\\s?\\)|:-\\)|\\(\\s?:|\\(-:|:\\'\\)|:O)', ' positiveemoji ', tweet)\n",
    "    # Laugh -- :D, : D, :-D, xD, x-D, XD, X-D\n",
    "    tweet = re.sub(r'(:\\s?D|:-D|x-?D|X-?D)', ' positiveemoji ', tweet)\n",
    "    # Love -- <3, :*\n",
    "    tweet = re.sub(r'(<3|:\\*)', ' positiveemoji ', tweet)\n",
    "    # Wink -- ;-), ;), ;-D, ;D, (;,  (-; , @-)\n",
    "    tweet = re.sub(r'(;-?\\)|;-?D|\\(-?;|@-\\))', ' positiveemoji ', tweet)\n",
    "    # Sad -- :-(, : (, :(, ):, )-:, :-/ , :-|\n",
    "    tweet = re.sub(r'(:\\s?\\(|:-\\(|\\)\\s?:|\\)-:|:-/|:-\\|)', ' negetiveemoji ', tweet)\n",
    "    # Cry -- :,(, :'(, :\"(\n",
    "    tweet = re.sub(r'(:,\\(|:\\'\\(|:\"\\()', ' negetiveemoji ', tweet)\n",
    "    return tweet"
   ]
  },
  {
   "cell_type": "code",
   "execution_count": 74,
   "metadata": {},
   "outputs": [],
   "source": [
    "import re #for using regular expressions\n",
    "\n",
    "def process_tweet(tweet):\n",
    "    tweet = tweet.lower()                                             # Lowercases the string\n",
    "    tweet = re.sub('@[^\\s]+', '', tweet)                              # Removes usernames\n",
    "    tweet = re.sub('((www\\.[^\\s]+)|(https?://[^\\s]+))', ' ', tweet)   # Remove URLs\n",
    "    tweet = re.sub(r\"\\d+\", \" \", str(tweet))                           # Removes all digits\n",
    "    tweet = re.sub('&quot;',\" \", tweet)                               # Remove (&quot;) \n",
    "    tweet = emoji(tweet)                                              # Replaces Emojis\n",
    "    tweet = re.sub(r\"\\b[a-zA-Z]\\b\", \"\", str(tweet))                   # Removes all single characters\n",
    "    \n",
    "    #simple tokenization using split()\n",
    "    for word in tweet.split():\n",
    "        if word.lower() in contractions:\n",
    "            tweet = tweet.replace(word, contractions[word.lower()])   # Replaces contractions\n",
    "    tweet = re.sub(r\"[^\\w\\s]\", \" \", str(tweet))                       # Removes all punctuations\n",
    "    tweet = re.sub(r'(.)\\1+', r'\\1\\1', tweet)    # Convert more than 2 letter repetitions to 2 letter (e.g., cooool)\n",
    "    tweet = re.sub(r\"\\s+\", \" \", str(tweet))      # Replaces extra spaces with a single space    \n",
    "    return tweet\n"
   ]
  },
  {
   "cell_type": "code",
   "execution_count": 75,
   "metadata": {},
   "outputs": [
    {
     "data": {
      "text/html": [
       "<div>\n",
       "<style scoped>\n",
       "    .dataframe tbody tr th:only-of-type {\n",
       "        vertical-align: middle;\n",
       "    }\n",
       "\n",
       "    .dataframe tbody tr th {\n",
       "        vertical-align: top;\n",
       "    }\n",
       "\n",
       "    .dataframe thead th {\n",
       "        text-align: right;\n",
       "    }\n",
       "</style>\n",
       "<table border=\"1\" class=\"dataframe\">\n",
       "  <thead>\n",
       "    <tr style=\"text-align: right;\">\n",
       "      <th></th>\n",
       "      <th>label</th>\n",
       "      <th>title</th>\n",
       "      <th>content</th>\n",
       "      <th>processed_tweet</th>\n",
       "    </tr>\n",
       "  </thead>\n",
       "  <tbody>\n",
       "    <tr>\n",
       "      <th>0</th>\n",
       "      <td>1</td>\n",
       "      <td>Stuning even for the non-gamer</td>\n",
       "      <td>This sound track was beautiful! It paints the ...</td>\n",
       "      <td>this sound track was beautiful it paints the s...</td>\n",
       "    </tr>\n",
       "    <tr>\n",
       "      <th>1</th>\n",
       "      <td>1</td>\n",
       "      <td>The best soundtrack ever to anything.</td>\n",
       "      <td>I'm reading a lot of reviews saying that this ...</td>\n",
       "      <td>reading lot of reviews saying that this is th...</td>\n",
       "    </tr>\n",
       "    <tr>\n",
       "      <th>2</th>\n",
       "      <td>1</td>\n",
       "      <td>Amazing!</td>\n",
       "      <td>This soundtrack is my favorite music of all ti...</td>\n",
       "      <td>this soundtrack is my favorite music of all ti...</td>\n",
       "    </tr>\n",
       "    <tr>\n",
       "      <th>3</th>\n",
       "      <td>1</td>\n",
       "      <td>Excellent Soundtrack</td>\n",
       "      <td>I truly like this soundtrack and I enjoy video...</td>\n",
       "      <td>truly like this soundtrack and enjoy video ga...</td>\n",
       "    </tr>\n",
       "    <tr>\n",
       "      <th>4</th>\n",
       "      <td>1</td>\n",
       "      <td>Remember, Pull Your Jaw Off The Floor After He...</td>\n",
       "      <td>If you've played the game, you know how divine...</td>\n",
       "      <td>if you have played the game you know how divin...</td>\n",
       "    </tr>\n",
       "    <tr>\n",
       "      <th>5</th>\n",
       "      <td>1</td>\n",
       "      <td>an absolute masterpiece</td>\n",
       "      <td>I am quite sure any of you actually taking the...</td>\n",
       "      <td>am quite sure any of you actually taking the ...</td>\n",
       "    </tr>\n",
       "    <tr>\n",
       "      <th>6</th>\n",
       "      <td>0</td>\n",
       "      <td>Buyer beware</td>\n",
       "      <td>This is a self-published book, and if you want...</td>\n",
       "      <td>this is self published book and if you want to...</td>\n",
       "    </tr>\n",
       "    <tr>\n",
       "      <th>7</th>\n",
       "      <td>1</td>\n",
       "      <td>Glorious story</td>\n",
       "      <td>I loved Whisper of the wicked saints. The stor...</td>\n",
       "      <td>loved whisper of the wicked saints the story ...</td>\n",
       "    </tr>\n",
       "    <tr>\n",
       "      <th>8</th>\n",
       "      <td>1</td>\n",
       "      <td>A FIVE STAR BOOK</td>\n",
       "      <td>I just finished reading Whisper of the Wicked ...</td>\n",
       "      <td>just finished reading whisper of the wicked s...</td>\n",
       "    </tr>\n",
       "    <tr>\n",
       "      <th>9</th>\n",
       "      <td>1</td>\n",
       "      <td>Whispers of the Wicked Saints</td>\n",
       "      <td>This was a easy to read book that made me want...</td>\n",
       "      <td>this was easy to read book that made me want t...</td>\n",
       "    </tr>\n",
       "  </tbody>\n",
       "</table>\n",
       "</div>"
      ],
      "text/plain": [
       "   label                                              title  \\\n",
       "0      1                     Stuning even for the non-gamer   \n",
       "1      1              The best soundtrack ever to anything.   \n",
       "2      1                                           Amazing!   \n",
       "3      1                               Excellent Soundtrack   \n",
       "4      1  Remember, Pull Your Jaw Off The Floor After He...   \n",
       "5      1                            an absolute masterpiece   \n",
       "6      0                                       Buyer beware   \n",
       "7      1                                     Glorious story   \n",
       "8      1                                   A FIVE STAR BOOK   \n",
       "9      1                      Whispers of the Wicked Saints   \n",
       "\n",
       "                                             content  \\\n",
       "0  This sound track was beautiful! It paints the ...   \n",
       "1  I'm reading a lot of reviews saying that this ...   \n",
       "2  This soundtrack is my favorite music of all ti...   \n",
       "3  I truly like this soundtrack and I enjoy video...   \n",
       "4  If you've played the game, you know how divine...   \n",
       "5  I am quite sure any of you actually taking the...   \n",
       "6  This is a self-published book, and if you want...   \n",
       "7  I loved Whisper of the wicked saints. The stor...   \n",
       "8  I just finished reading Whisper of the Wicked ...   \n",
       "9  This was a easy to read book that made me want...   \n",
       "\n",
       "                                     processed_tweet  \n",
       "0  this sound track was beautiful it paints the s...  \n",
       "1   reading lot of reviews saying that this is th...  \n",
       "2  this soundtrack is my favorite music of all ti...  \n",
       "3   truly like this soundtrack and enjoy video ga...  \n",
       "4  if you have played the game you know how divin...  \n",
       "5   am quite sure any of you actually taking the ...  \n",
       "6  this is self published book and if you want to...  \n",
       "7   loved whisper of the wicked saints the story ...  \n",
       "8   just finished reading whisper of the wicked s...  \n",
       "9  this was easy to read book that made me want t...  "
      ]
     },
     "execution_count": 75,
     "metadata": {},
     "output_type": "execute_result"
    }
   ],
   "source": [
    "df['processed_tweet'] = np.vectorize(process_tweet)(df[\"content\"])\n",
    "\n",
    "df.head(10)"
   ]
  },
  {
   "cell_type": "markdown",
   "metadata": {},
   "source": [
    "## Step 2 : processing   \n",
    "in particular we apply:    \n",
    "- stopword removal   \n",
    "- stemming\n",
    "- lemmatization "
   ]
  },
  {
   "cell_type": "markdown",
   "metadata": {},
   "source": [
    "### Stopword Removal df ( df['clean_tweet_stopwords_removal'] )"
   ]
  },
  {
   "cell_type": "code",
   "execution_count": 76,
   "metadata": {},
   "outputs": [
    {
     "name": "stdout",
     "output_type": "stream",
     "text": [
      "['i', 'me', 'my', 'myself', 'we', 'our', 'ours', 'ourselves', 'you', \"you're\", \"you've\", \"you'll\", \"you'd\", 'your', 'yours', 'yourself', 'yourselves', 'he', 'him', 'his', 'himself', 'she', \"she's\", 'her', 'hers', 'herself', 'it', \"it's\", 'its', 'itself', 'they', 'them', 'their', 'theirs', 'themselves', 'what', 'which', 'who', 'whom', 'this', 'that', \"that'll\", 'these', 'those', 'am', 'is', 'are', 'was', 'were', 'be', 'been', 'being', 'have', 'has', 'had', 'having', 'do', 'does', 'did', 'doing', 'a', 'an', 'the', 'and', 'but', 'if', 'or', 'because', 'as', 'until', 'while', 'of', 'at', 'by', 'for', 'with', 'about', 'against', 'between', 'into', 'through', 'during', 'before', 'after', 'above', 'below', 'to', 'from', 'up', 'down', 'in', 'out', 'on', 'off', 'over', 'under', 'again', 'further', 'then', 'once', 'here', 'there', 'when', 'where', 'why', 'how', 'all', 'any', 'both', 'each', 'few', 'more', 'most', 'other', 'some', 'such', 'no', 'nor', 'not', 'only', 'own', 'same', 'so', 'than', 'too', 'very', 's', 't', 'can', 'will', 'just', 'don', \"don't\", 'should', \"should've\", 'now', 'd', 'll', 'm', 'o', 're', 've', 'y', 'ain', 'aren', \"aren't\", 'couldn', \"couldn't\", 'didn', \"didn't\", 'doesn', \"doesn't\", 'hadn', \"hadn't\", 'hasn', \"hasn't\", 'haven', \"haven't\", 'isn', \"isn't\", 'ma', 'mightn', \"mightn't\", 'mustn', \"mustn't\", 'needn', \"needn't\", 'shan', \"shan't\", 'shouldn', \"shouldn't\", 'wasn', \"wasn't\", 'weren', \"weren't\", 'won', \"won't\", 'wouldn', \"wouldn't\"]\n"
     ]
    },
    {
     "name": "stderr",
     "output_type": "stream",
     "text": [
      "[nltk_data] Error loading stopwords: <urlopen error [Errno 11001]\n",
      "[nltk_data]     getaddrinfo failed>\n"
     ]
    }
   ],
   "source": [
    "import nltk\n",
    "nltk.download('stopwords')\n",
    "from nltk.corpus import stopwords\n",
    "print(stopwords.words('english'))"
   ]
  },
  {
   "cell_type": "code",
   "execution_count": 77,
   "metadata": {},
   "outputs": [],
   "source": [
    "def stopwords_removal(tweet):\n",
    "    from nltk.corpus import stopwords\n",
    "    stopwords = stopwords.words(\"english\")\n",
    "    \n",
    "    cleaned_tweet = \"\"\n",
    "\n",
    "    for w in tweet.split():\n",
    "        if w not in stopwords:\n",
    "            cleaned_tweet = cleaned_tweet +\" \"+w\n",
    "\n",
    "    return cleaned_tweet"
   ]
  },
  {
   "cell_type": "code",
   "execution_count": 78,
   "metadata": {},
   "outputs": [
    {
     "data": {
      "text/html": [
       "<div>\n",
       "<style scoped>\n",
       "    .dataframe tbody tr th:only-of-type {\n",
       "        vertical-align: middle;\n",
       "    }\n",
       "\n",
       "    .dataframe tbody tr th {\n",
       "        vertical-align: top;\n",
       "    }\n",
       "\n",
       "    .dataframe thead th {\n",
       "        text-align: right;\n",
       "    }\n",
       "</style>\n",
       "<table border=\"1\" class=\"dataframe\">\n",
       "  <thead>\n",
       "    <tr style=\"text-align: right;\">\n",
       "      <th></th>\n",
       "      <th>label</th>\n",
       "      <th>title</th>\n",
       "      <th>content</th>\n",
       "      <th>processed_tweet</th>\n",
       "      <th>clean_tweet_stopwords_removal</th>\n",
       "    </tr>\n",
       "  </thead>\n",
       "  <tbody>\n",
       "    <tr>\n",
       "      <th>0</th>\n",
       "      <td>1</td>\n",
       "      <td>Stuning even for the non-gamer</td>\n",
       "      <td>This sound track was beautiful! It paints the ...</td>\n",
       "      <td>this sound track was beautiful it paints the s...</td>\n",
       "      <td>sound track beautiful paints senery mind well...</td>\n",
       "    </tr>\n",
       "    <tr>\n",
       "      <th>1</th>\n",
       "      <td>1</td>\n",
       "      <td>The best soundtrack ever to anything.</td>\n",
       "      <td>I'm reading a lot of reviews saying that this ...</td>\n",
       "      <td>reading lot of reviews saying that this is th...</td>\n",
       "      <td>reading lot reviews saying best game soundtra...</td>\n",
       "    </tr>\n",
       "    <tr>\n",
       "      <th>2</th>\n",
       "      <td>1</td>\n",
       "      <td>Amazing!</td>\n",
       "      <td>This soundtrack is my favorite music of all ti...</td>\n",
       "      <td>this soundtrack is my favorite music of all ti...</td>\n",
       "      <td>soundtrack favorite music time hands intense ...</td>\n",
       "    </tr>\n",
       "    <tr>\n",
       "      <th>3</th>\n",
       "      <td>1</td>\n",
       "      <td>Excellent Soundtrack</td>\n",
       "      <td>I truly like this soundtrack and I enjoy video...</td>\n",
       "      <td>truly like this soundtrack and enjoy video ga...</td>\n",
       "      <td>truly like soundtrack enjoy video game music ...</td>\n",
       "    </tr>\n",
       "    <tr>\n",
       "      <th>4</th>\n",
       "      <td>1</td>\n",
       "      <td>Remember, Pull Your Jaw Off The Floor After He...</td>\n",
       "      <td>If you've played the game, you know how divine...</td>\n",
       "      <td>if you have played the game you know how divin...</td>\n",
       "      <td>played game know divine music every single so...</td>\n",
       "    </tr>\n",
       "    <tr>\n",
       "      <th>5</th>\n",
       "      <td>1</td>\n",
       "      <td>an absolute masterpiece</td>\n",
       "      <td>I am quite sure any of you actually taking the...</td>\n",
       "      <td>am quite sure any of you actually taking the ...</td>\n",
       "      <td>quite sure actually taking time read played g...</td>\n",
       "    </tr>\n",
       "    <tr>\n",
       "      <th>6</th>\n",
       "      <td>0</td>\n",
       "      <td>Buyer beware</td>\n",
       "      <td>This is a self-published book, and if you want...</td>\n",
       "      <td>this is self published book and if you want to...</td>\n",
       "      <td>self published book want know read paragraphs...</td>\n",
       "    </tr>\n",
       "    <tr>\n",
       "      <th>7</th>\n",
       "      <td>1</td>\n",
       "      <td>Glorious story</td>\n",
       "      <td>I loved Whisper of the wicked saints. The stor...</td>\n",
       "      <td>loved whisper of the wicked saints the story ...</td>\n",
       "      <td>loved whisper wicked saints story amazing ple...</td>\n",
       "    </tr>\n",
       "    <tr>\n",
       "      <th>8</th>\n",
       "      <td>1</td>\n",
       "      <td>A FIVE STAR BOOK</td>\n",
       "      <td>I just finished reading Whisper of the Wicked ...</td>\n",
       "      <td>just finished reading whisper of the wicked s...</td>\n",
       "      <td>finished reading whisper wicked saints fell l...</td>\n",
       "    </tr>\n",
       "    <tr>\n",
       "      <th>9</th>\n",
       "      <td>1</td>\n",
       "      <td>Whispers of the Wicked Saints</td>\n",
       "      <td>This was a easy to read book that made me want...</td>\n",
       "      <td>this was easy to read book that made me want t...</td>\n",
       "      <td>easy read book made want keep reading easy pu...</td>\n",
       "    </tr>\n",
       "  </tbody>\n",
       "</table>\n",
       "</div>"
      ],
      "text/plain": [
       "   label                                              title  \\\n",
       "0      1                     Stuning even for the non-gamer   \n",
       "1      1              The best soundtrack ever to anything.   \n",
       "2      1                                           Amazing!   \n",
       "3      1                               Excellent Soundtrack   \n",
       "4      1  Remember, Pull Your Jaw Off The Floor After He...   \n",
       "5      1                            an absolute masterpiece   \n",
       "6      0                                       Buyer beware   \n",
       "7      1                                     Glorious story   \n",
       "8      1                                   A FIVE STAR BOOK   \n",
       "9      1                      Whispers of the Wicked Saints   \n",
       "\n",
       "                                             content  \\\n",
       "0  This sound track was beautiful! It paints the ...   \n",
       "1  I'm reading a lot of reviews saying that this ...   \n",
       "2  This soundtrack is my favorite music of all ti...   \n",
       "3  I truly like this soundtrack and I enjoy video...   \n",
       "4  If you've played the game, you know how divine...   \n",
       "5  I am quite sure any of you actually taking the...   \n",
       "6  This is a self-published book, and if you want...   \n",
       "7  I loved Whisper of the wicked saints. The stor...   \n",
       "8  I just finished reading Whisper of the Wicked ...   \n",
       "9  This was a easy to read book that made me want...   \n",
       "\n",
       "                                     processed_tweet  \\\n",
       "0  this sound track was beautiful it paints the s...   \n",
       "1   reading lot of reviews saying that this is th...   \n",
       "2  this soundtrack is my favorite music of all ti...   \n",
       "3   truly like this soundtrack and enjoy video ga...   \n",
       "4  if you have played the game you know how divin...   \n",
       "5   am quite sure any of you actually taking the ...   \n",
       "6  this is self published book and if you want to...   \n",
       "7   loved whisper of the wicked saints the story ...   \n",
       "8   just finished reading whisper of the wicked s...   \n",
       "9  this was easy to read book that made me want t...   \n",
       "\n",
       "                       clean_tweet_stopwords_removal  \n",
       "0   sound track beautiful paints senery mind well...  \n",
       "1   reading lot reviews saying best game soundtra...  \n",
       "2   soundtrack favorite music time hands intense ...  \n",
       "3   truly like soundtrack enjoy video game music ...  \n",
       "4   played game know divine music every single so...  \n",
       "5   quite sure actually taking time read played g...  \n",
       "6   self published book want know read paragraphs...  \n",
       "7   loved whisper wicked saints story amazing ple...  \n",
       "8   finished reading whisper wicked saints fell l...  \n",
       "9   easy read book made want keep reading easy pu...  "
      ]
     },
     "execution_count": 78,
     "metadata": {},
     "output_type": "execute_result"
    }
   ],
   "source": [
    "processed_tweet = df.columns.values[3]\n",
    "\n",
    "df['clean_tweet_stopwords_removal'] = np.vectorize(stopwords_removal)(df[processed_tweet])\n",
    "\n",
    "df.head(10)"
   ]
  },
  {
   "cell_type": "markdown",
   "metadata": {},
   "source": [
    "### Stemming df (df['clean_stemmed_tweet'] )"
   ]
  },
  {
   "cell_type": "code",
   "execution_count": 79,
   "metadata": {},
   "outputs": [],
   "source": [
    "\n",
    "def tweet_stemmer(tweet):\n",
    "    from nltk.stem import SnowballStemmer\n",
    "\n",
    "    snowball = SnowballStemmer(\"english\")\n",
    "\n",
    "    stemmed_tweet = \"\"\n",
    "    for w in tweet.split():\n",
    "        stemmed_tweet = stemmed_tweet +\" \"+snowball.stem(w)\n",
    "\n",
    "    return stemmed_tweet"
   ]
  },
  {
   "cell_type": "code",
   "execution_count": 80,
   "metadata": {},
   "outputs": [
    {
     "data": {
      "text/html": [
       "<div>\n",
       "<style scoped>\n",
       "    .dataframe tbody tr th:only-of-type {\n",
       "        vertical-align: middle;\n",
       "    }\n",
       "\n",
       "    .dataframe tbody tr th {\n",
       "        vertical-align: top;\n",
       "    }\n",
       "\n",
       "    .dataframe thead th {\n",
       "        text-align: right;\n",
       "    }\n",
       "</style>\n",
       "<table border=\"1\" class=\"dataframe\">\n",
       "  <thead>\n",
       "    <tr style=\"text-align: right;\">\n",
       "      <th></th>\n",
       "      <th>label</th>\n",
       "      <th>title</th>\n",
       "      <th>content</th>\n",
       "      <th>processed_tweet</th>\n",
       "      <th>clean_tweet_stopwords_removal</th>\n",
       "      <th>clean_stemmed_tweet</th>\n",
       "    </tr>\n",
       "  </thead>\n",
       "  <tbody>\n",
       "    <tr>\n",
       "      <th>0</th>\n",
       "      <td>1</td>\n",
       "      <td>Stuning even for the non-gamer</td>\n",
       "      <td>This sound track was beautiful! It paints the ...</td>\n",
       "      <td>this sound track was beautiful it paints the s...</td>\n",
       "      <td>sound track beautiful paints senery mind well...</td>\n",
       "      <td>sound track beauti paint seneri mind well wou...</td>\n",
       "    </tr>\n",
       "    <tr>\n",
       "      <th>1</th>\n",
       "      <td>1</td>\n",
       "      <td>The best soundtrack ever to anything.</td>\n",
       "      <td>I'm reading a lot of reviews saying that this ...</td>\n",
       "      <td>reading lot of reviews saying that this is th...</td>\n",
       "      <td>reading lot reviews saying best game soundtra...</td>\n",
       "      <td>read lot review say best game soundtrack figu...</td>\n",
       "    </tr>\n",
       "    <tr>\n",
       "      <th>2</th>\n",
       "      <td>1</td>\n",
       "      <td>Amazing!</td>\n",
       "      <td>This soundtrack is my favorite music of all ti...</td>\n",
       "      <td>this soundtrack is my favorite music of all ti...</td>\n",
       "      <td>soundtrack favorite music time hands intense ...</td>\n",
       "      <td>soundtrack favorit music time hand intens sad...</td>\n",
       "    </tr>\n",
       "    <tr>\n",
       "      <th>3</th>\n",
       "      <td>1</td>\n",
       "      <td>Excellent Soundtrack</td>\n",
       "      <td>I truly like this soundtrack and I enjoy video...</td>\n",
       "      <td>truly like this soundtrack and enjoy video ga...</td>\n",
       "      <td>truly like soundtrack enjoy video game music ...</td>\n",
       "      <td>truli like soundtrack enjoy video game music ...</td>\n",
       "    </tr>\n",
       "    <tr>\n",
       "      <th>4</th>\n",
       "      <td>1</td>\n",
       "      <td>Remember, Pull Your Jaw Off The Floor After He...</td>\n",
       "      <td>If you've played the game, you know how divine...</td>\n",
       "      <td>if you have played the game you know how divin...</td>\n",
       "      <td>played game know divine music every single so...</td>\n",
       "      <td>play game know divin music everi singl song t...</td>\n",
       "    </tr>\n",
       "    <tr>\n",
       "      <th>5</th>\n",
       "      <td>1</td>\n",
       "      <td>an absolute masterpiece</td>\n",
       "      <td>I am quite sure any of you actually taking the...</td>\n",
       "      <td>am quite sure any of you actually taking the ...</td>\n",
       "      <td>quite sure actually taking time read played g...</td>\n",
       "      <td>quit sure actual take time read play game lea...</td>\n",
       "    </tr>\n",
       "    <tr>\n",
       "      <th>6</th>\n",
       "      <td>0</td>\n",
       "      <td>Buyer beware</td>\n",
       "      <td>This is a self-published book, and if you want...</td>\n",
       "      <td>this is self published book and if you want to...</td>\n",
       "      <td>self published book want know read paragraphs...</td>\n",
       "      <td>self publish book want know read paragraph st...</td>\n",
       "    </tr>\n",
       "    <tr>\n",
       "      <th>7</th>\n",
       "      <td>1</td>\n",
       "      <td>Glorious story</td>\n",
       "      <td>I loved Whisper of the wicked saints. The stor...</td>\n",
       "      <td>loved whisper of the wicked saints the story ...</td>\n",
       "      <td>loved whisper wicked saints story amazing ple...</td>\n",
       "      <td>love whisper wick saint stori amaz pleasant s...</td>\n",
       "    </tr>\n",
       "    <tr>\n",
       "      <th>8</th>\n",
       "      <td>1</td>\n",
       "      <td>A FIVE STAR BOOK</td>\n",
       "      <td>I just finished reading Whisper of the Wicked ...</td>\n",
       "      <td>just finished reading whisper of the wicked s...</td>\n",
       "      <td>finished reading whisper wicked saints fell l...</td>\n",
       "      <td>finish read whisper wick saint fell love cara...</td>\n",
       "    </tr>\n",
       "    <tr>\n",
       "      <th>9</th>\n",
       "      <td>1</td>\n",
       "      <td>Whispers of the Wicked Saints</td>\n",
       "      <td>This was a easy to read book that made me want...</td>\n",
       "      <td>this was easy to read book that made me want t...</td>\n",
       "      <td>easy read book made want keep reading easy pu...</td>\n",
       "      <td>easi read book made want keep read easi put l...</td>\n",
       "    </tr>\n",
       "  </tbody>\n",
       "</table>\n",
       "</div>"
      ],
      "text/plain": [
       "   label                                              title  \\\n",
       "0      1                     Stuning even for the non-gamer   \n",
       "1      1              The best soundtrack ever to anything.   \n",
       "2      1                                           Amazing!   \n",
       "3      1                               Excellent Soundtrack   \n",
       "4      1  Remember, Pull Your Jaw Off The Floor After He...   \n",
       "5      1                            an absolute masterpiece   \n",
       "6      0                                       Buyer beware   \n",
       "7      1                                     Glorious story   \n",
       "8      1                                   A FIVE STAR BOOK   \n",
       "9      1                      Whispers of the Wicked Saints   \n",
       "\n",
       "                                             content  \\\n",
       "0  This sound track was beautiful! It paints the ...   \n",
       "1  I'm reading a lot of reviews saying that this ...   \n",
       "2  This soundtrack is my favorite music of all ti...   \n",
       "3  I truly like this soundtrack and I enjoy video...   \n",
       "4  If you've played the game, you know how divine...   \n",
       "5  I am quite sure any of you actually taking the...   \n",
       "6  This is a self-published book, and if you want...   \n",
       "7  I loved Whisper of the wicked saints. The stor...   \n",
       "8  I just finished reading Whisper of the Wicked ...   \n",
       "9  This was a easy to read book that made me want...   \n",
       "\n",
       "                                     processed_tweet  \\\n",
       "0  this sound track was beautiful it paints the s...   \n",
       "1   reading lot of reviews saying that this is th...   \n",
       "2  this soundtrack is my favorite music of all ti...   \n",
       "3   truly like this soundtrack and enjoy video ga...   \n",
       "4  if you have played the game you know how divin...   \n",
       "5   am quite sure any of you actually taking the ...   \n",
       "6  this is self published book and if you want to...   \n",
       "7   loved whisper of the wicked saints the story ...   \n",
       "8   just finished reading whisper of the wicked s...   \n",
       "9  this was easy to read book that made me want t...   \n",
       "\n",
       "                       clean_tweet_stopwords_removal  \\\n",
       "0   sound track beautiful paints senery mind well...   \n",
       "1   reading lot reviews saying best game soundtra...   \n",
       "2   soundtrack favorite music time hands intense ...   \n",
       "3   truly like soundtrack enjoy video game music ...   \n",
       "4   played game know divine music every single so...   \n",
       "5   quite sure actually taking time read played g...   \n",
       "6   self published book want know read paragraphs...   \n",
       "7   loved whisper wicked saints story amazing ple...   \n",
       "8   finished reading whisper wicked saints fell l...   \n",
       "9   easy read book made want keep reading easy pu...   \n",
       "\n",
       "                                 clean_stemmed_tweet  \n",
       "0   sound track beauti paint seneri mind well wou...  \n",
       "1   read lot review say best game soundtrack figu...  \n",
       "2   soundtrack favorit music time hand intens sad...  \n",
       "3   truli like soundtrack enjoy video game music ...  \n",
       "4   play game know divin music everi singl song t...  \n",
       "5   quit sure actual take time read play game lea...  \n",
       "6   self publish book want know read paragraph st...  \n",
       "7   love whisper wick saint stori amaz pleasant s...  \n",
       "8   finish read whisper wick saint fell love cara...  \n",
       "9   easi read book made want keep read easi put l...  "
      ]
     },
     "execution_count": 80,
     "metadata": {},
     "output_type": "execute_result"
    }
   ],
   "source": [
    "clean_tweet = df.columns.values[4]\n",
    "\n",
    "df['clean_stemmed_tweet'] = np.vectorize(tweet_stemmer)(df[clean_tweet])\n",
    "\n",
    "df.head(10)"
   ]
  },
  {
   "cell_type": "markdown",
   "metadata": {},
   "source": [
    "### Lemmatization df :df['clean_lemmatized_tweet'])"
   ]
  },
  {
   "cell_type": "code",
   "execution_count": 81,
   "metadata": {},
   "outputs": [
    {
     "name": "stderr",
     "output_type": "stream",
     "text": [
      "[nltk_data] Downloading package omw-1.4 to\n",
      "[nltk_data]     C:\\Users\\finnocenti\\AppData\\Roaming\\nltk_data...\n",
      "[nltk_data]   Package omw-1.4 is already up-to-date!\n"
     ]
    },
    {
     "data": {
      "text/plain": [
       "True"
      ]
     },
     "execution_count": 81,
     "metadata": {},
     "output_type": "execute_result"
    }
   ],
   "source": [
    "nltk.download('omw-1.4')"
   ]
  },
  {
   "cell_type": "code",
   "execution_count": 82,
   "metadata": {},
   "outputs": [],
   "source": [
    "from nltk import WordNetLemmatizer\n",
    "lemmatizer = WordNetLemmatizer()\n",
    "\n",
    "#def lemmatize_tweets(tweet):\n",
    "#  tweet = lemmatizer.lemmatize(tweet , pos =\"a\")\n",
    "#  return tweet"
   ]
  },
  {
   "cell_type": "code",
   "execution_count": 83,
   "metadata": {},
   "outputs": [],
   "source": [
    "def tweet_lemmatizer(tweet):\n",
    "    from nltk import WordNetLemmatizer\n",
    "\n",
    "    lemma = WordNetLemmatizer()\n",
    "    \n",
    "    lemmatized_tweet = \"\"\n",
    "    \n",
    "    for w in tweet.split():\n",
    "        lemmatized_tweet = lemmatized_tweet+\" \"+lemma.lemmatize(w, pos='v')\n",
    "    return lemmatized_tweet"
   ]
  },
  {
   "cell_type": "code",
   "execution_count": 84,
   "metadata": {},
   "outputs": [
    {
     "data": {
      "text/plain": [
       "'processed_tweet'"
      ]
     },
     "execution_count": 84,
     "metadata": {},
     "output_type": "execute_result"
    }
   ],
   "source": [
    "df.columns.values[3]"
   ]
  },
  {
   "cell_type": "code",
   "execution_count": 85,
   "metadata": {},
   "outputs": [],
   "source": [
    "clean_tweet = df.columns.values[3]\n",
    "df['clean_lemmatized_tweet'] = np.vectorize(tweet_lemmatizer)(df[clean_tweet])\n"
   ]
  },
  {
   "cell_type": "code",
   "execution_count": 86,
   "metadata": {},
   "outputs": [
    {
     "data": {
      "text/html": [
       "<div>\n",
       "<style scoped>\n",
       "    .dataframe tbody tr th:only-of-type {\n",
       "        vertical-align: middle;\n",
       "    }\n",
       "\n",
       "    .dataframe tbody tr th {\n",
       "        vertical-align: top;\n",
       "    }\n",
       "\n",
       "    .dataframe thead th {\n",
       "        text-align: right;\n",
       "    }\n",
       "</style>\n",
       "<table border=\"1\" class=\"dataframe\">\n",
       "  <thead>\n",
       "    <tr style=\"text-align: right;\">\n",
       "      <th></th>\n",
       "      <th>label</th>\n",
       "      <th>title</th>\n",
       "      <th>content</th>\n",
       "      <th>processed_tweet</th>\n",
       "      <th>clean_tweet_stopwords_removal</th>\n",
       "      <th>clean_stemmed_tweet</th>\n",
       "      <th>clean_lemmatized_tweet</th>\n",
       "    </tr>\n",
       "  </thead>\n",
       "  <tbody>\n",
       "    <tr>\n",
       "      <th>0</th>\n",
       "      <td>1</td>\n",
       "      <td>Stuning even for the non-gamer</td>\n",
       "      <td>This sound track was beautiful! It paints the ...</td>\n",
       "      <td>this sound track was beautiful it paints the s...</td>\n",
       "      <td>sound track beautiful paints senery mind well...</td>\n",
       "      <td>sound track beauti paint seneri mind well wou...</td>\n",
       "      <td>this sound track be beautiful it paint the se...</td>\n",
       "    </tr>\n",
       "    <tr>\n",
       "      <th>1</th>\n",
       "      <td>1</td>\n",
       "      <td>The best soundtrack ever to anything.</td>\n",
       "      <td>I'm reading a lot of reviews saying that this ...</td>\n",
       "      <td>reading lot of reviews saying that this is th...</td>\n",
       "      <td>reading lot reviews saying best game soundtra...</td>\n",
       "      <td>read lot review say best game soundtrack figu...</td>\n",
       "      <td>read lot of review say that this be the best ...</td>\n",
       "    </tr>\n",
       "    <tr>\n",
       "      <th>2</th>\n",
       "      <td>1</td>\n",
       "      <td>Amazing!</td>\n",
       "      <td>This soundtrack is my favorite music of all ti...</td>\n",
       "      <td>this soundtrack is my favorite music of all ti...</td>\n",
       "      <td>soundtrack favorite music time hands intense ...</td>\n",
       "      <td>soundtrack favorit music time hand intens sad...</td>\n",
       "      <td>this soundtrack be my favorite music of all t...</td>\n",
       "    </tr>\n",
       "    <tr>\n",
       "      <th>3</th>\n",
       "      <td>1</td>\n",
       "      <td>Excellent Soundtrack</td>\n",
       "      <td>I truly like this soundtrack and I enjoy video...</td>\n",
       "      <td>truly like this soundtrack and enjoy video ga...</td>\n",
       "      <td>truly like soundtrack enjoy video game music ...</td>\n",
       "      <td>truli like soundtrack enjoy video game music ...</td>\n",
       "      <td>truly like this soundtrack and enjoy video ga...</td>\n",
       "    </tr>\n",
       "    <tr>\n",
       "      <th>4</th>\n",
       "      <td>1</td>\n",
       "      <td>Remember, Pull Your Jaw Off The Floor After He...</td>\n",
       "      <td>If you've played the game, you know how divine...</td>\n",
       "      <td>if you have played the game you know how divin...</td>\n",
       "      <td>played game know divine music every single so...</td>\n",
       "      <td>play game know divin music everi singl song t...</td>\n",
       "      <td>if you have play the game you know how divine...</td>\n",
       "    </tr>\n",
       "    <tr>\n",
       "      <th>...</th>\n",
       "      <td>...</td>\n",
       "      <td>...</td>\n",
       "      <td>...</td>\n",
       "      <td>...</td>\n",
       "      <td>...</td>\n",
       "      <td>...</td>\n",
       "      <td>...</td>\n",
       "    </tr>\n",
       "    <tr>\n",
       "      <th>99777</th>\n",
       "      <td>1</td>\n",
       "      <td>THE POLY SCI MAJOR WAS FORCED TO READ THIS</td>\n",
       "      <td>The last thing i wanted to do was invest time ...</td>\n",
       "      <td>the last thing wanted to do was invest time re...</td>\n",
       "      <td>last thing wanted invest time reading massive...</td>\n",
       "      <td>last thing want invest time read massiv tomb ...</td>\n",
       "      <td>the last thing want to do be invest time read...</td>\n",
       "    </tr>\n",
       "    <tr>\n",
       "      <th>99778</th>\n",
       "      <td>0</td>\n",
       "      <td>Moby Dick DVD</td>\n",
       "      <td>You are never too old to learn something new. ...</td>\n",
       "      <td>you are never too old to learn something new w...</td>\n",
       "      <td>never old learn something new aware dvd regio...</td>\n",
       "      <td>never old learn someth new awar dvd region on...</td>\n",
       "      <td>you be never too old to learn something new b...</td>\n",
       "    </tr>\n",
       "    <tr>\n",
       "      <th>99779</th>\n",
       "      <td>1</td>\n",
       "      <td>John Huston does himself &amp; Melville proud</td>\n",
       "      <td>Huston, although necessarily simplifying the c...</td>\n",
       "      <td>huston although necessarily simplifying the co...</td>\n",
       "      <td>huston although necessarily simplifying compl...</td>\n",
       "      <td>huston although necessarili simplifi complex ...</td>\n",
       "      <td>huston although necessarily simplify the comp...</td>\n",
       "    </tr>\n",
       "    <tr>\n",
       "      <th>99780</th>\n",
       "      <td>0</td>\n",
       "      <td>Great movie, false advertising</td>\n",
       "      <td>One of the truly great movies by John Huston a...</td>\n",
       "      <td>one of the truly great movies by john huston a...</td>\n",
       "      <td>one truly great movies john huston first give...</td>\n",
       "      <td>one truli great movi john huston first give r...</td>\n",
       "      <td>one of the truly great movies by john huston ...</td>\n",
       "    </tr>\n",
       "    <tr>\n",
       "      <th>99781</th>\n",
       "      <td>0</td>\n",
       "      <td>worst quality DVD I've ever seen</td>\n",
       "      <td>Don't waste your money on this DVD (original 1...</td>\n",
       "      <td>don waste your money on this dvd original vers...</td>\n",
       "      <td>waste money dvd original version looks like r...</td>\n",
       "      <td>wast money dvd origin version look like recor...</td>\n",
       "      <td>don waste your money on this dvd original ver...</td>\n",
       "    </tr>\n",
       "  </tbody>\n",
       "</table>\n",
       "<p>99782 rows × 7 columns</p>\n",
       "</div>"
      ],
      "text/plain": [
       "       label                                              title  \\\n",
       "0          1                     Stuning even for the non-gamer   \n",
       "1          1              The best soundtrack ever to anything.   \n",
       "2          1                                           Amazing!   \n",
       "3          1                               Excellent Soundtrack   \n",
       "4          1  Remember, Pull Your Jaw Off The Floor After He...   \n",
       "...      ...                                                ...   \n",
       "99777      1         THE POLY SCI MAJOR WAS FORCED TO READ THIS   \n",
       "99778      0                                      Moby Dick DVD   \n",
       "99779      1          John Huston does himself & Melville proud   \n",
       "99780      0                     Great movie, false advertising   \n",
       "99781      0                   worst quality DVD I've ever seen   \n",
       "\n",
       "                                                 content  \\\n",
       "0      This sound track was beautiful! It paints the ...   \n",
       "1      I'm reading a lot of reviews saying that this ...   \n",
       "2      This soundtrack is my favorite music of all ti...   \n",
       "3      I truly like this soundtrack and I enjoy video...   \n",
       "4      If you've played the game, you know how divine...   \n",
       "...                                                  ...   \n",
       "99777  The last thing i wanted to do was invest time ...   \n",
       "99778  You are never too old to learn something new. ...   \n",
       "99779  Huston, although necessarily simplifying the c...   \n",
       "99780  One of the truly great movies by John Huston a...   \n",
       "99781  Don't waste your money on this DVD (original 1...   \n",
       "\n",
       "                                         processed_tweet  \\\n",
       "0      this sound track was beautiful it paints the s...   \n",
       "1       reading lot of reviews saying that this is th...   \n",
       "2      this soundtrack is my favorite music of all ti...   \n",
       "3       truly like this soundtrack and enjoy video ga...   \n",
       "4      if you have played the game you know how divin...   \n",
       "...                                                  ...   \n",
       "99777  the last thing wanted to do was invest time re...   \n",
       "99778  you are never too old to learn something new w...   \n",
       "99779  huston although necessarily simplifying the co...   \n",
       "99780  one of the truly great movies by john huston a...   \n",
       "99781  don waste your money on this dvd original vers...   \n",
       "\n",
       "                           clean_tweet_stopwords_removal  \\\n",
       "0       sound track beautiful paints senery mind well...   \n",
       "1       reading lot reviews saying best game soundtra...   \n",
       "2       soundtrack favorite music time hands intense ...   \n",
       "3       truly like soundtrack enjoy video game music ...   \n",
       "4       played game know divine music every single so...   \n",
       "...                                                  ...   \n",
       "99777   last thing wanted invest time reading massive...   \n",
       "99778   never old learn something new aware dvd regio...   \n",
       "99779   huston although necessarily simplifying compl...   \n",
       "99780   one truly great movies john huston first give...   \n",
       "99781   waste money dvd original version looks like r...   \n",
       "\n",
       "                                     clean_stemmed_tweet  \\\n",
       "0       sound track beauti paint seneri mind well wou...   \n",
       "1       read lot review say best game soundtrack figu...   \n",
       "2       soundtrack favorit music time hand intens sad...   \n",
       "3       truli like soundtrack enjoy video game music ...   \n",
       "4       play game know divin music everi singl song t...   \n",
       "...                                                  ...   \n",
       "99777   last thing want invest time read massiv tomb ...   \n",
       "99778   never old learn someth new awar dvd region on...   \n",
       "99779   huston although necessarili simplifi complex ...   \n",
       "99780   one truli great movi john huston first give r...   \n",
       "99781   wast money dvd origin version look like recor...   \n",
       "\n",
       "                                  clean_lemmatized_tweet  \n",
       "0       this sound track be beautiful it paint the se...  \n",
       "1       read lot of review say that this be the best ...  \n",
       "2       this soundtrack be my favorite music of all t...  \n",
       "3       truly like this soundtrack and enjoy video ga...  \n",
       "4       if you have play the game you know how divine...  \n",
       "...                                                  ...  \n",
       "99777   the last thing want to do be invest time read...  \n",
       "99778   you be never too old to learn something new b...  \n",
       "99779   huston although necessarily simplify the comp...  \n",
       "99780   one of the truly great movies by john huston ...  \n",
       "99781   don waste your money on this dvd original ver...  \n",
       "\n",
       "[99782 rows x 7 columns]"
      ]
     },
     "execution_count": 86,
     "metadata": {},
     "output_type": "execute_result"
    }
   ],
   "source": [
    "df"
   ]
  },
  {
   "cell_type": "markdown",
   "metadata": {},
   "source": [
    "## Step 3 : Feature Extraction "
   ]
  },
  {
   "cell_type": "code",
   "execution_count": 87,
   "metadata": {},
   "outputs": [],
   "source": [
    "tweets_4 = df['clean_lemmatized_tweet']\n",
    "tweets_3 = df['clean_stemmed_tweet']\n",
    "tweets_2 = df['clean_tweet_stopwords_removal']\n",
    "tweets_1 = df['processed_tweet']"
   ]
  },
  {
   "cell_type": "markdown",
   "metadata": {},
   "source": [
    "using **TF-IDF** (*Term-Frequency-Inverse-Document Frequency*)"
   ]
  },
  {
   "cell_type": "code",
   "execution_count": 88,
   "metadata": {},
   "outputs": [],
   "source": [
    "def feature_extraction(tweets):\n",
    "    from sklearn.feature_extraction.text import TfidfVectorizer \n",
    "\n",
    "    tf_idf_vectorizer = TfidfVectorizer(use_idf = True, ngram_range=(1,3))\n",
    "    final_vectorized_data_TFIDF = tf_idf_vectorizer.fit_transform(tweets)\n",
    "    return final_vectorized_data_TFIDF\n"
   ]
  },
  {
   "cell_type": "code",
   "execution_count": 89,
   "metadata": {},
   "outputs": [],
   "source": [
    "feature_extraction_1 = feature_extraction(tweets_1)"
   ]
  },
  {
   "cell_type": "code",
   "execution_count": 90,
   "metadata": {},
   "outputs": [],
   "source": [
    "feature_extraction_2= feature_extraction(tweets_2)"
   ]
  },
  {
   "cell_type": "code",
   "execution_count": 91,
   "metadata": {},
   "outputs": [],
   "source": [
    "feature_extraction_3= feature_extraction(tweets_3)"
   ]
  },
  {
   "cell_type": "code",
   "execution_count": 92,
   "metadata": {},
   "outputs": [],
   "source": [
    "feature_extraction_4= feature_extraction(tweets_4)"
   ]
  },
  {
   "cell_type": "markdown",
   "metadata": {},
   "source": [
    "## Step 4: Sentiment Classification Definition"
   ]
  },
  {
   "cell_type": "code",
   "execution_count": 93,
   "metadata": {},
   "outputs": [],
   "source": [
    "def split(total_data , final_vectorized_data , sentiment):\n",
    "    #with CountVectorizer\n",
    "    from sklearn.model_selection import train_test_split\n",
    "    X_train, X_test, y_train, y_test = train_test_split(final_vectorized_data, total_data[sentiment],\n",
    "                                                    test_size=0.2, random_state=69)  \n",
    "    return  X_train, X_test, y_train, y_test"
   ]
  },
  {
   "cell_type": "code",
   "execution_count": 94,
   "metadata": {},
   "outputs": [],
   "source": [
    "sentiment = df.columns.values[0]\n",
    "X_train_1, X_test_1, y_train_1, y_test_1 = split(df , feature_extraction_1 , sentiment)"
   ]
  },
  {
   "cell_type": "code",
   "execution_count": 95,
   "metadata": {},
   "outputs": [],
   "source": [
    "sentiment = df.columns.values[0]\n",
    "X_train_2, X_test_2, y_train_2, y_test_2 = split(df , feature_extraction_2 , sentiment)"
   ]
  },
  {
   "cell_type": "code",
   "execution_count": 96,
   "metadata": {},
   "outputs": [],
   "source": [
    "sentiment = df.columns.values[0]\n",
    "X_train_3, X_test_3, y_train_3, y_test_3 = split(df , feature_extraction_3 , sentiment)"
   ]
  },
  {
   "cell_type": "code",
   "execution_count": 97,
   "metadata": {},
   "outputs": [],
   "source": [
    "sentiment = df.columns.values[0]\n",
    "X_train_4, X_test_4, y_train_4, y_test_4 = split(df , feature_extraction_4 , sentiment)"
   ]
  },
  {
   "cell_type": "code",
   "execution_count": 98,
   "metadata": {},
   "outputs": [
    {
     "name": "stdout",
     "output_type": "stream",
     "text": [
      "X_train_shape:  (79825, 5935537)\n",
      "X_test_shape:  (19957, 5935537)\n",
      "y_train_shape:  (79825,)\n",
      "y_test_shape:  (19957,)\n"
     ]
    }
   ],
   "source": [
    "print(\"X_train_shape: \",X_train_1.shape)\n",
    "print(\"X_test_shape: \",X_test_1.shape)\n",
    "print(\"y_train_shape: \",y_train_1.shape)\n",
    "print(\"y_test_shape: \",y_test_1.shape)"
   ]
  },
  {
   "cell_type": "code",
   "execution_count": 99,
   "metadata": {},
   "outputs": [],
   "source": [
    "def MultinomialNB(X_train, y_train , X_test ):\n",
    "    from sklearn.naive_bayes import MultinomialNB  # Naive Bayes Classifier\n",
    "\n",
    "    model_naive = MultinomialNB().fit(X_train, y_train) \n",
    "    predicted_naive = model_naive.predict(X_test)\n",
    "    return predicted_naive , model_naive"
   ]
  },
  {
   "cell_type": "code",
   "execution_count": 100,
   "metadata": {},
   "outputs": [],
   "source": [
    "def plot_confusion_matrix(y_test,predicted_naive , title= 'Confusion Matrix for Naive Bayes'):\n",
    "    from sklearn.metrics import confusion_matrix\n",
    "\n",
    "    plt.figure(dpi=100)\n",
    "    mat = confusion_matrix(y_test, predicted_naive)\n",
    "    sns.heatmap(mat.T, annot=True, fmt='d', cbar=False)\n",
    "\n",
    "    plt.title(title)\n",
    "    plt.xlabel('true label')\n",
    "    plt.ylabel('predicted label')\n",
    "    plt.show()"
   ]
  },
  {
   "cell_type": "code",
   "execution_count": 101,
   "metadata": {},
   "outputs": [],
   "source": [
    "def accuracy(predicted_naive ,y_test, title=\"Accuracy with Naive-bayes:\" ):\n",
    "    from sklearn.metrics import accuracy_score\n",
    "\n",
    "    score_naive = accuracy_score(predicted_naive, y_test)\n",
    "    return print(title, score_naive)"
   ]
  },
  {
   "cell_type": "code",
   "execution_count": 102,
   "metadata": {},
   "outputs": [],
   "source": [
    "def classification_report(predicted_naive , y_test):\n",
    "    from sklearn.metrics import classification_report\n",
    "    return print(classification_report(y_test, predicted_naive))"
   ]
  },
  {
   "cell_type": "code",
   "execution_count": 103,
   "metadata": {},
   "outputs": [],
   "source": [
    "def roc_curve(X_test ,y_test , model_naive):\n",
    "    from sklearn.metrics import roc_curve\n",
    "    from sklearn.metrics import auc\n",
    "\n",
    "    # calculate the fpr and tpr for all thresholds of the classification\n",
    "    probs = model_naive.predict_proba(X_test)\n",
    "    preds = probs[:,1]\n",
    "    fpr, tpr, threshold = roc_curve(y_test, preds)\n",
    "    roc_auc = auc(fpr, tpr)\n",
    "    plt.figure(dpi=100)                       # to plot high quality graph\n",
    "    plt.title('Receiver Operating Characteristic')\n",
    "    plt.plot(fpr, tpr, 'b', label = 'AUC = %0.2f' % roc_auc)\n",
    "    plt.legend(loc = 'lower right')\n",
    "    plt.plot([0, 1], [0, 1],'r--')\n",
    "    plt.ylabel('True Positive Rate', color='g')\n",
    "    plt.xlabel('False Positive Rate', color='r')\n",
    "    plt.show()"
   ]
  },
  {
   "cell_type": "code",
   "execution_count": 104,
   "metadata": {},
   "outputs": [],
   "source": [
    "def final_summary(X_test , y_test ,predicted_naive , model_naive, title_confusion_matrix= 'Confusion Matrix for Naive Bayes' , title_accuracy= \"Accuracy with Naive-bayes:\" ):\n",
    "    plot_confusion_matrix(y_test,predicted_naive , title= title_confusion_matrix)\n",
    "    accuracy(predicted_naive ,y_test, title=title_accuracy)\n",
    "    classification_report(predicted_naive , y_test)\n",
    "    roc_curve(X_test ,y_test , model_naive)\n"
   ]
  },
  {
   "cell_type": "markdown",
   "metadata": {},
   "source": [
    "## Modelling Multinomial Naive Bayes for all 4 different dataset "
   ]
  },
  {
   "cell_type": "markdown",
   "metadata": {},
   "source": [
    "tweets_4 are lemmatized tweet   \n",
    "tweets_3 are stemmed tweet   \n",
    "tweets_2 are stopwords removal tweet   \n",
    "tweets_1 are only processed tweet   "
   ]
  },
  {
   "cell_type": "code",
   "execution_count": 105,
   "metadata": {},
   "outputs": [
    {
     "data": {
      "image/png": "[encoded data removed]",
      "text/plain": [
       "<Figure size 600x400 with 1 Axes>"
      ]
     },
     "metadata": {
      "needs_background": "light"
     },
     "output_type": "display_data"
    },
    {
     "name": "stdout",
     "output_type": "stream",
     "text": [
      "Accuracy with Naive-bayes: 0.8832489853184347\n",
      "              precision    recall  f1-score   support\n",
      "\n",
      "           0       0.89      0.86      0.88      9740\n",
      "           1       0.87      0.90      0.89     10217\n",
      "\n",
      "    accuracy                           0.88     19957\n",
      "   macro avg       0.88      0.88      0.88     19957\n",
      "weighted avg       0.88      0.88      0.88     19957\n",
      "\n"
     ]
    },
    {
     "data": {
      "image/png": "[encoded data removed]",
      "text/plain": [
       "<Figure size 600x400 with 1 Axes>"
      ]
     },
     "metadata": {
      "needs_background": "light"
     },
     "output_type": "display_data"
    }
   ],
   "source": [
    "X_train=X_train_1 \n",
    "y_train=y_train_1\n",
    "X_test=X_test_1\n",
    "y_test= y_test_1 \n",
    "title_confusion_matrix= 'Confusion Matrix for Naive Bayes' \n",
    "title_accuracy= \"Accuracy with Naive-bayes:\"\n",
    "\n",
    "predicted_naive , model_naive = MultinomialNB(X_train, y_train , X_test )\n",
    "final_summary(X_test , y_test ,predicted_naive , model_naive, title_confusion_matrix= title_confusion_matrix , title_accuracy= title_accuracy )"
   ]
  },
  {
   "cell_type": "code",
   "execution_count": 106,
   "metadata": {},
   "outputs": [
    {
     "data": {
      "image/png": "[encoded data removed]",
      "text/plain": [
       "<Figure size 600x400 with 1 Axes>"
      ]
     },
     "metadata": {
      "needs_background": "light"
     },
     "output_type": "display_data"
    },
    {
     "name": "stdout",
     "output_type": "stream",
     "text": [
      "Accuracy with Naive-bayes: 0.8539860700506088\n",
      "              precision    recall  f1-score   support\n",
      "\n",
      "           0       0.88      0.81      0.84      9740\n",
      "           1       0.83      0.90      0.86     10217\n",
      "\n",
      "    accuracy                           0.85     19957\n",
      "   macro avg       0.86      0.85      0.85     19957\n",
      "weighted avg       0.86      0.85      0.85     19957\n",
      "\n"
     ]
    },
    {
     "data": {
      "image/png": "[encoded data removed]",
      "text/plain": [
       "<Figure size 600x400 with 1 Axes>"
      ]
     },
     "metadata": {
      "needs_background": "light"
     },
     "output_type": "display_data"
    }
   ],
   "source": [
    "X_train=X_train_2 \n",
    "y_train=y_train_2\n",
    "X_test=X_test_2\n",
    "y_test= y_test_2 \n",
    "title_confusion_matrix= 'Confusion Matrix for Naive Bayes' \n",
    "title_accuracy= \"Accuracy with Naive-bayes:\"\n",
    "\n",
    "predicted_naive , model_naive = MultinomialNB(X_train, y_train , X_test )\n",
    "final_summary(X_test , y_test ,predicted_naive , model_naive, title_confusion_matrix= title_confusion_matrix , title_accuracy= title_accuracy )"
   ]
  },
  {
   "cell_type": "code",
   "execution_count": 107,
   "metadata": {},
   "outputs": [
    {
     "data": {
      "image/png": "[encoded data removed]",
      "text/plain": [
       "<Figure size 600x400 with 1 Axes>"
      ]
     },
     "metadata": {
      "needs_background": "light"
     },
     "output_type": "display_data"
    },
    {
     "name": "stdout",
     "output_type": "stream",
     "text": [
      "Accuracy with Naive-bayes: 0.8498271283259007\n",
      "              precision    recall  f1-score   support\n",
      "\n",
      "           0       0.88      0.80      0.84      9740\n",
      "           1       0.83      0.90      0.86     10217\n",
      "\n",
      "    accuracy                           0.85     19957\n",
      "   macro avg       0.85      0.85      0.85     19957\n",
      "weighted avg       0.85      0.85      0.85     19957\n",
      "\n"
     ]
    },
    {
     "data": {
      "image/png": "[encoded data removed]",
      "text/plain": [
       "<Figure size 600x400 with 1 Axes>"
      ]
     },
     "metadata": {
      "needs_background": "light"
     },
     "output_type": "display_data"
    }
   ],
   "source": [
    "X_train=X_train_3\n",
    "y_train=y_train_3\n",
    "X_test=X_test_3\n",
    "y_test= y_test_3 \n",
    "title_confusion_matrix= 'Confusion Matrix for Naive Bayes' \n",
    "title_accuracy= \"Accuracy with Naive-bayes:\"\n",
    "\n",
    "predicted_naive , model_naive = MultinomialNB(X_train, y_train , X_test )\n",
    "final_summary(X_test , y_test ,predicted_naive , model_naive, title_confusion_matrix= title_confusion_matrix , title_accuracy= title_accuracy )"
   ]
  },
  {
   "cell_type": "code",
   "execution_count": 108,
   "metadata": {},
   "outputs": [
    {
     "data": {
      "image/png": "[encoded data removed]",
      "text/plain": [
       "<Figure size 600x400 with 1 Axes>"
      ]
     },
     "metadata": {
      "needs_background": "light"
     },
     "output_type": "display_data"
    },
    {
     "name": "stdout",
     "output_type": "stream",
     "text": [
      "Accuracy with Naive-bayes: 0.8832990930500576\n",
      "              precision    recall  f1-score   support\n",
      "\n",
      "           0       0.89      0.87      0.88      9740\n",
      "           1       0.88      0.90      0.89     10217\n",
      "\n",
      "    accuracy                           0.88     19957\n",
      "   macro avg       0.88      0.88      0.88     19957\n",
      "weighted avg       0.88      0.88      0.88     19957\n",
      "\n"
     ]
    },
    {
     "data": {
      "image/png": "[encoded data removed]",
      "text/plain": [
       "<Figure size 600x400 with 1 Axes>"
      ]
     },
     "metadata": {
      "needs_background": "light"
     },
     "output_type": "display_data"
    }
   ],
   "source": [
    "X_train=X_train_4\n",
    "y_train=y_train_4\n",
    "X_test=X_test_4\n",
    "y_test= y_test_4 \n",
    "title_confusion_matrix= 'Confusion Matrix for Naive Bayes' \n",
    "title_accuracy= \"Accuracy with Naive-bayes:\"\n",
    "\n",
    "predicted_naive , model_naive = MultinomialNB(X_train, y_train , X_test )\n",
    "final_summary(X_test , y_test ,predicted_naive , model_naive, title_confusion_matrix= title_confusion_matrix , title_accuracy= title_accuracy )"
   ]
  },
  {
   "cell_type": "markdown",
   "metadata": {},
   "source": [
    "## Bernoulli Model "
   ]
  },
  {
   "cell_type": "code",
   "execution_count": 109,
   "metadata": {},
   "outputs": [],
   "source": [
    "from sklearn.naive_bayes import BernoulliNB "
   ]
  },
  {
   "cell_type": "code",
   "execution_count": 110,
   "metadata": {},
   "outputs": [],
   "source": [
    "def BernoulliNB (X_train, y_train , X_test ):\n",
    "    from sklearn.naive_bayes import BernoulliNB   # Naive Bayes Classifier\n",
    "\n",
    "    model_naive = BernoulliNB().fit(X_train, y_train) \n",
    "    predicted_naive = model_naive.predict(X_test)\n",
    "    return predicted_naive , model_naive"
   ]
  },
  {
   "cell_type": "code",
   "execution_count": 111,
   "metadata": {},
   "outputs": [
    {
     "data": {
      "image/png": "[encoded data removed]",
      "text/plain": [
       "<Figure size 600x400 with 1 Axes>"
      ]
     },
     "metadata": {
      "needs_background": "light"
     },
     "output_type": "display_data"
    },
    {
     "name": "stdout",
     "output_type": "stream",
     "text": [
      "Accuracy with Naive-bayes Bernoulli: 0.8404068747807787\n",
      "              precision    recall  f1-score   support\n",
      "\n",
      "           0       0.92      0.74      0.82      9740\n",
      "           1       0.79      0.94      0.86     10217\n",
      "\n",
      "    accuracy                           0.84     19957\n",
      "   macro avg       0.86      0.84      0.84     19957\n",
      "weighted avg       0.85      0.84      0.84     19957\n",
      "\n"
     ]
    },
    {
     "data": {
      "image/png": "[encoded data removed]",
      "text/plain": [
       "<Figure size 600x400 with 1 Axes>"
      ]
     },
     "metadata": {
      "needs_background": "light"
     },
     "output_type": "display_data"
    }
   ],
   "source": [
    "X_train=X_train_1 \n",
    "y_train=y_train_1\n",
    "X_test=X_test_1\n",
    "y_test= y_test_1 \n",
    "title_confusion_matrix= 'Confusion Matrix for Naive Bayes Bernoulli' \n",
    "title_accuracy= \"Accuracy with Naive-bayes Bernoulli:\"\n",
    "\n",
    "predicted_naive , model_naive = BernoulliNB(X_train, y_train , X_test )\n",
    "final_summary(X_test , y_test ,predicted_naive , model_naive, title_confusion_matrix= title_confusion_matrix , title_accuracy= title_accuracy )"
   ]
  },
  {
   "cell_type": "code",
   "execution_count": 112,
   "metadata": {},
   "outputs": [
    {
     "data": {
      "image/png": "[encoded data removed]",
      "text/plain": [
       "<Figure size 600x400 with 1 Axes>"
      ]
     },
     "metadata": {
      "needs_background": "light"
     },
     "output_type": "display_data"
    },
    {
     "name": "stdout",
     "output_type": "stream",
     "text": [
      "Accuracy with Naive-bayes Bernoulli: 0.8405070902440247\n",
      "              precision    recall  f1-score   support\n",
      "\n",
      "           0       0.91      0.74      0.82      9740\n",
      "           1       0.79      0.93      0.86     10217\n",
      "\n",
      "    accuracy                           0.84     19957\n",
      "   macro avg       0.85      0.84      0.84     19957\n",
      "weighted avg       0.85      0.84      0.84     19957\n",
      "\n"
     ]
    },
    {
     "data": {
      "image/png": "[encoded data removed]",
      "text/plain": [
       "<Figure size 600x400 with 1 Axes>"
      ]
     },
     "metadata": {
      "needs_background": "light"
     },
     "output_type": "display_data"
    }
   ],
   "source": [
    "X_train=X_train_4 \n",
    "y_train=y_train_4\n",
    "X_test=X_test_4\n",
    "y_test= y_test_4 \n",
    "title_confusion_matrix= 'Confusion Matrix for Naive Bayes Bernoulli' \n",
    "title_accuracy= \"Accuracy with Naive-bayes Bernoulli:\"\n",
    "\n",
    "predicted_naive , model_naive = BernoulliNB(X_train, y_train , X_test )\n",
    "final_summary(X_test , y_test ,predicted_naive , model_naive, title_confusion_matrix= title_confusion_matrix , title_accuracy= title_accuracy )"
   ]
  },
  {
   "cell_type": "markdown",
   "metadata": {},
   "source": [
    "## Random Forest Model "
   ]
  },
  {
   "cell_type": "code",
   "execution_count": 113,
   "metadata": {},
   "outputs": [],
   "source": [
    "from sklearn.ensemble import RandomForestClassifier "
   ]
  },
  {
   "cell_type": "code",
   "execution_count": 114,
   "metadata": {},
   "outputs": [],
   "source": [
    "def Random_Forest (X_train, y_train , X_test ):\n",
    "    from sklearn.naive_bayes import BernoulliNB   # Naive Bayes Classifier\n",
    "\n",
    "    #model_naive = RandomForestClassifier().fit(X_train, y_train) \n",
    "    clf = RandomForestClassifier(max_depth=10, random_state=0)\n",
    "    model_naive = clf.fit(X_train, y_train)\n",
    "    predicted_naive = model_naive.predict(X_test)\n",
    "    return predicted_naive , model_naive"
   ]
  },
  {
   "cell_type": "code",
   "execution_count": 115,
   "metadata": {},
   "outputs": [
    {
     "data": {
      "image/png": "[encoded data removed]",
      "text/plain": [
       "<Figure size 600x400 with 1 Axes>"
      ]
     },
     "metadata": {
      "needs_background": "light"
     },
     "output_type": "display_data"
    },
    {
     "name": "stdout",
     "output_type": "stream",
     "text": [
      "Accuracy with Random Forest: 0.6339630204940623\n",
      "              precision    recall  f1-score   support\n",
      "\n",
      "           0       0.94      0.27      0.42      9740\n",
      "           1       0.58      0.98      0.73     10217\n",
      "\n",
      "    accuracy                           0.63     19957\n",
      "   macro avg       0.76      0.63      0.57     19957\n",
      "weighted avg       0.76      0.63      0.58     19957\n",
      "\n"
     ]
    },
    {
     "data": {
      "image/png": "[encoded data removed]",
      "text/plain": [
       "<Figure size 600x400 with 1 Axes>"
      ]
     },
     "metadata": {
      "needs_background": "light"
     },
     "output_type": "display_data"
    }
   ],
   "source": [
    "X_train=X_train_1 \n",
    "y_train=y_train_1\n",
    "X_test=X_test_1\n",
    "y_test= y_test_1 \n",
    "title_confusion_matrix= 'Confusion Matrix for Random Forest' \n",
    "title_accuracy= \"Accuracy with Random Forest:\"\n",
    "\n",
    "predicted_naive , model_naive = Random_Forest(X_train, y_train , X_test )\n",
    "final_summary(X_test , y_test ,predicted_naive , model_naive, title_confusion_matrix= title_confusion_matrix , title_accuracy= title_accuracy )"
   ]
  },
  {
   "cell_type": "code",
   "execution_count": 116,
   "metadata": {},
   "outputs": [
    {
     "data": {
      "image/png": "[encoded data removed]",
      "text/plain": [
       "<Figure size 600x400 with 1 Axes>"
      ]
     },
     "metadata": {
      "needs_background": "light"
     },
     "output_type": "display_data"
    },
    {
     "name": "stdout",
     "output_type": "stream",
     "text": [
      "Accuracy with Random Forest: 0.635015282858145\n",
      "              precision    recall  f1-score   support\n",
      "\n",
      "           0       0.95      0.27      0.42      9740\n",
      "           1       0.59      0.99      0.73     10217\n",
      "\n",
      "    accuracy                           0.64     19957\n",
      "   macro avg       0.77      0.63      0.58     19957\n",
      "weighted avg       0.76      0.64      0.58     19957\n",
      "\n"
     ]
    },
    {
     "data": {
      "image/png": "[encoded data removed]",
      "text/plain": [
       "<Figure size 600x400 with 1 Axes>"
      ]
     },
     "metadata": {
      "needs_background": "light"
     },
     "output_type": "display_data"
    }
   ],
   "source": [
    "X_train=X_train_4 \n",
    "y_train=y_train_4\n",
    "X_test=X_test_4\n",
    "y_test= y_test_4 \n",
    "title_confusion_matrix= 'Confusion Matrix for Random Forest' \n",
    "title_accuracy= \"Accuracy with Random Forest:\"\n",
    "\n",
    "predicted_naive , model_naive = Random_Forest(X_train, y_train , X_test )\n",
    "final_summary(X_test , y_test ,predicted_naive , model_naive, title_confusion_matrix= title_confusion_matrix , title_accuracy= title_accuracy )"
   ]
  },
  {
   "cell_type": "markdown",
   "metadata": {},
   "source": [
    "## Hugging Faces Model "
   ]
  },
  {
   "cell_type": "code",
   "execution_count": 117,
   "metadata": {},
   "outputs": [],
   "source": [
    "#!pip install torch\n",
    "#!pip install TensorFlow "
   ]
  },
  {
   "cell_type": "code",
   "execution_count": 118,
   "metadata": {},
   "outputs": [
    {
     "name": "stderr",
     "output_type": "stream",
     "text": [
      "No model was supplied, defaulted to distilbert-base-uncased-finetuned-sst-2-english (https://huggingface.co/distilbert-base-uncased-finetuned-sst-2-english)\n"
     ]
    },
    {
     "data": {
      "text/plain": [
       "[{'label': 'POSITIVE', 'score': 0.9991727471351624}]"
      ]
     },
     "execution_count": 118,
     "metadata": {},
     "output_type": "execute_result"
    }
   ],
   "source": [
    "#test\n",
    "from transformers import pipeline\n",
    "classifier = pipeline('sentiment-analysis')\n",
    "classifier(df[\"content\"][0])"
   ]
  },
  {
   "cell_type": "code",
   "execution_count": 119,
   "metadata": {},
   "outputs": [],
   "source": [
    "df[\"hugging_faces_output\"]=0"
   ]
  },
  {
   "cell_type": "code",
   "execution_count": 120,
   "metadata": {},
   "outputs": [],
   "source": [
    "def hugging_model(df, data_processed=1000,df_filter=\"content\" ):\n",
    "   \n",
    "    from transformers import pipeline\n",
    "    classifier = pipeline('sentiment-analysis')\n",
    "    for k,i in enumerate(df[df_filter][:data_processed]):\n",
    "            df[\"hugging_faces_output\"][k] = classifier(i)[0]['label']\n",
    "    df[\"hugging_faces_output\"][df[\"hugging_faces_output\"]==\"POSITIVE\"]=1\n",
    "    df[\"hugging_faces_output\"][df[\"hugging_faces_output\"]==\"NEGATIVE\"]=0\n",
    "    df[\"hugging_faces_output\"]= pd.to_numeric(df[\"hugging_faces_output\"], errors='coerce') \n",
    "    return df[\"hugging_faces_output\"]"
   ]
  },
  {
   "cell_type": "code",
   "execution_count": 121,
   "metadata": {},
   "outputs": [],
   "source": [
    "def hugging_metrics(df, data_processed=1000):\n",
    "    plot_confusion_matrix(df[\"label\"][:data_processed],df[\"hugging_faces_output\"][:data_processed] , title= 'Confusion Matrix for hugging_faces_output')\n",
    "    accuracy(df[\"hugging_faces_output\"][:data_processed] ,df[\"label\"][:data_processed], title=\"Accuracy with hugging_faces_output\" )\n",
    "    classification_report(df[\"hugging_faces_output\"][:data_processed] ,df[\"label\"][:data_processed])"
   ]
  },
  {
   "cell_type": "code",
   "execution_count": 122,
   "metadata": {},
   "outputs": [],
   "source": [
    "df[\"hugging_faces_output\"]=0 "
   ]
  },
  {
   "cell_type": "code",
   "execution_count": 123,
   "metadata": {},
   "outputs": [
    {
     "name": "stderr",
     "output_type": "stream",
     "text": [
      "No model was supplied, defaulted to distilbert-base-uncased-finetuned-sst-2-english (https://huggingface.co/distilbert-base-uncased-finetuned-sst-2-english)\n",
      "C:\\Users\\finnocenti\\AppData\\Local\\Temp\\ipykernel_21520\\1504480264.py:6: SettingWithCopyWarning: \n",
      "A value is trying to be set on a copy of a slice from a DataFrame\n",
      "\n",
      "See the caveats in the documentation: https://pandas.pydata.org/pandas-docs/stable/user_guide/indexing.html#returning-a-view-versus-a-copy\n",
      "  df[\"hugging_faces_output\"][k] = classifier(i)[0]['label']\n"
     ]
    }
   ],
   "source": [
    "df[\"hugging_faces_output\"]= hugging_model(df, data_processed=1000,df_filter=\"processed_tweet\" )"
   ]
  },
  {
   "cell_type": "code",
   "execution_count": 124,
   "metadata": {},
   "outputs": [
    {
     "data": {
      "image/png": "[encoded data removed]",
      "text/plain": [
       "<Figure size 600x400 with 1 Axes>"
      ]
     },
     "metadata": {
      "needs_background": "light"
     },
     "output_type": "display_data"
    },
    {
     "name": "stdout",
     "output_type": "stream",
     "text": [
      "Accuracy with hugging_faces_output 0.871\n",
      "              precision    recall  f1-score   support\n",
      "\n",
      "           0       0.84      0.94      0.89       538\n",
      "           1       0.92      0.79      0.85       462\n",
      "\n",
      "    accuracy                           0.87      1000\n",
      "   macro avg       0.88      0.87      0.87      1000\n",
      "weighted avg       0.88      0.87      0.87      1000\n",
      "\n"
     ]
    }
   ],
   "source": [
    "hugging_metrics(df, data_processed=1000)"
   ]
  },
  {
   "cell_type": "code",
   "execution_count": 125,
   "metadata": {},
   "outputs": [],
   "source": [
    "df[\"hugging_faces_output\"]=0 "
   ]
  },
  {
   "cell_type": "code",
   "execution_count": 126,
   "metadata": {},
   "outputs": [
    {
     "name": "stderr",
     "output_type": "stream",
     "text": [
      "No model was supplied, defaulted to distilbert-base-uncased-finetuned-sst-2-english (https://huggingface.co/distilbert-base-uncased-finetuned-sst-2-english)\n",
      "C:\\Users\\finnocenti\\AppData\\Local\\Temp\\ipykernel_21520\\1504480264.py:6: SettingWithCopyWarning: \n",
      "A value is trying to be set on a copy of a slice from a DataFrame\n",
      "\n",
      "See the caveats in the documentation: https://pandas.pydata.org/pandas-docs/stable/user_guide/indexing.html#returning-a-view-versus-a-copy\n",
      "  df[\"hugging_faces_output\"][k] = classifier(i)[0]['label']\n"
     ]
    }
   ],
   "source": [
    "df[\"hugging_faces_output\"]= hugging_model(df, data_processed=1000,df_filter=\"clean_lemmatized_tweet\" )"
   ]
  },
  {
   "cell_type": "code",
   "execution_count": 127,
   "metadata": {},
   "outputs": [
    {
     "data": {
      "image/png": "[encoded data removed]",
      "text/plain": [
       "<Figure size 600x400 with 1 Axes>"
      ]
     },
     "metadata": {
      "needs_background": "light"
     },
     "output_type": "display_data"
    },
    {
     "name": "stdout",
     "output_type": "stream",
     "text": [
      "Accuracy with hugging_faces_output 0.841\n",
      "              precision    recall  f1-score   support\n",
      "\n",
      "           0       0.81      0.93      0.86       538\n",
      "           1       0.90      0.74      0.81       462\n",
      "\n",
      "    accuracy                           0.84      1000\n",
      "   macro avg       0.85      0.83      0.84      1000\n",
      "weighted avg       0.85      0.84      0.84      1000\n",
      "\n"
     ]
    }
   ],
   "source": [
    "hugging_metrics(df, data_processed=1000)"
   ]
  },
  {
   "cell_type": "code",
   "execution_count": null,
   "metadata": {},
   "outputs": [],
   "source": []
  },
  {
   "cell_type": "code",
   "execution_count": null,
   "metadata": {},
   "outputs": [],
   "source": []
  },
  {
   "cell_type": "markdown",
   "metadata": {},
   "source": [
    "### Extra and Other "
   ]
  },
  {
   "cell_type": "code",
   "execution_count": 128,
   "metadata": {},
   "outputs": [
    {
     "name": "stderr",
     "output_type": "stream",
     "text": [
      "No model was supplied, defaulted to distilbert-base-uncased-finetuned-sst-2-english (https://huggingface.co/distilbert-base-uncased-finetuned-sst-2-english)\n",
      "C:\\Users\\finnocenti\\AppData\\Local\\Temp\\ipykernel_21520\\1740568398.py:5: SettingWithCopyWarning: \n",
      "A value is trying to be set on a copy of a slice from a DataFrame\n",
      "\n",
      "See the caveats in the documentation: https://pandas.pydata.org/pandas-docs/stable/user_guide/indexing.html#returning-a-view-versus-a-copy\n",
      "  df[\"hugging_faces_output\"][k] = classifier(i)[0]['label']\n"
     ]
    }
   ],
   "source": [
    "data_processed=1000\n",
    "from transformers import pipeline\n",
    "classifier = pipeline('sentiment-analysis')\n",
    "for k,i in enumerate(df[\"content\"][:data_processed]):\n",
    "        df[\"hugging_faces_output\"][k] = classifier(i)[0]['label']\n",
    "     "
   ]
  },
  {
   "cell_type": "code",
   "execution_count": 129,
   "metadata": {},
   "outputs": [
    {
     "data": {
      "text/html": [
       "<div>\n",
       "<style scoped>\n",
       "    .dataframe tbody tr th:only-of-type {\n",
       "        vertical-align: middle;\n",
       "    }\n",
       "\n",
       "    .dataframe tbody tr th {\n",
       "        vertical-align: top;\n",
       "    }\n",
       "\n",
       "    .dataframe thead th {\n",
       "        text-align: right;\n",
       "    }\n",
       "</style>\n",
       "<table border=\"1\" class=\"dataframe\">\n",
       "  <thead>\n",
       "    <tr style=\"text-align: right;\">\n",
       "      <th></th>\n",
       "      <th>label</th>\n",
       "      <th>title</th>\n",
       "      <th>content</th>\n",
       "      <th>processed_tweet</th>\n",
       "      <th>clean_tweet_stopwords_removal</th>\n",
       "      <th>clean_stemmed_tweet</th>\n",
       "      <th>clean_lemmatized_tweet</th>\n",
       "      <th>hugging_faces_output</th>\n",
       "    </tr>\n",
       "  </thead>\n",
       "  <tbody>\n",
       "    <tr>\n",
       "      <th>0</th>\n",
       "      <td>1</td>\n",
       "      <td>Stuning even for the non-gamer</td>\n",
       "      <td>This sound track was beautiful! It paints the ...</td>\n",
       "      <td>this sound track was beautiful it paints the s...</td>\n",
       "      <td>sound track beautiful paints senery mind well...</td>\n",
       "      <td>sound track beauti paint seneri mind well wou...</td>\n",
       "      <td>this sound track be beautiful it paint the se...</td>\n",
       "      <td>POSITIVE</td>\n",
       "    </tr>\n",
       "    <tr>\n",
       "      <th>1</th>\n",
       "      <td>1</td>\n",
       "      <td>The best soundtrack ever to anything.</td>\n",
       "      <td>I'm reading a lot of reviews saying that this ...</td>\n",
       "      <td>reading lot of reviews saying that this is th...</td>\n",
       "      <td>reading lot reviews saying best game soundtra...</td>\n",
       "      <td>read lot review say best game soundtrack figu...</td>\n",
       "      <td>read lot of review say that this be the best ...</td>\n",
       "      <td>POSITIVE</td>\n",
       "    </tr>\n",
       "    <tr>\n",
       "      <th>2</th>\n",
       "      <td>1</td>\n",
       "      <td>Amazing!</td>\n",
       "      <td>This soundtrack is my favorite music of all ti...</td>\n",
       "      <td>this soundtrack is my favorite music of all ti...</td>\n",
       "      <td>soundtrack favorite music time hands intense ...</td>\n",
       "      <td>soundtrack favorit music time hand intens sad...</td>\n",
       "      <td>this soundtrack be my favorite music of all t...</td>\n",
       "      <td>POSITIVE</td>\n",
       "    </tr>\n",
       "    <tr>\n",
       "      <th>3</th>\n",
       "      <td>1</td>\n",
       "      <td>Excellent Soundtrack</td>\n",
       "      <td>I truly like this soundtrack and I enjoy video...</td>\n",
       "      <td>truly like this soundtrack and enjoy video ga...</td>\n",
       "      <td>truly like soundtrack enjoy video game music ...</td>\n",
       "      <td>truli like soundtrack enjoy video game music ...</td>\n",
       "      <td>truly like this soundtrack and enjoy video ga...</td>\n",
       "      <td>POSITIVE</td>\n",
       "    </tr>\n",
       "    <tr>\n",
       "      <th>4</th>\n",
       "      <td>1</td>\n",
       "      <td>Remember, Pull Your Jaw Off The Floor After He...</td>\n",
       "      <td>If you've played the game, you know how divine...</td>\n",
       "      <td>if you have played the game you know how divin...</td>\n",
       "      <td>played game know divine music every single so...</td>\n",
       "      <td>play game know divin music everi singl song t...</td>\n",
       "      <td>if you have play the game you know how divine...</td>\n",
       "      <td>POSITIVE</td>\n",
       "    </tr>\n",
       "    <tr>\n",
       "      <th>5</th>\n",
       "      <td>1</td>\n",
       "      <td>an absolute masterpiece</td>\n",
       "      <td>I am quite sure any of you actually taking the...</td>\n",
       "      <td>am quite sure any of you actually taking the ...</td>\n",
       "      <td>quite sure actually taking time read played g...</td>\n",
       "      <td>quit sure actual take time read play game lea...</td>\n",
       "      <td>be quite sure any of you actually take the ti...</td>\n",
       "      <td>POSITIVE</td>\n",
       "    </tr>\n",
       "    <tr>\n",
       "      <th>6</th>\n",
       "      <td>0</td>\n",
       "      <td>Buyer beware</td>\n",
       "      <td>This is a self-published book, and if you want...</td>\n",
       "      <td>this is self published book and if you want to...</td>\n",
       "      <td>self published book want know read paragraphs...</td>\n",
       "      <td>self publish book want know read paragraph st...</td>\n",
       "      <td>this be self publish book and if you want to ...</td>\n",
       "      <td>NEGATIVE</td>\n",
       "    </tr>\n",
       "    <tr>\n",
       "      <th>7</th>\n",
       "      <td>1</td>\n",
       "      <td>Glorious story</td>\n",
       "      <td>I loved Whisper of the wicked saints. The stor...</td>\n",
       "      <td>loved whisper of the wicked saints the story ...</td>\n",
       "      <td>loved whisper wicked saints story amazing ple...</td>\n",
       "      <td>love whisper wick saint stori amaz pleasant s...</td>\n",
       "      <td>love whisper of the wicked saint the story be...</td>\n",
       "      <td>POSITIVE</td>\n",
       "    </tr>\n",
       "    <tr>\n",
       "      <th>8</th>\n",
       "      <td>1</td>\n",
       "      <td>A FIVE STAR BOOK</td>\n",
       "      <td>I just finished reading Whisper of the Wicked ...</td>\n",
       "      <td>just finished reading whisper of the wicked s...</td>\n",
       "      <td>finished reading whisper wicked saints fell l...</td>\n",
       "      <td>finish read whisper wick saint fell love cara...</td>\n",
       "      <td>just finish read whisper of the wicked saint ...</td>\n",
       "      <td>POSITIVE</td>\n",
       "    </tr>\n",
       "    <tr>\n",
       "      <th>9</th>\n",
       "      <td>1</td>\n",
       "      <td>Whispers of the Wicked Saints</td>\n",
       "      <td>This was a easy to read book that made me want...</td>\n",
       "      <td>this was easy to read book that made me want t...</td>\n",
       "      <td>easy read book made want keep reading easy pu...</td>\n",
       "      <td>easi read book made want keep read easi put l...</td>\n",
       "      <td>this be easy to read book that make me want t...</td>\n",
       "      <td>POSITIVE</td>\n",
       "    </tr>\n",
       "    <tr>\n",
       "      <th>10</th>\n",
       "      <td>0</td>\n",
       "      <td>The Worst!</td>\n",
       "      <td>A complete waste of time. Typographical errors...</td>\n",
       "      <td>complete waste of time typographical errors p...</td>\n",
       "      <td>complete waste time typographical errors poor...</td>\n",
       "      <td>complet wast time typograph error poor gramma...</td>\n",
       "      <td>complete waste of time typographical errors p...</td>\n",
       "      <td>NEGATIVE</td>\n",
       "    </tr>\n",
       "    <tr>\n",
       "      <th>11</th>\n",
       "      <td>1</td>\n",
       "      <td>Great book</td>\n",
       "      <td>This was a great book,I just could not put it ...</td>\n",
       "      <td>this was great book just could not put it down...</td>\n",
       "      <td>great book could put could read fast enough b...</td>\n",
       "      <td>great book could put could read fast enough b...</td>\n",
       "      <td>this be great book just could not put it down...</td>\n",
       "      <td>POSITIVE</td>\n",
       "    </tr>\n",
       "    <tr>\n",
       "      <th>12</th>\n",
       "      <td>1</td>\n",
       "      <td>Great Read</td>\n",
       "      <td>I thought this book was brilliant, but yet rea...</td>\n",
       "      <td>thought this book was brilliant but yet reali...</td>\n",
       "      <td>thought book brilliant yet realistic showed e...</td>\n",
       "      <td>thought book brilliant yet realist show error...</td>\n",
       "      <td>think this book be brilliant but yet realisti...</td>\n",
       "      <td>POSITIVE</td>\n",
       "    </tr>\n",
       "    <tr>\n",
       "      <th>13</th>\n",
       "      <td>0</td>\n",
       "      <td>Oh please</td>\n",
       "      <td>I guess you have to be a romance novel lover f...</td>\n",
       "      <td>guess you have to be romance novel lover for ...</td>\n",
       "      <td>guess romance novel lover one discerning one ...</td>\n",
       "      <td>guess romanc novel lover one discern one othe...</td>\n",
       "      <td>guess you have to be romance novel lover for ...</td>\n",
       "      <td>NEGATIVE</td>\n",
       "    </tr>\n",
       "    <tr>\n",
       "      <th>14</th>\n",
       "      <td>0</td>\n",
       "      <td>Awful beyond belief!</td>\n",
       "      <td>I feel I have to write to keep others from was...</td>\n",
       "      <td>feel have to write to keep others from wastin...</td>\n",
       "      <td>feel write keep others wasting money book see...</td>\n",
       "      <td>feel write keep other wast money book seem wr...</td>\n",
       "      <td>feel have to write to keep others from waste ...</td>\n",
       "      <td>NEGATIVE</td>\n",
       "    </tr>\n",
       "    <tr>\n",
       "      <th>15</th>\n",
       "      <td>0</td>\n",
       "      <td>Don't try to fool us with fake reviews.</td>\n",
       "      <td>It's glaringly obvious that all of the glowing...</td>\n",
       "      <td>it glaringly obvious that all of the glowing r...</td>\n",
       "      <td>glaringly obvious glowing reviews written per...</td>\n",
       "      <td>glare obvious glow review written person perh...</td>\n",
       "      <td>it glaringly obvious that all of the glow rev...</td>\n",
       "      <td>NEGATIVE</td>\n",
       "    </tr>\n",
       "    <tr>\n",
       "      <th>16</th>\n",
       "      <td>1</td>\n",
       "      <td>A romantic zen baseball comedy</td>\n",
       "      <td>When you hear folks say that they don't make '...</td>\n",
       "      <td>when you hear folks say that they don make em ...</td>\n",
       "      <td>hear folks say make em like anymore might tal...</td>\n",
       "      <td>hear folk say make em like anymor might talk ...</td>\n",
       "      <td>when you hear folks say that they don make em...</td>\n",
       "      <td>POSITIVE</td>\n",
       "    </tr>\n",
       "    <tr>\n",
       "      <th>17</th>\n",
       "      <td>1</td>\n",
       "      <td>Fashionable Compression Stockings!</td>\n",
       "      <td>After I had a DVT my doctor required me to wea...</td>\n",
       "      <td>after had dvt my doctor required me to wear co...</td>\n",
       "      <td>dvt doctor required wear compression stocking...</td>\n",
       "      <td>dvt doctor requir wear compress stock wore ug...</td>\n",
       "      <td>after have dvt my doctor require me to wear c...</td>\n",
       "      <td>POSITIVE</td>\n",
       "    </tr>\n",
       "    <tr>\n",
       "      <th>18</th>\n",
       "      <td>1</td>\n",
       "      <td>Jobst UltraSheer Thigh High</td>\n",
       "      <td>Excellent product. However, they are very diff...</td>\n",
       "      <td>excellent product however they are very diffic...</td>\n",
       "      <td>excellent product however difficult get older...</td>\n",
       "      <td>excel product howev difficult get older peopl...</td>\n",
       "      <td>excellent product however they be very diffic...</td>\n",
       "      <td>NEGATIVE</td>\n",
       "    </tr>\n",
       "    <tr>\n",
       "      <th>19</th>\n",
       "      <td>0</td>\n",
       "      <td>sizes recomended in the size chart are not real</td>\n",
       "      <td>sizes are much smaller than what is recomended...</td>\n",
       "      <td>sizes are much smaller than what is recomended...</td>\n",
       "      <td>sizes much smaller recomended chart tried put...</td>\n",
       "      <td>size much smaller recomend chart tri put shee...</td>\n",
       "      <td>size be much smaller than what be recomended ...</td>\n",
       "      <td>NEGATIVE</td>\n",
       "    </tr>\n",
       "    <tr>\n",
       "      <th>20</th>\n",
       "      <td>0</td>\n",
       "      <td>mens ultrasheer</td>\n",
       "      <td>This model may be ok for sedentary types, but ...</td>\n",
       "      <td>this model may be ok for sedentary types but a...</td>\n",
       "      <td>model may ok sedentary types active get aroun...</td>\n",
       "      <td>model may ok sedentari type activ get around ...</td>\n",
       "      <td>this model may be ok for sedentary type but a...</td>\n",
       "      <td>NEGATIVE</td>\n",
       "    </tr>\n",
       "    <tr>\n",
       "      <th>21</th>\n",
       "      <td>1</td>\n",
       "      <td>Delicious cookie mix</td>\n",
       "      <td>I thought it was funny that I bought this prod...</td>\n",
       "      <td>thought it was funny that bought this product...</td>\n",
       "      <td>thought funny bought product without knowing ...</td>\n",
       "      <td>thought funni bought product without know mix...</td>\n",
       "      <td>think it be funny that buy this product witho...</td>\n",
       "      <td>POSITIVE</td>\n",
       "    </tr>\n",
       "    <tr>\n",
       "      <th>22</th>\n",
       "      <td>0</td>\n",
       "      <td>Another Abysmal Digital Copy</td>\n",
       "      <td>Rather than scratches and insect droppings, th...</td>\n",
       "      <td>rather than scratches and insect droppings thi...</td>\n",
       "      <td>rather scratches insect droppings one random ...</td>\n",
       "      <td>rather scratch insect drop one random pixel c...</td>\n",
       "      <td>rather than scratch and insect droppings this...</td>\n",
       "      <td>NEGATIVE</td>\n",
       "    </tr>\n",
       "    <tr>\n",
       "      <th>23</th>\n",
       "      <td>1</td>\n",
       "      <td>A fascinating insight into the life of modern ...</td>\n",
       "      <td>I thoroughly enjoyed Rising Sons and Daughters...</td>\n",
       "      <td>thoroughly enjoyed rising sons and daughters ...</td>\n",
       "      <td>thoroughly enjoyed rising sons daughters know...</td>\n",
       "      <td>thorough enjoy rise son daughter know book lo...</td>\n",
       "      <td>thoroughly enjoy rise sons and daughters don ...</td>\n",
       "      <td>POSITIVE</td>\n",
       "    </tr>\n",
       "    <tr>\n",
       "      <th>24</th>\n",
       "      <td>1</td>\n",
       "      <td>i liked this album more then i thought i would</td>\n",
       "      <td>I heard a song or two and thought same o same ...</td>\n",
       "      <td>heard song or two and thought same same but w...</td>\n",
       "      <td>heard song two thought listened songs like bl...</td>\n",
       "      <td>heard song two thought listen song like blue ...</td>\n",
       "      <td>hear song or two and think same same but when...</td>\n",
       "      <td>POSITIVE</td>\n",
       "    </tr>\n",
       "  </tbody>\n",
       "</table>\n",
       "</div>"
      ],
      "text/plain": [
       "    label                                              title  \\\n",
       "0       1                     Stuning even for the non-gamer   \n",
       "1       1              The best soundtrack ever to anything.   \n",
       "2       1                                           Amazing!   \n",
       "3       1                               Excellent Soundtrack   \n",
       "4       1  Remember, Pull Your Jaw Off The Floor After He...   \n",
       "5       1                            an absolute masterpiece   \n",
       "6       0                                       Buyer beware   \n",
       "7       1                                     Glorious story   \n",
       "8       1                                   A FIVE STAR BOOK   \n",
       "9       1                      Whispers of the Wicked Saints   \n",
       "10      0                                         The Worst!   \n",
       "11      1                                         Great book   \n",
       "12      1                                         Great Read   \n",
       "13      0                                          Oh please   \n",
       "14      0                               Awful beyond belief!   \n",
       "15      0            Don't try to fool us with fake reviews.   \n",
       "16      1                     A romantic zen baseball comedy   \n",
       "17      1                 Fashionable Compression Stockings!   \n",
       "18      1                        Jobst UltraSheer Thigh High   \n",
       "19      0    sizes recomended in the size chart are not real   \n",
       "20      0                                    mens ultrasheer   \n",
       "21      1                               Delicious cookie mix   \n",
       "22      0                       Another Abysmal Digital Copy   \n",
       "23      1  A fascinating insight into the life of modern ...   \n",
       "24      1     i liked this album more then i thought i would   \n",
       "\n",
       "                                              content  \\\n",
       "0   This sound track was beautiful! It paints the ...   \n",
       "1   I'm reading a lot of reviews saying that this ...   \n",
       "2   This soundtrack is my favorite music of all ti...   \n",
       "3   I truly like this soundtrack and I enjoy video...   \n",
       "4   If you've played the game, you know how divine...   \n",
       "5   I am quite sure any of you actually taking the...   \n",
       "6   This is a self-published book, and if you want...   \n",
       "7   I loved Whisper of the wicked saints. The stor...   \n",
       "8   I just finished reading Whisper of the Wicked ...   \n",
       "9   This was a easy to read book that made me want...   \n",
       "10  A complete waste of time. Typographical errors...   \n",
       "11  This was a great book,I just could not put it ...   \n",
       "12  I thought this book was brilliant, but yet rea...   \n",
       "13  I guess you have to be a romance novel lover f...   \n",
       "14  I feel I have to write to keep others from was...   \n",
       "15  It's glaringly obvious that all of the glowing...   \n",
       "16  When you hear folks say that they don't make '...   \n",
       "17  After I had a DVT my doctor required me to wea...   \n",
       "18  Excellent product. However, they are very diff...   \n",
       "19  sizes are much smaller than what is recomended...   \n",
       "20  This model may be ok for sedentary types, but ...   \n",
       "21  I thought it was funny that I bought this prod...   \n",
       "22  Rather than scratches and insect droppings, th...   \n",
       "23  I thoroughly enjoyed Rising Sons and Daughters...   \n",
       "24  I heard a song or two and thought same o same ...   \n",
       "\n",
       "                                      processed_tweet  \\\n",
       "0   this sound track was beautiful it paints the s...   \n",
       "1    reading lot of reviews saying that this is th...   \n",
       "2   this soundtrack is my favorite music of all ti...   \n",
       "3    truly like this soundtrack and enjoy video ga...   \n",
       "4   if you have played the game you know how divin...   \n",
       "5    am quite sure any of you actually taking the ...   \n",
       "6   this is self published book and if you want to...   \n",
       "7    loved whisper of the wicked saints the story ...   \n",
       "8    just finished reading whisper of the wicked s...   \n",
       "9   this was easy to read book that made me want t...   \n",
       "10   complete waste of time typographical errors p...   \n",
       "11  this was great book just could not put it down...   \n",
       "12   thought this book was brilliant but yet reali...   \n",
       "13   guess you have to be romance novel lover for ...   \n",
       "14   feel have to write to keep others from wastin...   \n",
       "15  it glaringly obvious that all of the glowing r...   \n",
       "16  when you hear folks say that they don make em ...   \n",
       "17  after had dvt my doctor required me to wear co...   \n",
       "18  excellent product however they are very diffic...   \n",
       "19  sizes are much smaller than what is recomended...   \n",
       "20  this model may be ok for sedentary types but a...   \n",
       "21   thought it was funny that bought this product...   \n",
       "22  rather than scratches and insect droppings thi...   \n",
       "23   thoroughly enjoyed rising sons and daughters ...   \n",
       "24   heard song or two and thought same same but w...   \n",
       "\n",
       "                        clean_tweet_stopwords_removal  \\\n",
       "0    sound track beautiful paints senery mind well...   \n",
       "1    reading lot reviews saying best game soundtra...   \n",
       "2    soundtrack favorite music time hands intense ...   \n",
       "3    truly like soundtrack enjoy video game music ...   \n",
       "4    played game know divine music every single so...   \n",
       "5    quite sure actually taking time read played g...   \n",
       "6    self published book want know read paragraphs...   \n",
       "7    loved whisper wicked saints story amazing ple...   \n",
       "8    finished reading whisper wicked saints fell l...   \n",
       "9    easy read book made want keep reading easy pu...   \n",
       "10   complete waste time typographical errors poor...   \n",
       "11   great book could put could read fast enough b...   \n",
       "12   thought book brilliant yet realistic showed e...   \n",
       "13   guess romance novel lover one discerning one ...   \n",
       "14   feel write keep others wasting money book see...   \n",
       "15   glaringly obvious glowing reviews written per...   \n",
       "16   hear folks say make em like anymore might tal...   \n",
       "17   dvt doctor required wear compression stocking...   \n",
       "18   excellent product however difficult get older...   \n",
       "19   sizes much smaller recomended chart tried put...   \n",
       "20   model may ok sedentary types active get aroun...   \n",
       "21   thought funny bought product without knowing ...   \n",
       "22   rather scratches insect droppings one random ...   \n",
       "23   thoroughly enjoyed rising sons daughters know...   \n",
       "24   heard song two thought listened songs like bl...   \n",
       "\n",
       "                                  clean_stemmed_tweet  \\\n",
       "0    sound track beauti paint seneri mind well wou...   \n",
       "1    read lot review say best game soundtrack figu...   \n",
       "2    soundtrack favorit music time hand intens sad...   \n",
       "3    truli like soundtrack enjoy video game music ...   \n",
       "4    play game know divin music everi singl song t...   \n",
       "5    quit sure actual take time read play game lea...   \n",
       "6    self publish book want know read paragraph st...   \n",
       "7    love whisper wick saint stori amaz pleasant s...   \n",
       "8    finish read whisper wick saint fell love cara...   \n",
       "9    easi read book made want keep read easi put l...   \n",
       "10   complet wast time typograph error poor gramma...   \n",
       "11   great book could put could read fast enough b...   \n",
       "12   thought book brilliant yet realist show error...   \n",
       "13   guess romanc novel lover one discern one othe...   \n",
       "14   feel write keep other wast money book seem wr...   \n",
       "15   glare obvious glow review written person perh...   \n",
       "16   hear folk say make em like anymor might talk ...   \n",
       "17   dvt doctor requir wear compress stock wore ug...   \n",
       "18   excel product howev difficult get older peopl...   \n",
       "19   size much smaller recomend chart tri put shee...   \n",
       "20   model may ok sedentari type activ get around ...   \n",
       "21   thought funni bought product without know mix...   \n",
       "22   rather scratch insect drop one random pixel c...   \n",
       "23   thorough enjoy rise son daughter know book lo...   \n",
       "24   heard song two thought listen song like blue ...   \n",
       "\n",
       "                               clean_lemmatized_tweet hugging_faces_output  \n",
       "0    this sound track be beautiful it paint the se...             POSITIVE  \n",
       "1    read lot of review say that this be the best ...             POSITIVE  \n",
       "2    this soundtrack be my favorite music of all t...             POSITIVE  \n",
       "3    truly like this soundtrack and enjoy video ga...             POSITIVE  \n",
       "4    if you have play the game you know how divine...             POSITIVE  \n",
       "5    be quite sure any of you actually take the ti...             POSITIVE  \n",
       "6    this be self publish book and if you want to ...             NEGATIVE  \n",
       "7    love whisper of the wicked saint the story be...             POSITIVE  \n",
       "8    just finish read whisper of the wicked saint ...             POSITIVE  \n",
       "9    this be easy to read book that make me want t...             POSITIVE  \n",
       "10   complete waste of time typographical errors p...             NEGATIVE  \n",
       "11   this be great book just could not put it down...             POSITIVE  \n",
       "12   think this book be brilliant but yet realisti...             POSITIVE  \n",
       "13   guess you have to be romance novel lover for ...             NEGATIVE  \n",
       "14   feel have to write to keep others from waste ...             NEGATIVE  \n",
       "15   it glaringly obvious that all of the glow rev...             NEGATIVE  \n",
       "16   when you hear folks say that they don make em...             POSITIVE  \n",
       "17   after have dvt my doctor require me to wear c...             POSITIVE  \n",
       "18   excellent product however they be very diffic...             NEGATIVE  \n",
       "19   size be much smaller than what be recomended ...             NEGATIVE  \n",
       "20   this model may be ok for sedentary type but a...             NEGATIVE  \n",
       "21   think it be funny that buy this product witho...             POSITIVE  \n",
       "22   rather than scratch and insect droppings this...             NEGATIVE  \n",
       "23   thoroughly enjoy rise sons and daughters don ...             POSITIVE  \n",
       "24   hear song or two and think same same but when...             POSITIVE  "
      ]
     },
     "execution_count": 129,
     "metadata": {},
     "output_type": "execute_result"
    }
   ],
   "source": [
    "df.head(25)"
   ]
  },
  {
   "cell_type": "code",
   "execution_count": 130,
   "metadata": {},
   "outputs": [
    {
     "data": {
      "text/plain": [
       "0      POSITIVE\n",
       "1      POSITIVE\n",
       "2      POSITIVE\n",
       "3      POSITIVE\n",
       "4      POSITIVE\n",
       "         ...   \n",
       "991    POSITIVE\n",
       "993    POSITIVE\n",
       "994    POSITIVE\n",
       "997    POSITIVE\n",
       "999    POSITIVE\n",
       "Name: hugging_faces_output, Length: 450, dtype: object"
      ]
     },
     "execution_count": 130,
     "metadata": {},
     "output_type": "execute_result"
    }
   ],
   "source": [
    "df[\"hugging_faces_output\"][df[\"hugging_faces_output\"]==\"POSITIVE\"]"
   ]
  },
  {
   "cell_type": "code",
   "execution_count": 131,
   "metadata": {},
   "outputs": [],
   "source": [
    "df[\"hugging_faces_output\"][df[\"hugging_faces_output\"]==\"POSITIVE\"]=1"
   ]
  },
  {
   "cell_type": "code",
   "execution_count": 132,
   "metadata": {},
   "outputs": [],
   "source": [
    "df[\"hugging_faces_output\"][df[\"hugging_faces_output\"]==\"NEGATIVE\"]=0"
   ]
  },
  {
   "cell_type": "code",
   "execution_count": 133,
   "metadata": {},
   "outputs": [
    {
     "data": {
      "text/html": [
       "<div>\n",
       "<style scoped>\n",
       "    .dataframe tbody tr th:only-of-type {\n",
       "        vertical-align: middle;\n",
       "    }\n",
       "\n",
       "    .dataframe tbody tr th {\n",
       "        vertical-align: top;\n",
       "    }\n",
       "\n",
       "    .dataframe thead th {\n",
       "        text-align: right;\n",
       "    }\n",
       "</style>\n",
       "<table border=\"1\" class=\"dataframe\">\n",
       "  <thead>\n",
       "    <tr style=\"text-align: right;\">\n",
       "      <th></th>\n",
       "      <th>label</th>\n",
       "      <th>title</th>\n",
       "      <th>content</th>\n",
       "      <th>processed_tweet</th>\n",
       "      <th>clean_tweet_stopwords_removal</th>\n",
       "      <th>clean_stemmed_tweet</th>\n",
       "      <th>clean_lemmatized_tweet</th>\n",
       "      <th>hugging_faces_output</th>\n",
       "    </tr>\n",
       "  </thead>\n",
       "  <tbody>\n",
       "    <tr>\n",
       "      <th>0</th>\n",
       "      <td>1</td>\n",
       "      <td>Stuning even for the non-gamer</td>\n",
       "      <td>This sound track was beautiful! It paints the ...</td>\n",
       "      <td>this sound track was beautiful it paints the s...</td>\n",
       "      <td>sound track beautiful paints senery mind well...</td>\n",
       "      <td>sound track beauti paint seneri mind well wou...</td>\n",
       "      <td>this sound track be beautiful it paint the se...</td>\n",
       "      <td>1</td>\n",
       "    </tr>\n",
       "    <tr>\n",
       "      <th>1</th>\n",
       "      <td>1</td>\n",
       "      <td>The best soundtrack ever to anything.</td>\n",
       "      <td>I'm reading a lot of reviews saying that this ...</td>\n",
       "      <td>reading lot of reviews saying that this is th...</td>\n",
       "      <td>reading lot reviews saying best game soundtra...</td>\n",
       "      <td>read lot review say best game soundtrack figu...</td>\n",
       "      <td>read lot of review say that this be the best ...</td>\n",
       "      <td>1</td>\n",
       "    </tr>\n",
       "    <tr>\n",
       "      <th>2</th>\n",
       "      <td>1</td>\n",
       "      <td>Amazing!</td>\n",
       "      <td>This soundtrack is my favorite music of all ti...</td>\n",
       "      <td>this soundtrack is my favorite music of all ti...</td>\n",
       "      <td>soundtrack favorite music time hands intense ...</td>\n",
       "      <td>soundtrack favorit music time hand intens sad...</td>\n",
       "      <td>this soundtrack be my favorite music of all t...</td>\n",
       "      <td>1</td>\n",
       "    </tr>\n",
       "    <tr>\n",
       "      <th>3</th>\n",
       "      <td>1</td>\n",
       "      <td>Excellent Soundtrack</td>\n",
       "      <td>I truly like this soundtrack and I enjoy video...</td>\n",
       "      <td>truly like this soundtrack and enjoy video ga...</td>\n",
       "      <td>truly like soundtrack enjoy video game music ...</td>\n",
       "      <td>truli like soundtrack enjoy video game music ...</td>\n",
       "      <td>truly like this soundtrack and enjoy video ga...</td>\n",
       "      <td>1</td>\n",
       "    </tr>\n",
       "    <tr>\n",
       "      <th>4</th>\n",
       "      <td>1</td>\n",
       "      <td>Remember, Pull Your Jaw Off The Floor After He...</td>\n",
       "      <td>If you've played the game, you know how divine...</td>\n",
       "      <td>if you have played the game you know how divin...</td>\n",
       "      <td>played game know divine music every single so...</td>\n",
       "      <td>play game know divin music everi singl song t...</td>\n",
       "      <td>if you have play the game you know how divine...</td>\n",
       "      <td>1</td>\n",
       "    </tr>\n",
       "    <tr>\n",
       "      <th>...</th>\n",
       "      <td>...</td>\n",
       "      <td>...</td>\n",
       "      <td>...</td>\n",
       "      <td>...</td>\n",
       "      <td>...</td>\n",
       "      <td>...</td>\n",
       "      <td>...</td>\n",
       "      <td>...</td>\n",
       "    </tr>\n",
       "    <tr>\n",
       "      <th>995</th>\n",
       "      <td>0</td>\n",
       "      <td>Fuzzy around the edges</td>\n",
       "      <td>I have only read the first 44 pages of this bo...</td>\n",
       "      <td>have only read the first pages of this book s...</td>\n",
       "      <td>read first pages book need read rest far thou...</td>\n",
       "      <td>read first page book need read rest far thoug...</td>\n",
       "      <td>have only read the first page of this book so...</td>\n",
       "      <td>0</td>\n",
       "    </tr>\n",
       "    <tr>\n",
       "      <th>996</th>\n",
       "      <td>0</td>\n",
       "      <td>Brain Based Learning: The New Paradigm of Teac...</td>\n",
       "      <td>I am currently reading the Kindle version of t...</td>\n",
       "      <td>am currently reading the kindle version of th...</td>\n",
       "      <td>currently reading kindle version book book ea...</td>\n",
       "      <td>current read kindl version book book easi rea...</td>\n",
       "      <td>be currently read the kindle version of this ...</td>\n",
       "      <td>0</td>\n",
       "    </tr>\n",
       "    <tr>\n",
       "      <th>997</th>\n",
       "      <td>1</td>\n",
       "      <td>Brain based Learning</td>\n",
       "      <td>This is a text book I ordered for my classes f...</td>\n",
       "      <td>this is text book ordered for my classes for t...</td>\n",
       "      <td>text book ordered classes teacher certificati...</td>\n",
       "      <td>text book order class teacher certif book eas...</td>\n",
       "      <td>this be text book order for my class for teac...</td>\n",
       "      <td>1</td>\n",
       "    </tr>\n",
       "    <tr>\n",
       "      <th>998</th>\n",
       "      <td>0</td>\n",
       "      <td>Pop psychology at its worst</td>\n",
       "      <td>I find it hard to believe people fall for this...</td>\n",
       "      <td>find it hard to believe people fall for this ...</td>\n",
       "      <td>find hard believe people fall stuff writes mu...</td>\n",
       "      <td>find hard believ peopl fall stuff write much ...</td>\n",
       "      <td>find it hard to believe people fall for this ...</td>\n",
       "      <td>0</td>\n",
       "    </tr>\n",
       "    <tr>\n",
       "      <th>999</th>\n",
       "      <td>0</td>\n",
       "      <td>\"Science\"</td>\n",
       "      <td>\"On average, we breathe through one nostril fo...</td>\n",
       "      <td>on average we breathe through one nostril for...</td>\n",
       "      <td>average breathe one nostril three hours tissu...</td>\n",
       "      <td>averag breath one nostril three hour tissu be...</td>\n",
       "      <td>on average we breathe through one nostril for...</td>\n",
       "      <td>1</td>\n",
       "    </tr>\n",
       "  </tbody>\n",
       "</table>\n",
       "<p>1000 rows × 8 columns</p>\n",
       "</div>"
      ],
      "text/plain": [
       "     label                                              title  \\\n",
       "0        1                     Stuning even for the non-gamer   \n",
       "1        1              The best soundtrack ever to anything.   \n",
       "2        1                                           Amazing!   \n",
       "3        1                               Excellent Soundtrack   \n",
       "4        1  Remember, Pull Your Jaw Off The Floor After He...   \n",
       "..     ...                                                ...   \n",
       "995      0                             Fuzzy around the edges   \n",
       "996      0  Brain Based Learning: The New Paradigm of Teac...   \n",
       "997      1                               Brain based Learning   \n",
       "998      0                        Pop psychology at its worst   \n",
       "999      0                                          \"Science\"   \n",
       "\n",
       "                                               content  \\\n",
       "0    This sound track was beautiful! It paints the ...   \n",
       "1    I'm reading a lot of reviews saying that this ...   \n",
       "2    This soundtrack is my favorite music of all ti...   \n",
       "3    I truly like this soundtrack and I enjoy video...   \n",
       "4    If you've played the game, you know how divine...   \n",
       "..                                                 ...   \n",
       "995  I have only read the first 44 pages of this bo...   \n",
       "996  I am currently reading the Kindle version of t...   \n",
       "997  This is a text book I ordered for my classes f...   \n",
       "998  I find it hard to believe people fall for this...   \n",
       "999  \"On average, we breathe through one nostril fo...   \n",
       "\n",
       "                                       processed_tweet  \\\n",
       "0    this sound track was beautiful it paints the s...   \n",
       "1     reading lot of reviews saying that this is th...   \n",
       "2    this soundtrack is my favorite music of all ti...   \n",
       "3     truly like this soundtrack and enjoy video ga...   \n",
       "4    if you have played the game you know how divin...   \n",
       "..                                                 ...   \n",
       "995   have only read the first pages of this book s...   \n",
       "996   am currently reading the kindle version of th...   \n",
       "997  this is text book ordered for my classes for t...   \n",
       "998   find it hard to believe people fall for this ...   \n",
       "999   on average we breathe through one nostril for...   \n",
       "\n",
       "                         clean_tweet_stopwords_removal  \\\n",
       "0     sound track beautiful paints senery mind well...   \n",
       "1     reading lot reviews saying best game soundtra...   \n",
       "2     soundtrack favorite music time hands intense ...   \n",
       "3     truly like soundtrack enjoy video game music ...   \n",
       "4     played game know divine music every single so...   \n",
       "..                                                 ...   \n",
       "995   read first pages book need read rest far thou...   \n",
       "996   currently reading kindle version book book ea...   \n",
       "997   text book ordered classes teacher certificati...   \n",
       "998   find hard believe people fall stuff writes mu...   \n",
       "999   average breathe one nostril three hours tissu...   \n",
       "\n",
       "                                   clean_stemmed_tweet  \\\n",
       "0     sound track beauti paint seneri mind well wou...   \n",
       "1     read lot review say best game soundtrack figu...   \n",
       "2     soundtrack favorit music time hand intens sad...   \n",
       "3     truli like soundtrack enjoy video game music ...   \n",
       "4     play game know divin music everi singl song t...   \n",
       "..                                                 ...   \n",
       "995   read first page book need read rest far thoug...   \n",
       "996   current read kindl version book book easi rea...   \n",
       "997   text book order class teacher certif book eas...   \n",
       "998   find hard believ peopl fall stuff write much ...   \n",
       "999   averag breath one nostril three hour tissu be...   \n",
       "\n",
       "                                clean_lemmatized_tweet hugging_faces_output  \n",
       "0     this sound track be beautiful it paint the se...                    1  \n",
       "1     read lot of review say that this be the best ...                    1  \n",
       "2     this soundtrack be my favorite music of all t...                    1  \n",
       "3     truly like this soundtrack and enjoy video ga...                    1  \n",
       "4     if you have play the game you know how divine...                    1  \n",
       "..                                                 ...                  ...  \n",
       "995   have only read the first page of this book so...                    0  \n",
       "996   be currently read the kindle version of this ...                    0  \n",
       "997   this be text book order for my class for teac...                    1  \n",
       "998   find it hard to believe people fall for this ...                    0  \n",
       "999   on average we breathe through one nostril for...                    1  \n",
       "\n",
       "[1000 rows x 8 columns]"
      ]
     },
     "execution_count": 133,
     "metadata": {},
     "output_type": "execute_result"
    }
   ],
   "source": [
    "df[:data_processed]"
   ]
  },
  {
   "cell_type": "code",
   "execution_count": 134,
   "metadata": {},
   "outputs": [],
   "source": [
    "df[\"hugging_faces_output\"]= pd.to_numeric(df[\"hugging_faces_output\"], errors='coerce') "
   ]
  },
  {
   "cell_type": "code",
   "execution_count": 135,
   "metadata": {},
   "outputs": [
    {
     "data": {
      "image/png": "[encoded data removed]",
      "text/plain": [
       "<Figure size 600x400 with 1 Axes>"
      ]
     },
     "metadata": {
      "needs_background": "light"
     },
     "output_type": "display_data"
    }
   ],
   "source": [
    "plot_confusion_matrix(df[\"label\"][:data_processed],df[\"hugging_faces_output\"][:data_processed] , title= 'Confusion Matrix for hugging_faces_output')\n"
   ]
  },
  {
   "cell_type": "code",
   "execution_count": 136,
   "metadata": {},
   "outputs": [
    {
     "name": "stdout",
     "output_type": "stream",
     "text": [
      "Accuracy with hugging_faces_output 0.894\n"
     ]
    }
   ],
   "source": [
    "accuracy(df[\"hugging_faces_output\"][:data_processed] ,df[\"label\"][:data_processed], title=\"Accuracy with hugging_faces_output\" )"
   ]
  },
  {
   "cell_type": "code",
   "execution_count": 137,
   "metadata": {},
   "outputs": [
    {
     "name": "stdout",
     "output_type": "stream",
     "text": [
      "              precision    recall  f1-score   support\n",
      "\n",
      "           0       0.89      0.91      0.90       538\n",
      "           1       0.90      0.87      0.88       462\n",
      "\n",
      "    accuracy                           0.89      1000\n",
      "   macro avg       0.89      0.89      0.89      1000\n",
      "weighted avg       0.89      0.89      0.89      1000\n",
      "\n"
     ]
    }
   ],
   "source": [
    "\n",
    "classification_report(df[\"hugging_faces_output\"][:data_processed] ,df[\"label\"][:data_processed])\n",
    "#roc_curve(X_test ,y_test , model_naive)"
   ]
  },
  {
   "cell_type": "code",
   "execution_count": 138,
   "metadata": {},
   "outputs": [
    {
     "data": {
      "text/html": [
       "<div>\n",
       "<style scoped>\n",
       "    .dataframe tbody tr th:only-of-type {\n",
       "        vertical-align: middle;\n",
       "    }\n",
       "\n",
       "    .dataframe tbody tr th {\n",
       "        vertical-align: top;\n",
       "    }\n",
       "\n",
       "    .dataframe thead th {\n",
       "        text-align: right;\n",
       "    }\n",
       "</style>\n",
       "<table border=\"1\" class=\"dataframe\">\n",
       "  <thead>\n",
       "    <tr style=\"text-align: right;\">\n",
       "      <th></th>\n",
       "      <th>label</th>\n",
       "      <th>title</th>\n",
       "      <th>content</th>\n",
       "      <th>processed_tweet</th>\n",
       "      <th>clean_tweet_stopwords_removal</th>\n",
       "      <th>clean_stemmed_tweet</th>\n",
       "      <th>clean_lemmatized_tweet</th>\n",
       "      <th>hugging_faces_output</th>\n",
       "    </tr>\n",
       "  </thead>\n",
       "  <tbody>\n",
       "    <tr>\n",
       "      <th>0</th>\n",
       "      <td>1</td>\n",
       "      <td>Stuning even for the non-gamer</td>\n",
       "      <td>This sound track was beautiful! It paints the ...</td>\n",
       "      <td>this sound track was beautiful it paints the s...</td>\n",
       "      <td>sound track beautiful paints senery mind well...</td>\n",
       "      <td>sound track beauti paint seneri mind well wou...</td>\n",
       "      <td>this sound track be beautiful it paint the se...</td>\n",
       "      <td>0</td>\n",
       "    </tr>\n",
       "    <tr>\n",
       "      <th>1</th>\n",
       "      <td>1</td>\n",
       "      <td>The best soundtrack ever to anything.</td>\n",
       "      <td>I'm reading a lot of reviews saying that this ...</td>\n",
       "      <td>reading lot of reviews saying that this is th...</td>\n",
       "      <td>reading lot reviews saying best game soundtra...</td>\n",
       "      <td>read lot review say best game soundtrack figu...</td>\n",
       "      <td>read lot of review say that this be the best ...</td>\n",
       "      <td>0</td>\n",
       "    </tr>\n",
       "    <tr>\n",
       "      <th>2</th>\n",
       "      <td>1</td>\n",
       "      <td>Amazing!</td>\n",
       "      <td>This soundtrack is my favorite music of all ti...</td>\n",
       "      <td>this soundtrack is my favorite music of all ti...</td>\n",
       "      <td>soundtrack favorite music time hands intense ...</td>\n",
       "      <td>soundtrack favorit music time hand intens sad...</td>\n",
       "      <td>this soundtrack be my favorite music of all t...</td>\n",
       "      <td>0</td>\n",
       "    </tr>\n",
       "    <tr>\n",
       "      <th>3</th>\n",
       "      <td>1</td>\n",
       "      <td>Excellent Soundtrack</td>\n",
       "      <td>I truly like this soundtrack and I enjoy video...</td>\n",
       "      <td>truly like this soundtrack and enjoy video ga...</td>\n",
       "      <td>truly like soundtrack enjoy video game music ...</td>\n",
       "      <td>truli like soundtrack enjoy video game music ...</td>\n",
       "      <td>truly like this soundtrack and enjoy video ga...</td>\n",
       "      <td>0</td>\n",
       "    </tr>\n",
       "    <tr>\n",
       "      <th>4</th>\n",
       "      <td>1</td>\n",
       "      <td>Remember, Pull Your Jaw Off The Floor After He...</td>\n",
       "      <td>If you've played the game, you know how divine...</td>\n",
       "      <td>if you have played the game you know how divin...</td>\n",
       "      <td>played game know divine music every single so...</td>\n",
       "      <td>play game know divin music everi singl song t...</td>\n",
       "      <td>if you have play the game you know how divine...</td>\n",
       "      <td>0</td>\n",
       "    </tr>\n",
       "    <tr>\n",
       "      <th>...</th>\n",
       "      <td>...</td>\n",
       "      <td>...</td>\n",
       "      <td>...</td>\n",
       "      <td>...</td>\n",
       "      <td>...</td>\n",
       "      <td>...</td>\n",
       "      <td>...</td>\n",
       "      <td>...</td>\n",
       "    </tr>\n",
       "    <tr>\n",
       "      <th>99777</th>\n",
       "      <td>1</td>\n",
       "      <td>THE POLY SCI MAJOR WAS FORCED TO READ THIS</td>\n",
       "      <td>The last thing i wanted to do was invest time ...</td>\n",
       "      <td>the last thing wanted to do was invest time re...</td>\n",
       "      <td>last thing wanted invest time reading massive...</td>\n",
       "      <td>last thing want invest time read massiv tomb ...</td>\n",
       "      <td>the last thing want to do be invest time read...</td>\n",
       "      <td>0</td>\n",
       "    </tr>\n",
       "    <tr>\n",
       "      <th>99778</th>\n",
       "      <td>0</td>\n",
       "      <td>Moby Dick DVD</td>\n",
       "      <td>You are never too old to learn something new. ...</td>\n",
       "      <td>you are never too old to learn something new w...</td>\n",
       "      <td>never old learn something new aware dvd regio...</td>\n",
       "      <td>never old learn someth new awar dvd region on...</td>\n",
       "      <td>you be never too old to learn something new b...</td>\n",
       "      <td>0</td>\n",
       "    </tr>\n",
       "    <tr>\n",
       "      <th>99779</th>\n",
       "      <td>1</td>\n",
       "      <td>John Huston does himself &amp; Melville proud</td>\n",
       "      <td>Huston, although necessarily simplifying the c...</td>\n",
       "      <td>huston although necessarily simplifying the co...</td>\n",
       "      <td>huston although necessarily simplifying compl...</td>\n",
       "      <td>huston although necessarili simplifi complex ...</td>\n",
       "      <td>huston although necessarily simplify the comp...</td>\n",
       "      <td>0</td>\n",
       "    </tr>\n",
       "    <tr>\n",
       "      <th>99780</th>\n",
       "      <td>0</td>\n",
       "      <td>Great movie, false advertising</td>\n",
       "      <td>One of the truly great movies by John Huston a...</td>\n",
       "      <td>one of the truly great movies by john huston a...</td>\n",
       "      <td>one truly great movies john huston first give...</td>\n",
       "      <td>one truli great movi john huston first give r...</td>\n",
       "      <td>one of the truly great movies by john huston ...</td>\n",
       "      <td>0</td>\n",
       "    </tr>\n",
       "    <tr>\n",
       "      <th>99781</th>\n",
       "      <td>0</td>\n",
       "      <td>worst quality DVD I've ever seen</td>\n",
       "      <td>Don't waste your money on this DVD (original 1...</td>\n",
       "      <td>don waste your money on this dvd original vers...</td>\n",
       "      <td>waste money dvd original version looks like r...</td>\n",
       "      <td>wast money dvd origin version look like recor...</td>\n",
       "      <td>don waste your money on this dvd original ver...</td>\n",
       "      <td>0</td>\n",
       "    </tr>\n",
       "  </tbody>\n",
       "</table>\n",
       "<p>99782 rows × 8 columns</p>\n",
       "</div>"
      ],
      "text/plain": [
       "       label                                              title  \\\n",
       "0          1                     Stuning even for the non-gamer   \n",
       "1          1              The best soundtrack ever to anything.   \n",
       "2          1                                           Amazing!   \n",
       "3          1                               Excellent Soundtrack   \n",
       "4          1  Remember, Pull Your Jaw Off The Floor After He...   \n",
       "...      ...                                                ...   \n",
       "99777      1         THE POLY SCI MAJOR WAS FORCED TO READ THIS   \n",
       "99778      0                                      Moby Dick DVD   \n",
       "99779      1          John Huston does himself & Melville proud   \n",
       "99780      0                     Great movie, false advertising   \n",
       "99781      0                   worst quality DVD I've ever seen   \n",
       "\n",
       "                                                 content  \\\n",
       "0      This sound track was beautiful! It paints the ...   \n",
       "1      I'm reading a lot of reviews saying that this ...   \n",
       "2      This soundtrack is my favorite music of all ti...   \n",
       "3      I truly like this soundtrack and I enjoy video...   \n",
       "4      If you've played the game, you know how divine...   \n",
       "...                                                  ...   \n",
       "99777  The last thing i wanted to do was invest time ...   \n",
       "99778  You are never too old to learn something new. ...   \n",
       "99779  Huston, although necessarily simplifying the c...   \n",
       "99780  One of the truly great movies by John Huston a...   \n",
       "99781  Don't waste your money on this DVD (original 1...   \n",
       "\n",
       "                                         processed_tweet  \\\n",
       "0      this sound track was beautiful it paints the s...   \n",
       "1       reading lot of reviews saying that this is th...   \n",
       "2      this soundtrack is my favorite music of all ti...   \n",
       "3       truly like this soundtrack and enjoy video ga...   \n",
       "4      if you have played the game you know how divin...   \n",
       "...                                                  ...   \n",
       "99777  the last thing wanted to do was invest time re...   \n",
       "99778  you are never too old to learn something new w...   \n",
       "99779  huston although necessarily simplifying the co...   \n",
       "99780  one of the truly great movies by john huston a...   \n",
       "99781  don waste your money on this dvd original vers...   \n",
       "\n",
       "                           clean_tweet_stopwords_removal  \\\n",
       "0       sound track beautiful paints senery mind well...   \n",
       "1       reading lot reviews saying best game soundtra...   \n",
       "2       soundtrack favorite music time hands intense ...   \n",
       "3       truly like soundtrack enjoy video game music ...   \n",
       "4       played game know divine music every single so...   \n",
       "...                                                  ...   \n",
       "99777   last thing wanted invest time reading massive...   \n",
       "99778   never old learn something new aware dvd regio...   \n",
       "99779   huston although necessarily simplifying compl...   \n",
       "99780   one truly great movies john huston first give...   \n",
       "99781   waste money dvd original version looks like r...   \n",
       "\n",
       "                                     clean_stemmed_tweet  \\\n",
       "0       sound track beauti paint seneri mind well wou...   \n",
       "1       read lot review say best game soundtrack figu...   \n",
       "2       soundtrack favorit music time hand intens sad...   \n",
       "3       truli like soundtrack enjoy video game music ...   \n",
       "4       play game know divin music everi singl song t...   \n",
       "...                                                  ...   \n",
       "99777   last thing want invest time read massiv tomb ...   \n",
       "99778   never old learn someth new awar dvd region on...   \n",
       "99779   huston although necessarili simplifi complex ...   \n",
       "99780   one truli great movi john huston first give r...   \n",
       "99781   wast money dvd origin version look like recor...   \n",
       "\n",
       "                                  clean_lemmatized_tweet  hugging_faces_output  \n",
       "0       this sound track be beautiful it paint the se...                     0  \n",
       "1       read lot of review say that this be the best ...                     0  \n",
       "2       this soundtrack be my favorite music of all t...                     0  \n",
       "3       truly like this soundtrack and enjoy video ga...                     0  \n",
       "4       if you have play the game you know how divine...                     0  \n",
       "...                                                  ...                   ...  \n",
       "99777   the last thing want to do be invest time read...                     0  \n",
       "99778   you be never too old to learn something new b...                     0  \n",
       "99779   huston although necessarily simplify the comp...                     0  \n",
       "99780   one of the truly great movies by john huston ...                     0  \n",
       "99781   don waste your money on this dvd original ver...                     0  \n",
       "\n",
       "[99782 rows x 8 columns]"
      ]
     },
     "execution_count": 138,
     "metadata": {},
     "output_type": "execute_result"
    }
   ],
   "source": [
    "df[\"hugging_faces_output\"]=0 \n",
    "df"
   ]
  },
  {
   "cell_type": "code",
   "execution_count": null,
   "metadata": {},
   "outputs": [],
   "source": []
  },
  {
   "cell_type": "code",
   "execution_count": 139,
   "metadata": {},
   "outputs": [
    {
     "name": "stderr",
     "output_type": "stream",
     "text": [
      "No model was supplied, defaulted to distilbert-base-uncased-finetuned-sst-2-english (https://huggingface.co/distilbert-base-uncased-finetuned-sst-2-english)\n",
      "C:\\Users\\finnocenti\\AppData\\Local\\Temp\\ipykernel_21520\\1504480264.py:6: SettingWithCopyWarning: \n",
      "A value is trying to be set on a copy of a slice from a DataFrame\n",
      "\n",
      "See the caveats in the documentation: https://pandas.pydata.org/pandas-docs/stable/user_guide/indexing.html#returning-a-view-versus-a-copy\n",
      "  df[\"hugging_faces_output\"][k] = classifier(i)[0]['label']\n"
     ]
    }
   ],
   "source": [
    "df[\"hugging_faces_output\"]= hugging_model(df, data_processed=1000,df_filter=\"processed_tweet\" )"
   ]
  },
  {
   "cell_type": "code",
   "execution_count": 140,
   "metadata": {},
   "outputs": [
    {
     "data": {
      "image/png": "[encoded data removed]",
      "text/plain": [
       "<Figure size 600x400 with 1 Axes>"
      ]
     },
     "metadata": {
      "needs_background": "light"
     },
     "output_type": "display_data"
    },
    {
     "name": "stdout",
     "output_type": "stream",
     "text": [
      "Accuracy with hugging_faces_output 0.871\n",
      "              precision    recall  f1-score   support\n",
      "\n",
      "           0       0.84      0.94      0.89       538\n",
      "           1       0.92      0.79      0.85       462\n",
      "\n",
      "    accuracy                           0.87      1000\n",
      "   macro avg       0.88      0.87      0.87      1000\n",
      "weighted avg       0.88      0.87      0.87      1000\n",
      "\n"
     ]
    }
   ],
   "source": [
    "hugging_metrics(df, data_processed=1000)"
   ]
  },
  {
   "cell_type": "code",
   "execution_count": null,
   "metadata": {},
   "outputs": [],
   "source": []
  }
 ],
 "metadata": {
  "interpreter": {
   "hash": "caa77293aa0bb6d708f14aa7067431bfad005638682f55f3c760078bd04d7124"
  },
  "kernelspec": {
   "display_name": "Python 3.9.12 ('base')",
   "language": "python",
   "name": "python3"
  },
  "language_info": {
   "codemirror_mode": {
    "name": "ipython",
    "version": 3
   },
   "file_extension": ".py",
   "mimetype": "text/x-python",
   "name": "python",
   "nbconvert_exporter": "python",
   "pygments_lexer": "ipython3",
   "version": "3.9.12"
  },
  "orig_nbformat": 4
 },
 "nbformat": 4,
 "nbformat_minor": 2
}
