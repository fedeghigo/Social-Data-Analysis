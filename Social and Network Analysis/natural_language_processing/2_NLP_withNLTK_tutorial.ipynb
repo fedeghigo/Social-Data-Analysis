{
 "cells": [
  {
   "cell_type": "markdown",
   "metadata": {
    "colab_type": "text",
    "id": "view-in-github"
   },
   "source": [
    "<a href=\"https://colab.research.google.com/github/towardsai/tutorials/blob/master/natural_language_processing/natural_language_processing_tutorial.ipynb\" target=\"_parent\"><img src=\"https://colab.research.google.com/assets/colab-badge.svg\" alt=\"Open In Colab\"/></a>"
   ]
  },
  {
   "cell_type": "markdown",
   "metadata": {
    "id": "8CbkQnvBVXPv"
   },
   "source": [
    "## Natural Language Processing (NLP) with Python \n",
    "\n",
    "Link to the article: \n",
    "https://towardsai.net/p/nlp/natural-language-processing-nlp-with-python-tutorial-for-beginners-1f54e610a1a0\n",
    "\n",
    "Links to the original version of the tutorial:\n",
    "\n",
    "* Colab: https://colab.research.google.com/drive/1vt4u8Hp-iQIRSFc633Outvl7t3R34-iJ?usp=sharing#scrollTo=8CbkQnvBVXPv\n",
    "\n",
    "* Github: https://github.com/towardsai/tutorials/tree/master/natural_language_processing\n"
   ]
  },
  {
   "cell_type": "markdown",
   "metadata": {},
   "source": [
    "### Installing the NLTK package"
   ]
  },
  {
   "cell_type": "code",
   "execution_count": 1,
   "metadata": {},
   "outputs": [],
   "source": [
    "#! pip install --user nltk\n",
    "#! pip install --user matplotlib"
   ]
  },
  {
   "cell_type": "markdown",
   "metadata": {},
   "source": [
    "### Downloading data"
   ]
  },
  {
   "cell_type": "code",
   "execution_count": 2,
   "metadata": {
    "colab": {
     "base_uri": "https://localhost:8080/"
    },
    "id": "dzRE-7BVREOJ",
    "outputId": "90c80ca7-6776-43fe-c6f3-53c01c52c1ff"
   },
   "outputs": [],
   "source": [
    "#To get the text file used :\n",
    "#!wget https://raw.githubusercontent.com/towardsai/tutorials/master/natural_language_processing/Natural_Language_Processing_Text.txt\n",
    "\n",
    "#To get the image file used :\n",
    "#!wget https://raw.githubusercontent.com/towardsai/tutorials/master/natural_language_processing/circle.png"
   ]
  },
  {
   "cell_type": "markdown",
   "metadata": {},
   "source": [
    "### Open a text file and read the content"
   ]
  },
  {
   "cell_type": "code",
   "execution_count": 3,
   "metadata": {
    "colab": {
     "base_uri": "https://localhost:8080/",
     "height": 228
    },
    "id": "__TNs3DOBiC0",
    "outputId": "4f331b5e-616b-48fc-e9de-fd47b2634916"
   },
   "outputs": [
    {
     "name": "stdout",
     "output_type": "stream",
     "text": [
      "Once upon a time there was an old mother pig who had three little pigs and not enough food to feed them. So when they were old enough, she sent them out into the world to seek their fortunes.\n",
      "\n",
      "The first little pig was very lazy. He didn't want to work at all and he built his house out of straw. The second little pig worked a little bit harder but he was somewhat lazy too and he built his house out of sticks. Then, they sang and danced and played together the rest of the day.\n",
      "\n",
      "The third little pig worked hard all day and built his house with bricks. It was a sturdy house complete with a fine fireplace and chimney. It looked like it could withstand the strongest winds.\n",
      "\n",
      "\n",
      "675\n",
      "\n",
      "\n",
      "<class 'str'>\n",
      "\n",
      "\n"
     ]
    }
   ],
   "source": [
    "#Open the text file :\n",
    "text_file = open(\"Natural_Language_Processing_Text.txt\")\n",
    "\n",
    "#Read the data :\n",
    "text = text_file.read()\n",
    "\n",
    "#Print the text:\n",
    "print(text)\n",
    "print(\"\\n\")\n",
    "\n",
    "#Length of the text:\n",
    "print (len(text))\n",
    "print(\"\\n\")\n",
    "\n",
    "#Datatype of the data:\n",
    "print (type(text))\n",
    "print(\"\\n\")"
   ]
  },
  {
   "cell_type": "markdown",
   "metadata": {},
   "source": [
    "### Importing required libraries:"
   ]
  },
  {
   "cell_type": "code",
   "execution_count": 4,
   "metadata": {
    "colab": {
     "base_uri": "https://localhost:8080/",
     "height": 832
    },
    "id": "kk-wDQ4zdAvF",
    "outputId": "9f1aa82d-01d5-41c2-9097-ad6d18b3a924"
   },
   "outputs": [
    {
     "name": "stderr",
     "output_type": "stream",
     "text": [
      "[nltk_data] Downloading collection 'popular'\n",
      "[nltk_data]    | \n",
      "[nltk_data]    | Downloading package cmudict to\n",
      "[nltk_data]    |     /Users/idamele/nltk_data...\n",
      "[nltk_data]    |   Package cmudict is already up-to-date!\n",
      "[nltk_data]    | Downloading package gazetteers to\n",
      "[nltk_data]    |     /Users/idamele/nltk_data...\n",
      "[nltk_data]    |   Package gazetteers is already up-to-date!\n",
      "[nltk_data]    | Downloading package genesis to\n",
      "[nltk_data]    |     /Users/idamele/nltk_data...\n",
      "[nltk_data]    |   Package genesis is already up-to-date!\n",
      "[nltk_data]    | Downloading package gutenberg to\n",
      "[nltk_data]    |     /Users/idamele/nltk_data...\n",
      "[nltk_data]    |   Package gutenberg is already up-to-date!\n",
      "[nltk_data]    | Downloading package inaugural to\n",
      "[nltk_data]    |     /Users/idamele/nltk_data...\n",
      "[nltk_data]    |   Package inaugural is already up-to-date!\n",
      "[nltk_data]    | Downloading package movie_reviews to\n",
      "[nltk_data]    |     /Users/idamele/nltk_data...\n",
      "[nltk_data]    |   Package movie_reviews is already up-to-date!\n",
      "[nltk_data]    | Downloading package names to\n",
      "[nltk_data]    |     /Users/idamele/nltk_data...\n",
      "[nltk_data]    |   Package names is already up-to-date!\n",
      "[nltk_data]    | Downloading package shakespeare to\n",
      "[nltk_data]    |     /Users/idamele/nltk_data...\n",
      "[nltk_data]    |   Package shakespeare is already up-to-date!\n",
      "[nltk_data]    | Downloading package stopwords to\n",
      "[nltk_data]    |     /Users/idamele/nltk_data...\n",
      "[nltk_data]    |   Package stopwords is already up-to-date!\n",
      "[nltk_data]    | Downloading package treebank to\n",
      "[nltk_data]    |     /Users/idamele/nltk_data...\n",
      "[nltk_data]    |   Package treebank is already up-to-date!\n",
      "[nltk_data]    | Downloading package twitter_samples to\n",
      "[nltk_data]    |     /Users/idamele/nltk_data...\n",
      "[nltk_data]    |   Package twitter_samples is already up-to-date!\n",
      "[nltk_data]    | Downloading package omw to\n",
      "[nltk_data]    |     /Users/idamele/nltk_data...\n",
      "[nltk_data]    |   Package omw is already up-to-date!\n",
      "[nltk_data]    | Downloading package omw-1.4 to\n",
      "[nltk_data]    |     /Users/idamele/nltk_data...\n",
      "[nltk_data]    |   Package omw-1.4 is already up-to-date!\n",
      "[nltk_data]    | Downloading package wordnet to\n",
      "[nltk_data]    |     /Users/idamele/nltk_data...\n",
      "[nltk_data]    |   Package wordnet is already up-to-date!\n",
      "[nltk_data]    | Downloading package wordnet2021 to\n",
      "[nltk_data]    |     /Users/idamele/nltk_data...\n",
      "[nltk_data]    |   Package wordnet2021 is already up-to-date!\n",
      "[nltk_data]    | Downloading package wordnet31 to\n",
      "[nltk_data]    |     /Users/idamele/nltk_data...\n",
      "[nltk_data]    |   Package wordnet31 is already up-to-date!\n",
      "[nltk_data]    | Downloading package wordnet_ic to\n",
      "[nltk_data]    |     /Users/idamele/nltk_data...\n",
      "[nltk_data]    |   Package wordnet_ic is already up-to-date!\n",
      "[nltk_data]    | Downloading package words to\n",
      "[nltk_data]    |     /Users/idamele/nltk_data...\n",
      "[nltk_data]    |   Package words is already up-to-date!\n",
      "[nltk_data]    | Downloading package maxent_ne_chunker to\n",
      "[nltk_data]    |     /Users/idamele/nltk_data...\n",
      "[nltk_data]    |   Package maxent_ne_chunker is already up-to-date!\n",
      "[nltk_data]    | Downloading package punkt to\n",
      "[nltk_data]    |     /Users/idamele/nltk_data...\n",
      "[nltk_data]    |   Package punkt is already up-to-date!\n",
      "[nltk_data]    | Downloading package snowball_data to\n",
      "[nltk_data]    |     /Users/idamele/nltk_data...\n",
      "[nltk_data]    |   Package snowball_data is already up-to-date!\n",
      "[nltk_data]    | Downloading package averaged_perceptron_tagger to\n",
      "[nltk_data]    |     /Users/idamele/nltk_data...\n",
      "[nltk_data]    |   Package averaged_perceptron_tagger is already up-\n",
      "[nltk_data]    |       to-date!\n",
      "[nltk_data]    | \n",
      "[nltk_data]  Done downloading collection popular\n"
     ]
    },
    {
     "data": {
      "text/plain": [
       "True"
      ]
     },
     "execution_count": 4,
     "metadata": {},
     "output_type": "execute_result"
    }
   ],
   "source": [
    "import nltk\n",
    "from nltk import sent_tokenize\n",
    "from nltk import word_tokenize\n",
    "\n",
    "\n",
    "import nltk\n",
    "nltk.download(\"popular\")"
   ]
  },
  {
   "cell_type": "markdown",
   "metadata": {},
   "source": [
    "### Tokenization"
   ]
  },
  {
   "cell_type": "code",
   "execution_count": 5,
   "metadata": {
    "colab": {
     "base_uri": "https://localhost:8080/",
     "height": 211
    },
    "id": "nR2CzbHWdKrH",
    "outputId": "dc7b90a8-d359-46dc-e7c0-b3a52478b308"
   },
   "outputs": [
    {
     "name": "stdout",
     "output_type": "stream",
     "text": [
      "Number of sentences: 9\n",
      "\n",
      "['Once upon a time there was an old mother pig who had three little pigs and not enough food to feed them.', 'So when they were old enough, she sent them out into the world to seek their fortunes.', 'The first little pig was very lazy.', \"He didn't want to work at all and he built his house out of straw.\", 'The second little pig worked a little bit harder but he was somewhat lazy too and he built his house out of sticks.', 'Then, they sang and danced and played together the rest of the day.', 'The third little pig worked hard all day and built his house with bricks.', 'It was a sturdy house complete with a fine fireplace and chimney.', 'It looked like it could withstand the strongest winds.']\n"
     ]
    }
   ],
   "source": [
    "#Tokenize the text by sentences:\n",
    "sentences = sent_tokenize(text)\n",
    "\n",
    "#How many sentences:\n",
    "print (\"Number of sentences: \"+str(len(sentences))+\"\\n\")\n",
    "\n",
    "#Print the sentences:\n",
    "print(sentences)\n"
   ]
  },
  {
   "cell_type": "code",
   "execution_count": 6,
   "metadata": {
    "colab": {
     "base_uri": "https://localhost:8080/",
     "height": 107
    },
    "id": "pUPacHqcdqc1",
    "outputId": "0e4da7b8-9a93-4c8c-ef5c-a8d24baaa5c4",
    "scrolled": true
   },
   "outputs": [
    {
     "name": "stdout",
     "output_type": "stream",
     "text": [
      "Number of words: 144\n",
      "\n",
      "['Once', 'upon', 'a', 'time', 'there', 'was', 'an', 'old', 'mother', 'pig', 'who', 'had', 'three', 'little', 'pigs', 'and', 'not', 'enough', 'food', 'to', 'feed', 'them', '.', 'So', 'when', 'they', 'were', 'old', 'enough', ',', 'she', 'sent', 'them', 'out', 'into', 'the', 'world', 'to', 'seek', 'their', 'fortunes', '.', 'The', 'first', 'little', 'pig', 'was', 'very', 'lazy', '.', 'He', 'did', \"n't\", 'want', 'to', 'work', 'at', 'all', 'and', 'he', 'built', 'his', 'house', 'out', 'of', 'straw', '.', 'The', 'second', 'little', 'pig', 'worked', 'a', 'little', 'bit', 'harder', 'but', 'he', 'was', 'somewhat', 'lazy', 'too', 'and', 'he', 'built', 'his', 'house', 'out', 'of', 'sticks', '.', 'Then', ',', 'they', 'sang', 'and', 'danced', 'and', 'played', 'together', 'the', 'rest', 'of', 'the', 'day', '.', 'The', 'third', 'little', 'pig', 'worked', 'hard', 'all', 'day', 'and', 'built', 'his', 'house', 'with', 'bricks', '.', 'It', 'was', 'a', 'sturdy', 'house', 'complete', 'with', 'a', 'fine', 'fireplace', 'and', 'chimney', '.', 'It', 'looked', 'like', 'it', 'could', 'withstand', 'the', 'strongest', 'winds', '.']\n"
     ]
    }
   ],
   "source": [
    "#Tokenize the text with words:\n",
    "words = word_tokenize(text)\n",
    "\n",
    "#How many words:\n",
    "print (\"Number of words: \"+str(len(words))+\"\\n\")\n",
    "\n",
    "#Print words:\n",
    "print (words)"
   ]
  },
  {
   "cell_type": "markdown",
   "metadata": {},
   "source": [
    "### Frequency distributions of words"
   ]
  },
  {
   "cell_type": "code",
   "execution_count": 7,
   "metadata": {
    "colab": {
     "base_uri": "https://localhost:8080/",
     "height": 191
    },
    "id": "JsBVhkCFdsuU",
    "outputId": "d342ce56-1df7-41b4-f42b-bc1b35d06734"
   },
   "outputs": [
    {
     "data": {
      "text/plain": [
       "[('.', 9),\n",
       " ('and', 7),\n",
       " ('little', 5),\n",
       " ('a', 4),\n",
       " ('was', 4),\n",
       " ('pig', 4),\n",
       " ('the', 4),\n",
       " ('house', 4),\n",
       " ('to', 3),\n",
       " ('out', 3)]"
      ]
     },
     "execution_count": 7,
     "metadata": {},
     "output_type": "execute_result"
    }
   ],
   "source": [
    "#Import required libraries :\n",
    "from nltk.probability import FreqDist\n",
    "\n",
    "#Find the frequency :\n",
    "fdist = FreqDist(words)\n",
    "\n",
    "#Print 10 most common words :\n",
    "fdist.most_common(10)"
   ]
  },
  {
   "cell_type": "code",
   "execution_count": 8,
   "metadata": {
    "colab": {
     "base_uri": "https://localhost:8080/",
     "height": 299
    },
    "id": "LtNIRQvTduKt",
    "outputId": "19a6b8ce-8303-4a9b-deec-5b6a89d1c7ff"
   },
   "outputs": [
    {
     "data": {
      "image/png": "[encoded data removed]",
      "text/plain": [
       "<Figure size 432x288 with 1 Axes>"
      ]
     },
     "metadata": {
      "needs_background": "light"
     },
     "output_type": "display_data"
    },
    {
     "data": {
      "text/plain": [
       "<AxesSubplot:xlabel='Samples', ylabel='Counts'>"
      ]
     },
     "execution_count": 8,
     "metadata": {},
     "output_type": "execute_result"
    }
   ],
   "source": [
    "#Plot the graph for fdist :\n",
    "import matplotlib.pyplot as plt\n",
    "\n",
    "fdist.plot(10)"
   ]
  },
  {
   "cell_type": "markdown",
   "metadata": {},
   "source": [
    "### Remove punctuation"
   ]
  },
  {
   "cell_type": "code",
   "execution_count": 9,
   "metadata": {
    "colab": {
     "base_uri": "https://localhost:8080/",
     "height": 107
    },
    "id": "tUPyjVHrdveU",
    "outputId": "8161a23f-2ae5-4081-b123-afe0f1bcaa6b"
   },
   "outputs": [
    {
     "name": "stdout",
     "output_type": "stream",
     "text": [
      "132\n",
      "\n",
      "\n",
      "['once', 'upon', 'a', 'time', 'there', 'was', 'an', 'old', 'mother', 'pig', 'who', 'had', 'three', 'little', 'pigs', 'and', 'not', 'enough', 'food', 'to', 'feed', 'them', 'so', 'when', 'they', 'were', 'old', 'enough', 'she', 'sent', 'them', 'out', 'into', 'the', 'world', 'to', 'seek', 'their', 'fortunes', 'the', 'first', 'little', 'pig', 'was', 'very', 'lazy', 'he', 'did', 'want', 'to', 'work', 'at', 'all', 'and', 'he', 'built', 'his', 'house', 'out', 'of', 'straw', 'the', 'second', 'little', 'pig', 'worked', 'a', 'little', 'bit', 'harder', 'but', 'he', 'was', 'somewhat', 'lazy', 'too', 'and', 'he', 'built', 'his', 'house', 'out', 'of', 'sticks', 'then', 'they', 'sang', 'and', 'danced', 'and', 'played', 'together', 'the', 'rest', 'of', 'the', 'day', 'the', 'third', 'little', 'pig', 'worked', 'hard', 'all', 'day', 'and', 'built', 'his', 'house', 'with', 'bricks', 'it', 'was', 'a', 'sturdy', 'house', 'complete', 'with', 'a', 'fine', 'fireplace', 'and', 'chimney', 'it', 'looked', 'like', 'it', 'could', 'withstand', 'the', 'strongest', 'winds']\n"
     ]
    }
   ],
   "source": [
    "#Empty list to store words:\n",
    "words_no_punc = []\n",
    "\n",
    "#Removing punctuation marks :\n",
    "for w in words:\n",
    "    if w.isalpha():\n",
    "        words_no_punc.append(w.lower())\n",
    "\n",
    "#Length :\n",
    "print (len(words_no_punc))\n",
    "print (\"\\n\")\n",
    "\n",
    "#Print the words without punctution marks :\n",
    "print (words_no_punc)"
   ]
  },
  {
   "cell_type": "code",
   "execution_count": 10,
   "metadata": {
    "colab": {
     "base_uri": "https://localhost:8080/",
     "height": 191
    },
    "id": "b3SqTkNedxYM",
    "outputId": "8610eecb-b8c9-4803-c97c-44c46281a172"
   },
   "outputs": [
    {
     "data": {
      "text/plain": [
       "[('and', 7),\n",
       " ('the', 7),\n",
       " ('little', 5),\n",
       " ('a', 4),\n",
       " ('was', 4),\n",
       " ('pig', 4),\n",
       " ('he', 4),\n",
       " ('house', 4),\n",
       " ('to', 3),\n",
       " ('out', 3)]"
      ]
     },
     "execution_count": 10,
     "metadata": {},
     "output_type": "execute_result"
    }
   ],
   "source": [
    "#Frequency distribution :\n",
    "fdist = FreqDist(words_no_punc)\n",
    "\n",
    "fdist.most_common(10)"
   ]
  },
  {
   "cell_type": "code",
   "execution_count": 11,
   "metadata": {
    "colab": {
     "base_uri": "https://localhost:8080/",
     "height": 299
    },
    "id": "kotl9nuTdyge",
    "outputId": "2c72c256-1ba8-4c5c-88f3-a89444e680d4"
   },
   "outputs": [
    {
     "data": {
      "image/png": "[encoded data removed]",
      "text/plain": [
       "<Figure size 432x288 with 1 Axes>"
      ]
     },
     "metadata": {
      "needs_background": "light"
     },
     "output_type": "display_data"
    },
    {
     "data": {
      "text/plain": [
       "<AxesSubplot:xlabel='Samples', ylabel='Counts'>"
      ]
     },
     "execution_count": 11,
     "metadata": {},
     "output_type": "execute_result"
    }
   ],
   "source": [
    "#Plot the most common words on grpah:\n",
    "\n",
    "fdist.plot(10)"
   ]
  },
  {
   "cell_type": "markdown",
   "metadata": {},
   "source": [
    "### Remove stopwords"
   ]
  },
  {
   "cell_type": "code",
   "execution_count": 12,
   "metadata": {
    "colab": {
     "base_uri": "https://localhost:8080/",
     "height": 55
    },
    "id": "443sa0zKdzpd",
    "outputId": "f99f0993-39bb-47fb-b94d-4cfcec5e2f8e"
   },
   "outputs": [
    {
     "name": "stdout",
     "output_type": "stream",
     "text": [
      "['i', 'me', 'my', 'myself', 'we', 'our', 'ours', 'ourselves', 'you', \"you're\", \"you've\", \"you'll\", \"you'd\", 'your', 'yours', 'yourself', 'yourselves', 'he', 'him', 'his', 'himself', 'she', \"she's\", 'her', 'hers', 'herself', 'it', \"it's\", 'its', 'itself', 'they', 'them', 'their', 'theirs', 'themselves', 'what', 'which', 'who', 'whom', 'this', 'that', \"that'll\", 'these', 'those', 'am', 'is', 'are', 'was', 'were', 'be', 'been', 'being', 'have', 'has', 'had', 'having', 'do', 'does', 'did', 'doing', 'a', 'an', 'the', 'and', 'but', 'if', 'or', 'because', 'as', 'until', 'while', 'of', 'at', 'by', 'for', 'with', 'about', 'against', 'between', 'into', 'through', 'during', 'before', 'after', 'above', 'below', 'to', 'from', 'up', 'down', 'in', 'out', 'on', 'off', 'over', 'under', 'again', 'further', 'then', 'once', 'here', 'there', 'when', 'where', 'why', 'how', 'all', 'any', 'both', 'each', 'few', 'more', 'most', 'other', 'some', 'such', 'no', 'nor', 'not', 'only', 'own', 'same', 'so', 'than', 'too', 'very', 's', 't', 'can', 'will', 'just', 'don', \"don't\", 'should', \"should've\", 'now', 'd', 'll', 'm', 'o', 're', 've', 'y', 'ain', 'aren', \"aren't\", 'couldn', \"couldn't\", 'didn', \"didn't\", 'doesn', \"doesn't\", 'hadn', \"hadn't\", 'hasn', \"hasn't\", 'haven', \"haven't\", 'isn', \"isn't\", 'ma', 'mightn', \"mightn't\", 'mustn', \"mustn't\", 'needn', \"needn't\", 'shan', \"shan't\", 'shouldn', \"shouldn't\", 'wasn', \"wasn't\", 'weren', \"weren't\", 'won', \"won't\", 'wouldn', \"wouldn't\"]\n"
     ]
    }
   ],
   "source": [
    "from nltk.corpus import stopwords\n",
    "\n",
    "#List of stopwords\n",
    "stopwords = stopwords.words(\"english\")\n",
    "print(stopwords)"
   ]
  },
  {
   "cell_type": "code",
   "execution_count": 13,
   "metadata": {
    "colab": {
     "base_uri": "https://localhost:8080/",
     "height": 107
    },
    "id": "JaRf2eeYd1Zt",
    "outputId": "0f695898-ea89-49c1-cf01-71da56ec76dc"
   },
   "outputs": [
    {
     "name": "stdout",
     "output_type": "stream",
     "text": [
      "65\n",
      "\n",
      "\n",
      "['upon', 'time', 'old', 'mother', 'pig', 'three', 'little', 'pigs', 'enough', 'food', 'feed', 'old', 'enough', 'sent', 'world', 'seek', 'fortunes', 'first', 'little', 'pig', 'lazy', 'want', 'work', 'built', 'house', 'straw', 'second', 'little', 'pig', 'worked', 'little', 'bit', 'harder', 'somewhat', 'lazy', 'built', 'house', 'sticks', 'sang', 'danced', 'played', 'together', 'rest', 'day', 'third', 'little', 'pig', 'worked', 'hard', 'day', 'built', 'house', 'bricks', 'sturdy', 'house', 'complete', 'fine', 'fireplace', 'chimney', 'looked', 'like', 'could', 'withstand', 'strongest', 'winds']\n"
     ]
    }
   ],
   "source": [
    "#Empty list to store clean words :\n",
    "clean_words = []\n",
    "\n",
    "for w in words_no_punc:\n",
    "    if w not in stopwords:\n",
    "        clean_words.append(w)\n",
    "\n",
    "print(len(clean_words))\n",
    "print(\"\\n\")\n",
    "\n",
    "print(clean_words)\n"
   ]
  },
  {
   "cell_type": "code",
   "execution_count": 14,
   "metadata": {
    "colab": {
     "base_uri": "https://localhost:8080/",
     "height": 191
    },
    "id": "GX7Z3fmEd2hF",
    "outputId": "a586c44b-673d-4d15-e833-efa8ae20de03"
   },
   "outputs": [
    {
     "data": {
      "text/plain": [
       "[('little', 5),\n",
       " ('pig', 4),\n",
       " ('house', 4),\n",
       " ('built', 3),\n",
       " ('old', 2),\n",
       " ('enough', 2),\n",
       " ('lazy', 2),\n",
       " ('worked', 2),\n",
       " ('day', 2),\n",
       " ('upon', 1)]"
      ]
     },
     "execution_count": 14,
     "metadata": {},
     "output_type": "execute_result"
    }
   ],
   "source": [
    "#Frequency distribution :\n",
    "fdist = FreqDist(clean_words)\n",
    "\n",
    "fdist.most_common(10)\n"
   ]
  },
  {
   "cell_type": "code",
   "execution_count": 15,
   "metadata": {
    "colab": {
     "base_uri": "https://localhost:8080/",
     "height": 307
    },
    "id": "_9bes0f_d3dv",
    "outputId": "2f84094e-a49e-41ba-d826-8bbda54810d1",
    "scrolled": true
   },
   "outputs": [
    {
     "data": {
      "image/png": "[encoded data removed]",
      "text/plain": [
       "<Figure size 432x288 with 1 Axes>"
      ]
     },
     "metadata": {
      "needs_background": "light"
     },
     "output_type": "display_data"
    },
    {
     "data": {
      "text/plain": [
       "<AxesSubplot:xlabel='Samples', ylabel='Counts'>"
      ]
     },
     "execution_count": 15,
     "metadata": {},
     "output_type": "execute_result"
    }
   ],
   "source": [
    "#Plot the most common words on grpah:\n",
    "\n",
    "fdist.plot(10)"
   ]
  },
  {
   "cell_type": "markdown",
   "metadata": {},
   "source": [
    "**After preprocessing we have a cleaned text (no punctuation, no stopwords)**"
   ]
  },
  {
   "cell_type": "markdown",
   "metadata": {},
   "source": [
    "### Stemming"
   ]
  },
  {
   "cell_type": "code",
   "execution_count": 16,
   "metadata": {
    "colab": {
     "base_uri": "https://localhost:8080/",
     "height": 87
    },
    "id": "0EXIjA7vd8EE",
    "outputId": "639a8051-23c4-4ce6-f759-c3677155ed72"
   },
   "outputs": [
    {
     "name": "stdout",
     "output_type": "stream",
     "text": [
      "studi\n",
      "studi\n",
      "studi\n",
      "studi\n",
      "\n",
      "********\n",
      "\n",
      "studi\n",
      "leav\n",
      "decreas\n",
      "play\n"
     ]
    }
   ],
   "source": [
    "#Import stemming library: PorterStemmer\n",
    "from nltk.stem import PorterStemmer\n",
    "\n",
    "porter = PorterStemmer()\n",
    "\n",
    "#Word-list for stemming:\n",
    "word_list = [\"Study\",\"Studying\",\"Studies\",\"Studied\"]\n",
    "\n",
    "for w in word_list:\n",
    "    print(porter.stem(w))\n",
    "\n",
    "print(\"\\n********\\n\")\n",
    "\n",
    "#Word-list for stemming :\n",
    "word_list_2 = [\"studies\",\"leaves\",\"decreases\",\"plays\"]\n",
    "\n",
    "for w in word_list_2:\n",
    "    print(porter.stem(w))"
   ]
  },
  {
   "cell_type": "code",
   "execution_count": 17,
   "metadata": {
    "colab": {
     "base_uri": "https://localhost:8080/",
     "height": 87
    },
    "id": "YUDA2PJ5d_T8",
    "outputId": "7f7ac67b-f653-4e8d-e509-88d98b6c7576"
   },
   "outputs": [
    {
     "name": "stdout",
     "output_type": "stream",
     "text": [
      "studi\n",
      "studi\n",
      "studi\n",
      "studi\n",
      "\n",
      "********\n",
      "\n",
      "studi\n",
      "leav\n",
      "decreas\n",
      "play\n"
     ]
    }
   ],
   "source": [
    "#Import stemming library: SnowballStemmer\n",
    "from nltk.stem import SnowballStemmer\n",
    "\n",
    "snowball = SnowballStemmer(\"english\")\n",
    "\n",
    "#Word-list for stemming :\n",
    "word_list = [\"Study\",\"Studying\",\"Studies\",\"Studied\"]\n",
    "\n",
    "for w in word_list:\n",
    "    print(snowball.stem(w))\n",
    "\n",
    "print(\"\\n********\\n\")\n",
    "\n",
    "#Word-list for stemming :\n",
    "word_list_2 = [\"studies\",\"leaves\",\"decreases\",\"plays\"]\n",
    "\n",
    "for w in word_list_2:\n",
    "    print(porter.stem(w))"
   ]
  },
  {
   "cell_type": "markdown",
   "metadata": {},
   "source": [
    "**N.B.** SnowballStemmer supports many languages"
   ]
  },
  {
   "cell_type": "code",
   "execution_count": 18,
   "metadata": {
    "colab": {
     "base_uri": "https://localhost:8080/",
     "height": 295
    },
    "id": "CSPFh_QGeAxQ",
    "outputId": "7fc99057-d0ab-4a10-c3c1-c10f2a6dcc62"
   },
   "outputs": [
    {
     "data": {
      "text/plain": [
       "('arabic',\n",
       " 'danish',\n",
       " 'dutch',\n",
       " 'english',\n",
       " 'finnish',\n",
       " 'french',\n",
       " 'german',\n",
       " 'hungarian',\n",
       " 'italian',\n",
       " 'norwegian',\n",
       " 'porter',\n",
       " 'portuguese',\n",
       " 'romanian',\n",
       " 'russian',\n",
       " 'spanish',\n",
       " 'swedish')"
      ]
     },
     "execution_count": 18,
     "metadata": {},
     "output_type": "execute_result"
    }
   ],
   "source": [
    "#Print languages supported:\n",
    "SnowballStemmer.languages"
   ]
  },
  {
   "cell_type": "markdown",
   "metadata": {},
   "source": [
    "### Lemmatization"
   ]
  },
  {
   "cell_type": "code",
   "execution_count": 19,
   "metadata": {
    "colab": {
     "base_uri": "https://localhost:8080/",
     "height": 104
    },
    "id": "NteiC9AleDSb",
    "outputId": "8f3c78b3-ddf1-42fb-9bc7-221770ef80bc"
   },
   "outputs": [
    {
     "name": "stdout",
     "output_type": "stream",
     "text": [
      "be\n",
      "be\n",
      "be\n",
      "be\n",
      "be\n"
     ]
    }
   ],
   "source": [
    "from nltk import WordNetLemmatizer\n",
    "\n",
    "lemma = WordNetLemmatizer()\n",
    "word_list = [\"am\",\"is\",\"are\",\"was\",\"were\"]\n",
    "\n",
    "for w in word_list:\n",
    "    print(lemma.lemmatize(w ,pos=\"v\"))"
   ]
  },
  {
   "cell_type": "code",
   "execution_count": 20,
   "metadata": {
    "colab": {
     "base_uri": "https://localhost:8080/",
     "height": 87
    },
    "id": "AVZ8q1a2eIm8",
    "outputId": "6619bb5d-0e5e-436f-d98c-96051fa84efe"
   },
   "outputs": [
    {
     "name": "stdout",
     "output_type": "stream",
     "text": [
      "study\n",
      "studying\n",
      "studying\n",
      "studying\n"
     ]
    }
   ],
   "source": [
    "from nltk.stem import WordNetLemmatizer\n",
    " \n",
    "lemmatizer = WordNetLemmatizer()\n",
    "print(lemmatizer.lemmatize('studying', pos=\"v\"))\n",
    "print(lemmatizer.lemmatize('studying', pos=\"n\"))\n",
    "print(lemmatizer.lemmatize('studying', pos=\"a\"))\n",
    "print(lemmatizer.lemmatize('studying', pos=\"r\"))"
   ]
  },
  {
   "cell_type": "markdown",
   "metadata": {},
   "source": [
    "**Differences between stemming and lemmatization**"
   ]
  },
  {
   "cell_type": "code",
   "execution_count": 21,
   "metadata": {},
   "outputs": [
    {
     "name": "stdout",
     "output_type": "stream",
     "text": [
      "studi\n",
      "leav\n",
      "decreas\n",
      "play\n"
     ]
    }
   ],
   "source": [
    "from nltk.stem import SnowballStemmer\n",
    "\n",
    "snowball = SnowballStemmer(\"english\")\n",
    "\n",
    "word_list = [\"studies\",\"leaves\",\"decreases\",\"plays\"]\n",
    "\n",
    "for w in word_list:\n",
    "    print(snowball.stem(w))"
   ]
  },
  {
   "cell_type": "code",
   "execution_count": 22,
   "metadata": {
    "colab": {
     "base_uri": "https://localhost:8080/",
     "height": 87
    },
    "id": "TLBjhAnReJwJ",
    "outputId": "5bc13df8-0b24-43c5-bde8-001cae474eed"
   },
   "outputs": [
    {
     "name": "stdout",
     "output_type": "stream",
     "text": [
      "study\n",
      "leaf\n",
      "decrease\n",
      "play\n"
     ]
    }
   ],
   "source": [
    "from nltk import WordNetLemmatizer\n",
    "\n",
    "lemma = WordNetLemmatizer()\n",
    "word_list = [\"studies\",\"leaves\",\"decreases\",\"plays\"]\n",
    "\n",
    "for w in word_list:\n",
    "    print(lemma.lemmatize(w))"
   ]
  },
  {
   "cell_type": "markdown",
   "metadata": {},
   "source": [
    "### Part-of-Speech (PoS) Tagging "
   ]
  },
  {
   "cell_type": "code",
   "execution_count": 23,
   "metadata": {
    "colab": {
     "base_uri": "https://localhost:8080/",
     "height": 35
    },
    "id": "4AaooJeeeLQJ",
    "outputId": "0ea09c55-d300-40a7-b5ec-a53527d4d84a",
    "scrolled": false
   },
   "outputs": [
    {
     "name": "stdout",
     "output_type": "stream",
     "text": [
      "[('studying', 'VBG'), ('study', 'NN'), ('studied', 'VBD')]\n"
     ]
    }
   ],
   "source": [
    "#PoS tagging :\n",
    "tag = nltk.pos_tag([\"studying\", \"study\", \"studied\"])\n",
    "print (tag)\n"
   ]
  },
  {
   "cell_type": "markdown",
   "metadata": {},
   "source": [
    "**VBG**: verb, present participle <br> \n",
    "**VBD**: verb, past tense <br> \n",
    "N.B. For the word styudy it thinks that it's a noun (the room) as there is no context (see later)"
   ]
  },
  {
   "cell_type": "code",
   "execution_count": 24,
   "metadata": {
    "scrolled": true
   },
   "outputs": [
    {
     "data": {
      "text/plain": [
       "[('A', 'DT'),\n",
       " ('very', 'RB'),\n",
       " ('beautiful', 'JJ'),\n",
       " ('young', 'JJ'),\n",
       " ('lady', 'NN'),\n",
       " ('is', 'VBZ'),\n",
       " ('walking', 'VBG'),\n",
       " ('on', 'IN'),\n",
       " ('the', 'DT'),\n",
       " ('beach', 'NN')]"
      ]
     },
     "execution_count": 24,
     "metadata": {},
     "output_type": "execute_result"
    }
   ],
   "source": [
    "#PoS tagging example :\n",
    "\n",
    "sentence = \"A very beautiful young lady is walking on the beach\"\n",
    "\n",
    "#Tokenizing words :\n",
    "tokenized_words = word_tokenize(sentence)\n",
    "\n",
    "for words in tokenized_words:\n",
    "    tagged_words = nltk.pos_tag(tokenized_words)\n",
    "    \n",
    "tagged_words"
   ]
  },
  {
   "cell_type": "markdown",
   "metadata": {},
   "source": [
    "**DT**: Determiner <br>\n",
    "**RB**: Adverb <br>\n",
    "**JJ**: Adjective <br>\n",
    "**NN**: Noun (common noun) <br>\n",
    "**VBG**: Verb (present participle)<br>\n",
    "**IN**: Preposition"
   ]
  },
  {
   "cell_type": "code",
   "execution_count": 25,
   "metadata": {
    "colab": {
     "base_uri": "https://localhost:8080/",
     "height": 191
    },
    "id": "i3DEiFVPeMu0",
    "outputId": "0c2e667c-feff-40c3-b22d-5c4f1299f60d"
   },
   "outputs": [
    {
     "data": {
      "text/plain": [
       "[('Today', 'NN'), ('I', 'PRP'), ('study', 'VBP'), ('English', 'JJ')]"
      ]
     },
     "execution_count": 25,
     "metadata": {},
     "output_type": "execute_result"
    }
   ],
   "source": [
    "#PoS tagging example :\n",
    "\n",
    "sentence = \"Today I study English\"\n",
    "\n",
    "#Tokenizing words :\n",
    "tokenized_words = word_tokenize(sentence)\n",
    "\n",
    "for words in tokenized_words:\n",
    "    tagged_words = nltk.pos_tag(tokenized_words)\n",
    "    \n",
    "tagged_words"
   ]
  },
  {
   "cell_type": "markdown",
   "metadata": {},
   "source": [
    "Here, study is correctly tagged as a verb (VBP)"
   ]
  },
  {
   "cell_type": "markdown",
   "metadata": {},
   "source": [
    "### Chunking"
   ]
  },
  {
   "cell_type": "markdown",
   "metadata": {},
   "source": [
    "Extracting Noun Phrases (a.k.a. noun chunks) from text:\n",
    "    \n",
    "The approach uses regulare expressions \n",
    "\n",
    "? - optional character <br>\n",
    "\\* - 0 or more repetations <br>"
   ]
  },
  {
   "cell_type": "code",
   "execution_count": 26,
   "metadata": {
    "colab": {
     "base_uri": "https://localhost:8080/",
     "height": 156
    },
    "id": "Ed4f86LjeQU2",
    "outputId": "572725cc-1e1a-4a8a-b1c5-5929ac14735f"
   },
   "outputs": [
    {
     "name": "stdout",
     "output_type": "stream",
     "text": [
      "(S\n",
      "  A/DT\n",
      "  very/RB\n",
      "  (NP beautiful/JJ young/JJ lady/NN)\n",
      "  is/VBZ\n",
      "  walking/VBG\n",
      "  on/IN\n",
      "  (NP the/DT beach/NN))\n"
     ]
    }
   ],
   "source": [
    "grammar = \"NP : {<DT>?<JJ>*<NN>} \"\n",
    "\n",
    "import matplotlib.pyplot as plt\n",
    "#Creating a parser :\n",
    "parser = nltk.RegexpParser(grammar)\n",
    "\n",
    "\n",
    "sentence = \"A very beautiful young lady is walking on the beach\"\n",
    "tokenized_words = word_tokenize(sentence)\n",
    "\n",
    "for words in tokenized_words:\n",
    "    tagged_words = nltk.pos_tag(tokenized_words)\n",
    "    \n",
    "#print(tagged_words)\n",
    "\n",
    "#Parsing text :\n",
    "output = parser.parse(tagged_words)\n",
    "print (output)\n",
    "\n",
    "#To visualize :\n",
    "output.draw()"
   ]
  },
  {
   "cell_type": "markdown",
   "metadata": {},
   "source": [
    "It could be better: (very beautiful young lady), but the regular expression does not take into account the adverbs (RB)"
   ]
  },
  {
   "cell_type": "markdown",
   "metadata": {},
   "source": [
    "### Named Entity Recognition"
   ]
  },
  {
   "cell_type": "code",
   "execution_count": 27,
   "metadata": {
    "colab": {
     "base_uri": "https://localhost:8080/",
     "height": 260
    },
    "id": "BYrmBSHieSRe",
    "outputId": "13465e36-fcdd-4006-8d93-764c0f82abc5"
   },
   "outputs": [
    {
     "name": "stdout",
     "output_type": "stream",
     "text": [
      "(S\n",
      "  (PERSON Mr./NNP)\n",
      "  (PERSON Smith/NNP)\n",
      "  made/VBD\n",
      "  a/DT\n",
      "  deal/NN\n",
      "  on/IN\n",
      "  a/DT\n",
      "  beach/NN\n",
      "  of/IN\n",
      "  (GPE Switzerland/NNP)\n",
      "  near/IN\n",
      "  (ORGANIZATION WHO/NNP)\n",
      "  ./.)\n"
     ]
    }
   ],
   "source": [
    "#Sentence for NER :\n",
    "sentence = \"Mr. Smith made a deal on a beach of Switzerland near WHO.\"\n",
    "\n",
    "#Tokenizing words :\n",
    "tokenized_words = word_tokenize(sentence)\n",
    "\n",
    "#PoS tagging :\n",
    "for w in tokenized_words:\n",
    "    tagged_words = nltk.pos_tag(tokenized_words)\n",
    "\n",
    "#print (tagged_words)\n",
    "\n",
    "#Named Entity Recognition :\n",
    "N_E_R = nltk.ne_chunk(tagged_words,binary=False)\n",
    "print(N_E_R)\n",
    "\n",
    "#To visualize :\n",
    "N_E_R.draw()"
   ]
  },
  {
   "cell_type": "markdown",
   "metadata": {},
   "source": [
    "### Named Entity Recognition plus PoS tagging"
   ]
  },
  {
   "cell_type": "code",
   "execution_count": 28,
   "metadata": {
    "colab": {
     "base_uri": "https://localhost:8080/",
     "height": 243
    },
    "id": "F5pzo1JKeT48",
    "outputId": "d13c4a96-0c0b-4420-f04f-de54143e205f"
   },
   "outputs": [
    {
     "name": "stdout",
     "output_type": "stream",
     "text": [
      "(S\n",
      "  (NE Mr./NNP Smith/NNP)\n",
      "  made/VBD\n",
      "  a/DT\n",
      "  deal/NN\n",
      "  on/IN\n",
      "  a/DT\n",
      "  beach/NN\n",
      "  of/IN\n",
      "  the/DT\n",
      "  (NE Netherlands/NNPS)\n",
      "  near/IN\n",
      "  (NE WHO/NNP)\n",
      "  ./.)\n"
     ]
    }
   ],
   "source": [
    "#Sentence for NER :\n",
    "#sentence = \"Mr. Smith made a deal on a beach of Switzerland near WHO.\"\n",
    "sentence = \"Mr. Smith made a deal on a beach of the Netherlands near WHO.\"\n",
    "\n",
    "#Tokenizing words :\n",
    "tokenized_words = word_tokenize(sentence)\n",
    "\n",
    "#PoS tagging :\n",
    "for w in tokenized_words:\n",
    "    tagged_words = nltk.pos_tag(tokenized_words)\n",
    "\n",
    "#print (tagged_words)\n",
    "\n",
    "#Named Entity Recognition :\n",
    "N_E_R = nltk.ne_chunk(tagged_words,binary=True)\n",
    "\n",
    "print(N_E_R)\n",
    "\n",
    "#To visualize :\n",
    "N_E_R.draw()"
   ]
  },
  {
   "cell_type": "markdown",
   "metadata": {},
   "source": [
    "## Semantic Analysis with WordNet\n",
    "\n",
    "#### Example with the word \"fun\""
   ]
  },
  {
   "cell_type": "code",
   "execution_count": 29,
   "metadata": {
    "colab": {
     "base_uri": "https://localhost:8080/",
     "height": 87
    },
    "id": "g1S1GB4SeVed",
    "outputId": "95147bb9-5be0-4080-cefc-1fcff5081c33"
   },
   "outputs": [
    {
     "name": "stdout",
     "output_type": "stream",
     "text": [
      "Synset('fun.n.01')\n",
      "Synset('fun.n.02')\n",
      "Synset('fun.n.03')\n",
      "Synset('playfulness.n.02')\n"
     ]
    }
   ],
   "source": [
    "#Import wordnet :\n",
    "from nltk.corpus import wordnet\n",
    "\n",
    "for words in wordnet.synsets(\"Fun\"): \n",
    "    print(words)      "
   ]
  },
  {
   "cell_type": "markdown",
   "metadata": {},
   "source": [
    "**Synset:** a set of synonyms that share a common meaning."
   ]
  },
  {
   "cell_type": "code",
   "execution_count": 30,
   "metadata": {
    "colab": {
     "base_uri": "https://localhost:8080/",
     "height": 520
    },
    "id": "-Hl5yXEqeXOc",
    "outputId": "c901794f-18fa-4e85-ca71-7330a67cf964"
   },
   "outputs": [
    {
     "name": "stdout",
     "output_type": "stream",
     "text": [
      "fun.n.01\n",
      "activities that are enjoyable or amusing\n",
      "['I do it for the fun of it', 'he is fun to have around']\n",
      "Lemma('fun.n.01.fun')\n",
      "Lemma('fun.n.01.merriment')\n",
      "Lemma('fun.n.01.playfulness')\n",
      "\n",
      "\n",
      "fun.n.02\n",
      "verbal wit or mockery (often at another's expense but not to be taken seriously)\n",
      "['he became a figure of fun', 'he said it in sport']\n",
      "Lemma('fun.n.02.fun')\n",
      "Lemma('fun.n.02.play')\n",
      "Lemma('fun.n.02.sport')\n",
      "\n",
      "\n",
      "fun.n.03\n",
      "violent and excited activity\n",
      "['she asked for money and then the fun began', 'they began to fight like fun']\n",
      "Lemma('fun.n.03.fun')\n",
      "\n",
      "\n",
      "playfulness.n.02\n",
      "a disposition to find (or make) causes for amusement\n",
      "['her playfulness surprised me', 'he was fun to be with']\n",
      "Lemma('playfulness.n.02.playfulness')\n",
      "Lemma('playfulness.n.02.fun')\n",
      "\n",
      "\n"
     ]
    }
   ],
   "source": [
    "#Word meaning with definitions :\n",
    "for words in wordnet.synsets(\"Fun\"): \n",
    "    print(words.name())\n",
    "    print(words.definition())\n",
    "    print(words.examples())\n",
    "    \n",
    "    for lemma in words.lemmas(): \n",
    "        print(lemma)\n",
    "    print(\"\\n\")"
   ]
  },
  {
   "cell_type": "code",
   "execution_count": 31,
   "metadata": {
    "colab": {
     "base_uri": "https://localhost:8080/",
     "height": 312
    },
    "id": "_iuOvWeteYoN",
    "outputId": "3bf77c78-0a3f-4e7c-c80b-541e8a8fb8a7"
   },
   "outputs": [
    {
     "name": "stdout",
     "output_type": "stream",
     "text": [
      "Lemma('fun.n.01.fun')\n",
      "Lemma('fun.n.01.merriment')\n",
      "Lemma('fun.n.01.playfulness')\n",
      "\n",
      "\n",
      "Lemma('fun.n.02.fun')\n",
      "Lemma('fun.n.02.play')\n",
      "Lemma('fun.n.02.sport')\n",
      "\n",
      "\n",
      "Lemma('fun.n.03.fun')\n",
      "\n",
      "\n",
      "Lemma('playfulness.n.02.playfulness')\n",
      "Lemma('playfulness.n.02.fun')\n",
      "\n",
      "\n"
     ]
    }
   ],
   "source": [
    "#How many differnt meanings :\n",
    "for words in wordnet.synsets(\"Fun\"): \n",
    "    for lemma in words.lemmas(): \n",
    "        print(lemma)\n",
    "    print(\"\\n\")"
   ]
  },
  {
   "cell_type": "markdown",
   "metadata": {},
   "source": [
    "#### Example with the word \"play\""
   ]
  },
  {
   "cell_type": "code",
   "execution_count": 32,
   "metadata": {
    "colab": {
     "base_uri": "https://localhost:8080/",
     "height": 69
    },
    "id": "JQUAaYDbeaQM",
    "outputId": "9bb8e5f8-153b-4e2d-af73-1f84dd07deff"
   },
   "outputs": [
    {
     "name": "stdout",
     "output_type": "stream",
     "text": [
      "play.n.01\n",
      "a dramatic work intended for performance by actors on a stage\n",
      "['he wrote several plays but only one was produced on Broadway']\n"
     ]
    }
   ],
   "source": [
    "word = wordnet.synsets(\"Play\")[0]\n",
    "\n",
    "#Checking name :\n",
    "print(word.name())\n",
    "\n",
    "#Checking definition :\n",
    "print(word.definition())\n",
    "\n",
    "#Checking examples:\n",
    "print(word.examples())"
   ]
  },
  {
   "cell_type": "markdown",
   "metadata": {},
   "source": [
    "**hyponyms and hypernyms**"
   ]
  },
  {
   "cell_type": "code",
   "execution_count": 33,
   "metadata": {
    "colab": {
     "base_uri": "https://localhost:8080/",
     "height": 35
    },
    "id": "kkmDDmInebb6",
    "outputId": "e2b0fb9b-571e-4f58-c525-365d111c7e94"
   },
   "outputs": [
    {
     "name": "stdout",
     "output_type": "stream",
     "text": [
      "[Synset('dramatic_composition.n.01')]\n"
     ]
    }
   ],
   "source": [
    "word = wordnet.synsets(\"Play\")[0]\n",
    "\n",
    "#Find more abstract terms:\n",
    "print(word.hypernyms())"
   ]
  },
  {
   "cell_type": "code",
   "execution_count": 34,
   "metadata": {
    "colab": {
     "base_uri": "https://localhost:8080/",
     "height": 156
    },
    "id": "rpFeTM-Bec8V",
    "outputId": "78063b72-a65f-4815-99ea-5243a3eb3135"
   },
   "outputs": [
    {
     "data": {
      "text/plain": [
       "[Synset('grand_guignol.n.01'),\n",
       " Synset('miracle_play.n.01'),\n",
       " Synset('morality_play.n.01'),\n",
       " Synset('mystery_play.n.01'),\n",
       " Synset('passion_play.n.01'),\n",
       " Synset('playlet.n.01'),\n",
       " Synset('satyr_play.n.01'),\n",
       " Synset('theater_of_the_absurd.n.01')]"
      ]
     },
     "execution_count": 34,
     "metadata": {},
     "output_type": "execute_result"
    }
   ],
   "source": [
    "word = wordnet.synsets(\"Play\")[0]\n",
    "\n",
    "#Find more specific terms:\n",
    "word.hyponyms()"
   ]
  },
  {
   "cell_type": "code",
   "execution_count": 35,
   "metadata": {
    "colab": {
     "base_uri": "https://localhost:8080/",
     "height": 35
    },
    "id": "-co9eRcRefoK",
    "outputId": "aa55f4af-8194-4c9a-d9f5-ebe674529b62"
   },
   "outputs": [
    {
     "name": "stdout",
     "output_type": "stream",
     "text": [
      "play\n"
     ]
    }
   ],
   "source": [
    "word = wordnet.synsets(\"Play\")[0]\n",
    "\n",
    "#Get only name :\n",
    "print(word.lemmas()[0].name())\n"
   ]
  },
  {
   "cell_type": "markdown",
   "metadata": {},
   "source": [
    "**synonyms and antonyms**"
   ]
  },
  {
   "cell_type": "code",
   "execution_count": 36,
   "metadata": {
    "colab": {
     "base_uri": "https://localhost:8080/",
     "height": 173
    },
    "id": "ZbzP3baNegP3",
    "outputId": "8b5ea6c7-90c8-483c-9257-4f1a0f4cd47d"
   },
   "outputs": [
    {
     "data": {
      "text/plain": [
       "['fun',\n",
       " 'merriment',\n",
       " 'playfulness',\n",
       " 'fun',\n",
       " 'play',\n",
       " 'sport',\n",
       " 'fun',\n",
       " 'playfulness',\n",
       " 'fun']"
      ]
     },
     "execution_count": 36,
     "metadata": {},
     "output_type": "execute_result"
    }
   ],
   "source": [
    "#Finding synonyms :\n",
    "\n",
    "#Empty list to store synonyms:\n",
    "synonyms = []\n",
    "\n",
    "for words in wordnet.synsets('Fun'):\n",
    "    for lemma in words.lemmas():\n",
    "        synonyms.append(lemma.name())\n",
    "        \n",
    "synonyms"
   ]
  },
  {
   "cell_type": "code",
   "execution_count": 37,
   "metadata": {
    "colab": {
     "base_uri": "https://localhost:8080/",
     "height": 35
    },
    "id": "Qf7KzP2cehvs",
    "outputId": "5ce1f3e0-8e83-4c6f-d934-3b8cf0100214"
   },
   "outputs": [
    {
     "data": {
      "text/plain": [
       "['unnatural', 'artificial', 'supernatural', 'sharp']"
      ]
     },
     "execution_count": 37,
     "metadata": {},
     "output_type": "execute_result"
    }
   ],
   "source": [
    "#Finding antonyms :\n",
    "\n",
    "#Empty list to store antonyms :\n",
    "antonyms = []\n",
    "\n",
    "for words in wordnet.synsets('Natural'):\n",
    "    for lemma in words.lemmas():\n",
    "        if lemma.antonyms():\n",
    "            antonyms.append(lemma.antonyms()[0].name())\n",
    "            \n",
    "#Print antonyms :            \n",
    "antonyms"
   ]
  },
  {
   "cell_type": "markdown",
   "metadata": {},
   "source": [
    "if we try fun we get 0 antonyms"
   ]
  },
  {
   "cell_type": "code",
   "execution_count": 38,
   "metadata": {
    "colab": {
     "base_uri": "https://localhost:8080/",
     "height": 107
    },
    "id": "ivQlf_e7ejNX",
    "outputId": "35829ebf-da8f-49c6-8f9a-85ff30e870fe"
   },
   "outputs": [
    {
     "name": "stdout",
     "output_type": "stream",
     "text": [
      "['new', 'fresh', 'new', 'novel', 'raw', 'new', 'new', 'unexampled', 'new', 'new', 'newfangled', 'new', 'New', 'Modern', 'New', 'new', 'young', 'new', 'newly', 'freshly', 'fresh', 'new']\n",
      "\n",
      "\n",
      "['old', 'worn']\n"
     ]
    }
   ],
   "source": [
    "#Finding synonyms and antonyms :\n",
    "\n",
    "#Empty lists to store synonyms/antonynms : \n",
    "synonyms = []\n",
    "antonyms = []\n",
    "\n",
    "for words in wordnet.synsets('New'):\n",
    "    for lemma in words.lemmas():\n",
    "        synonyms.append(lemma.name())\n",
    "        if lemma.antonyms():\n",
    "            antonyms.append(lemma.antonyms()[0].name())\n",
    "            \n",
    "#Print lists :\n",
    "print(synonyms)\n",
    "print(\"\\n\")\n",
    "print(antonyms)"
   ]
  },
  {
   "cell_type": "markdown",
   "metadata": {},
   "source": [
    "#### Computing word similarities"
   ]
  },
  {
   "cell_type": "code",
   "execution_count": 39,
   "metadata": {
    "colab": {
     "base_uri": "https://localhost:8080/",
     "height": 35
    },
    "id": "AdXqU1BCek2W",
    "outputId": "8f663766-5f80-4159-cb81-ae14c47868b3"
   },
   "outputs": [
    {
     "name": "stdout",
     "output_type": "stream",
     "text": [
      "0.9090909090909091\n"
     ]
    }
   ],
   "source": [
    "#Similarity in words :\n",
    "word1 = wordnet.synsets(\"ship\",\"n\")[0]\n",
    "\n",
    "word2 = wordnet.synsets(\"boat\",\"n\")[0] \n",
    "\n",
    "#Check similarity :\n",
    "print(word1.wup_similarity(word2))"
   ]
  },
  {
   "cell_type": "code",
   "execution_count": 40,
   "metadata": {
    "colab": {
     "base_uri": "https://localhost:8080/",
     "height": 35
    },
    "id": "Kd_lUIn1emHm",
    "outputId": "696ee006-0aa6-449e-c141-8289fcd3c11f"
   },
   "outputs": [
    {
     "name": "stdout",
     "output_type": "stream",
     "text": [
      "0.6956521739130435\n"
     ]
    }
   ],
   "source": [
    "#Similarity in words :\n",
    "word1 = wordnet.synsets(\"ship\",\"n\")[0]\n",
    "\n",
    "word2 = wordnet.synsets(\"bike\",\"n\")[0] \n",
    "\n",
    "#Check similarity :\n",
    "print(word1.wup_similarity(word2)) "
   ]
  },
  {
   "cell_type": "markdown",
   "metadata": {},
   "source": [
    "### Documents as vectors of features\n",
    "\n",
    "With **TF-IDF**"
   ]
  },
  {
   "cell_type": "code",
   "execution_count": 41,
   "metadata": {
    "colab": {
     "base_uri": "https://localhost:8080/",
     "height": 156
    },
    "id": "IanI1jqLetx8",
    "outputId": "34e61f4f-fec5-42ef-fe52-ee4dc33afc74",
    "scrolled": true
   },
   "outputs": [
    {
     "name": "stdout",
     "output_type": "stream",
     "text": [
      "Total words with their index in model:\n",
      "{'jim': 7, 'and': 0, 'pam': 9, 'travelled': 12, 'by': 2, 'the': 10, 'bus': 1, 'train': 11, 'was': 14, 'late': 8, 'flight': 4, 'full': 5, 'travelling': 13, 'is': 6, 'expensive': 3}\n",
      "\n",
      "\n",
      "Features:\n",
      "['and', 'bus', 'by', 'expensive', 'flight', 'full', 'is', 'jim', 'late', 'pam', 'the', 'train', 'travelled', 'travelling', 'was']\n",
      "\n",
      "\n",
      "Output:\n",
      "[[1.69314718 1.69314718 1.28768207 0.         0.         0.\n",
      "  0.         1.69314718 0.         1.69314718 1.         0.\n",
      "  1.69314718 0.         0.        ]\n",
      " [0.         0.         0.         0.         0.         0.\n",
      "  0.         0.         1.69314718 0.         1.         1.69314718\n",
      "  0.         0.         1.28768207]\n",
      " [0.         0.         1.28768207 1.69314718 3.38629436 1.69314718\n",
      "  1.69314718 0.         0.         0.         1.         0.\n",
      "  0.         1.69314718 1.28768207]]\n"
     ]
    },
    {
     "name": "stderr",
     "output_type": "stream",
     "text": [
      "/Users/idamele/Library/Python/3.8/lib/python/site-packages/sklearn/utils/deprecation.py:87: FutureWarning: Function get_feature_names is deprecated; get_feature_names is deprecated in 1.0 and will be removed in 1.2. Please use get_feature_names_out instead.\n",
      "  warnings.warn(msg, category=FutureWarning)\n"
     ]
    }
   ],
   "source": [
    "#Import required libraries :\n",
    "from sklearn.feature_extraction.text import TfidfVectorizer\n",
    "\n",
    "#Sentences for analysis :\n",
    "#sentences = ['This is the first document','This document is the second document']\n",
    "sentences =[\"Jim and Pam travelled by the bus:\",\n",
    "             \"The train was late\",\n",
    "             \"The flight was full.Travelling by flight is expensive\"]\n",
    "\n",
    "#Create an object :\n",
    "vectorizer = TfidfVectorizer(norm = None)\n",
    "\n",
    "#Generating output for TF_IDF :\n",
    "X = vectorizer.fit_transform(sentences).toarray()\n",
    "\n",
    "print(\"Total words with their index in model:\")\n",
    "print(vectorizer.vocabulary_)\n",
    "print(\"\\n\")\n",
    "\n",
    "print(\"Features:\")\n",
    "print(vectorizer.get_feature_names())\n",
    "print(\"\\n\")\n",
    "\n",
    "#Show the output :\n",
    "print(\"Output:\")\n",
    "print(X)"
   ]
  },
  {
   "cell_type": "markdown",
   "metadata": {},
   "source": [
    "Using **CountVectorizer** (BoW)"
   ]
  },
  {
   "cell_type": "code",
   "execution_count": 42,
   "metadata": {
    "colab": {
     "base_uri": "https://localhost:8080/",
     "height": 193
    },
    "id": "mJFlVmGhenvd",
    "outputId": "972eaeb6-4e48-405e-914f-666da3df6cad",
    "scrolled": true
   },
   "outputs": [
    {
     "name": "stdout",
     "output_type": "stream",
     "text": [
      "Total words with their index in model:\n",
      "{'jim': 7, 'and': 0, 'pam': 9, 'travelled': 12, 'by': 2, 'the': 10, 'bus': 1, 'train': 11, 'was': 14, 'late': 8, 'flight': 4, 'full': 5, 'travelling': 13, 'is': 6, 'expensive': 3}\n",
      "\n",
      "\n",
      "Features:\n",
      "['and' 'bus' 'by' 'expensive' 'flight' 'full' 'is' 'jim' 'late' 'pam'\n",
      " 'the' 'train' 'travelled' 'travelling' 'was']\n",
      "\n",
      "\n",
      "Output:\n",
      "[[1 1 1 0 0 0 0 1 0 1 1 0 1 0 0]\n",
      " [0 0 0 0 0 0 0 0 1 0 1 1 0 0 1]\n",
      " [0 0 1 1 2 1 1 0 0 0 1 0 0 1 1]]\n"
     ]
    }
   ],
   "source": [
    "#Import required libraries :\n",
    "from sklearn.feature_extraction.text import CountVectorizer\n",
    "\n",
    "#Text for analysis :\n",
    "sentences = [\"Jim and Pam travelled by the bus:\",\n",
    "             \"The train was late\",\n",
    "             \"The flight was full.Travelling by flight is expensive\"]\n",
    "\n",
    "#Create an object :\n",
    "cv = CountVectorizer()\n",
    "\n",
    "#Generating output for Bag of Words :\n",
    "B_O_W = cv.fit_transform(sentences).toarray()\n",
    "\n",
    "print(\"Total words with their index in model:\")\n",
    "print(cv.vocabulary_)\n",
    "print(\"\\n\")\n",
    "\n",
    "print(\"Features:\")\n",
    "print(cv.get_feature_names_out())\n",
    "print(\"\\n\")\n",
    "\n",
    "#Show the output :\n",
    "print(\"Output:\")\n",
    "print(B_O_W)"
   ]
  },
  {
   "cell_type": "code",
   "execution_count": null,
   "metadata": {},
   "outputs": [],
   "source": []
  }
 ],
 "metadata": {
  "colab": {
   "include_colab_link": true,
   "name": "natural-language-processing-tutorial.ipynb",
   "provenance": []
  },
  "kernelspec": {
   "display_name": "Python 3 (ipykernel)",
   "language": "python",
   "name": "python3"
  },
  "language_info": {
   "codemirror_mode": {
    "name": "ipython",
    "version": 3
   },
   "file_extension": ".py",
   "mimetype": "text/x-python",
   "name": "python",
   "nbconvert_exporter": "python",
   "pygments_lexer": "ipython3",
   "version": "3.8.2"
  }
 },
 "nbformat": 4,
 "nbformat_minor": 1
}
