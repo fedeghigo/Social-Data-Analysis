{
 "cells": [
  {
   "cell_type": "markdown",
   "id": "b671e215",
   "metadata": {},
   "source": [
    "## Installing powerlaw package\n",
    "\n",
    "This tool allows you to test if a probability distribution fits a power law."
   ]
  },
  {
   "cell_type": "code",
   "execution_count": 15,
   "id": "29b81f93",
   "metadata": {},
   "outputs": [],
   "source": [
    "#! pip install powerlaw"
   ]
  },
  {
   "cell_type": "markdown",
   "id": "6536a33d",
   "metadata": {},
   "source": [
    "## Importing packages"
   ]
  },
  {
   "cell_type": "code",
   "execution_count": 11,
   "id": "85e8bd42",
   "metadata": {},
   "outputs": [],
   "source": [
    "from IPython.core.display import Image \n",
    "import collections\n",
    "import matplotlib.pyplot as plt"
   ]
  },
  {
   "cell_type": "code",
   "execution_count": 16,
   "id": "0ec085f0",
   "metadata": {},
   "outputs": [],
   "source": [
    "from powerlaw import plot_pdf, Fit, pdf"
   ]
  },
  {
   "cell_type": "markdown",
   "id": "61c90272",
   "metadata": {},
   "source": [
    "## Functions"
   ]
  },
  {
   "cell_type": "markdown",
   "id": "8a84ebac",
   "metadata": {},
   "source": [
    "**Log-log plot**"
   ]
  },
  {
   "cell_type": "code",
   "execution_count": 17,
   "id": "fc86ee14",
   "metadata": {},
   "outputs": [],
   "source": [
    "def plot_basics(counter, data_inst, fig, units):\n",
    "    from powerlaw import plot_pdf, Fit, pdf\n",
    "    annotate_coord = (-.4, .95)\n",
    "    ax = fig.add_subplot(n_graphs,n_data,data_inst)\n",
    "    \n",
    "    ax.plot(counter.keys(),counter.values(),marker='o',linestyle='')\n",
    "\n",
    "    ax.set_yscale('log')\n",
    "    ax.set_xscale('log')\n",
    "    \n",
    "    ax.set_xlabel(units)"
   ]
  },
  {
   "cell_type": "markdown",
   "id": "33d7d8f8",
   "metadata": {},
   "source": [
    "**Complementary Cumulative Distribution Function (CCDF)**"
   ]
  },
  {
   "cell_type": "code",
   "execution_count": 18,
   "id": "ef3abe6c",
   "metadata": {},
   "outputs": [],
   "source": [
    "def plot_basics_ccdf(data, data_inst, fig, units):\n",
    "    from powerlaw import plot_ccdf, Fit, pdf\n",
    "    annotate_coord = (-.4, .95)\n",
    "    ax = fig.add_subplot(n_graphs,n_data,data_inst)\n",
    "    \n",
    "    plot_ccdf(data, ax=ax, color='r', linewidth=.5)\n",
    "    \n",
    "    ax.set_xlabel(units)"
   ]
  },
  {
   "cell_type": "markdown",
   "id": "586fbec1",
   "metadata": {},
   "source": [
    "**Probability density function (PDF) after fitting**"
   ]
  },
  {
   "cell_type": "code",
   "execution_count": 19,
   "id": "f028fec9",
   "metadata": {},
   "outputs": [],
   "source": [
    "def plot_fit_pdf(data, data_inst, fig, units):\n",
    "    from powerlaw import plot_ccdf, Fit, pdf, plot_pdf\n",
    "    annotate_coord = (-.4, .95)\n",
    "    ax = fig.add_subplot(n_graphs,n_data,data_inst)\n",
    "    \n",
    "    fit = Fit(data, discrete=True)\n",
    "    fit.plot_pdf(ax=ax, color='r')\n",
    "    fit.power_law.plot_pdf(ax=ax, linestyle=':', color='g')\n",
    "    fit.exponential.plot_pdf(ax=ax, linestyle=':', color='b')\n",
    "    \n",
    "    ax.set_ylim(0.00000001, 1)\n",
    "    #ax.set_yticks(ax3.get_yticks()[::2])\n",
    "    #ax.set_xlim(ax1.get_xlim()\n",
    "    \n",
    "    #plot_ccdf(data, ax=ax, color='r', linewidth=.5)\n",
    "    \n",
    "    ax.set_xlabel(units)"
   ]
  },
  {
   "cell_type": "markdown",
   "id": "1b9a015f",
   "metadata": {},
   "source": [
    "**Complementary Cumulative Distribution Function (CCDF) after fitting**"
   ]
  },
  {
   "cell_type": "code",
   "execution_count": 20,
   "id": "46e7d201",
   "metadata": {},
   "outputs": [],
   "source": [
    "def plot_fit_ccdf(data, data_inst, fig, units):\n",
    "    from powerlaw import plot_ccdf, Fit, pdf, plot_pdf\n",
    "    annotate_coord = (-.4, .95)\n",
    "    ax = fig.add_subplot(n_graphs,n_data,data_inst)\n",
    "    \n",
    "    fit = Fit(data, discrete=True)\n",
    "    fit.plot_ccdf(ax=ax, color='r')\n",
    "    fit.power_law.plot_ccdf(ax=ax, linestyle=':', color='g')\n",
    "    \n",
    "    fit = Fit(data, discrete=True, xmin=1)\n",
    "    #plot_ccdf(data, ax=ax, color='r')\n",
    "    fit.power_law.plot_ccdf(ax=ax, linestyle='--', color='b')\n",
    "    #fit.exponential.plot_ccdf(ax=ax, linestyle=':', color='b')\n",
    "    \n",
    "    if data_inst == 1:\n",
    "        ax.set_ylim(0.00001, 1)\n",
    "    else:\n",
    "        ax.set_ylim(0.001, 1)\n",
    "    #ax.set_yticks(ax3.get_yticks()[::2])\n",
    "    #ax.set_xlim(ax1.get_xlim()\n",
    "    \n",
    "    #plot_ccdf(data, ax=ax, color='r', linewidth=.5)\n",
    "    \n",
    "    ax.set_xlabel(units)"
   ]
  },
  {
   "cell_type": "markdown",
   "id": "91adc2b7",
   "metadata": {},
   "source": [
    "## Datasets\n",
    "\n",
    "**Word:** The frequency of word usage in the book Moby Dick <br>\n",
    "**Neuron:** The number of connections each neuron has in the nematode worm C <br>\n",
    "**Blackout:** The number of people in the United States affected by electricity blackouts from 1984–2002 <br>"
   ]
  },
  {
   "cell_type": "code",
   "execution_count": 21,
   "id": "f41a10ed",
   "metadata": {},
   "outputs": [],
   "source": [
    "from numpy import genfromtxt\n",
    "\n",
    "blackouts = genfromtxt('data/blackouts.txt')\n",
    "words = genfromtxt('data/words.txt')\n",
    "#city = genfromtxt('data/cities.txt')\n",
    "worm = genfromtxt('data/worm.txt')\n",
    "worm = worm[worm>1]"
   ]
  },
  {
   "cell_type": "markdown",
   "id": "d274b1a1",
   "metadata": {},
   "source": [
    "## Visualization\n",
    "\n",
    "Distribution plot in **log-log scale**"
   ]
  },
  {
   "cell_type": "code",
   "execution_count": 22,
   "id": "c72da4b9",
   "metadata": {},
   "outputs": [
    {
     "data": {
      "image/png": "[encoded data removed]",
      "text/plain": [
       "<IPython.core.display.Image object>"
      ]
     },
     "execution_count": 22,
     "metadata": {},
     "output_type": "execute_result"
    }
   ],
   "source": [
    "from matplotlib.pyplot import figure\n",
    "import matplotlib.pyplot as plt\n",
    "\n",
    "n_data = 3\n",
    "n_graphs = 1\n",
    "f = figure(figsize=(8,4))\n",
    "\n",
    "data = words\n",
    "data_inst = 1\n",
    "units = 'Word Frequency'\n",
    "plot_basics(collections.Counter(words), data_inst, f, units)\n",
    "\n",
    "data_inst = 2\n",
    "#data = city\n",
    "#units = 'City Population'\n",
    "data = worm\n",
    "units = 'Neuron Connections'\n",
    "plot_basics(collections.Counter(worm), data_inst, f, units)\n",
    "\n",
    "data = blackouts\n",
    "data_inst = 3\n",
    "units = 'Population Affected\\nby Blackouts'\n",
    "plot_basics(collections.Counter(blackouts), data_inst, f, units)\n",
    "\n",
    "f.subplots_adjust(left=None, bottom=None, right=None, top=None, wspace=.3, hspace=.2)\n",
    "f.savefig('basics_frequ.png', bbox_inches='tight')\n",
    "plt.close()\n",
    "\n",
    "Image(filename='basics_frequ.png') "
   ]
  },
  {
   "cell_type": "markdown",
   "id": "75a37ef2",
   "metadata": {},
   "source": [
    "The *Word* dataset represents a highly skewed distribution. The *Neuron* distribution seems to be skewed as well while the *Blackout* dataset does not really look like a distribution with a long tail. <br>\n",
    "Let's check whether the data follows a power law distribution."
   ]
  },
  {
   "cell_type": "markdown",
   "id": "fa29cf41",
   "metadata": {},
   "source": [
    "## Complementary Cumulated Distribution Function (CCDF)\n",
    "\n",
    "CCDF is commonly used to visualize the probability that X will take a value less than or equal to x."
   ]
  },
  {
   "cell_type": "code",
   "execution_count": 23,
   "id": "80d5ce8a",
   "metadata": {},
   "outputs": [
    {
     "data": {
      "image/png": "[encoded data removed]",
      "text/plain": [
       "<IPython.core.display.Image object>"
      ]
     },
     "execution_count": 23,
     "metadata": {},
     "output_type": "execute_result"
    }
   ],
   "source": [
    "n_data = 3\n",
    "n_graphs = 1\n",
    "f = figure(figsize=(8,4))\n",
    "\n",
    "data = words\n",
    "data_inst = 1\n",
    "units = 'Word Frequency'\n",
    "plot_basics_ccdf(data, data_inst, f, units)\n",
    "\n",
    "data_inst = 2\n",
    "#data = city\n",
    "#units = 'City Population'\n",
    "data = worm\n",
    "units = 'Neuron Connections'\n",
    "plot_basics_ccdf(data, data_inst, f, units)\n",
    "\n",
    "data = blackouts\n",
    "data_inst = 3\n",
    "units = 'Population Affected\\nby Blackouts'\n",
    "plot_basics_ccdf(data, data_inst, f, units)\n",
    "\n",
    "f.subplots_adjust(left=None, bottom=None, right=None, top=None, wspace=.3, hspace=.2)\n",
    "plt.savefig('basics_ccdf.png', bbox_inches='tight')\n",
    "plt.close()\n",
    "\n",
    "Image(filename='basics_ccdf.png') "
   ]
  },
  {
   "cell_type": "markdown",
   "id": "e63bce14",
   "metadata": {},
   "source": [
    "We use the logarithmic axes and show the complete range of values. <br>\n",
    "From the definition of power law, we know that the distribution might be power law if the plots show a straight line. <br>\n",
    "Hence, these plots confirm our observations from before."
   ]
  },
  {
   "cell_type": "markdown",
   "id": "0d249062",
   "metadata": {},
   "source": [
    "### Probability Density Functions (PDF)"
   ]
  },
  {
   "cell_type": "code",
   "execution_count": 24,
   "id": "6268fdbf",
   "metadata": {},
   "outputs": [
    {
     "name": "stdout",
     "output_type": "stream",
     "text": [
      "Calculating best minimal value for power law fit\n",
      "Calculating best minimal value for power law fit\n",
      "Calculating best minimal value for power law fit\n",
      "xmin progress: 99%\r"
     ]
    },
    {
     "data": {
      "image/png": "[encoded data removed]",
      "text/plain": [
       "<IPython.core.display.Image object>"
      ]
     },
     "execution_count": 24,
     "metadata": {},
     "output_type": "execute_result"
    }
   ],
   "source": [
    "n_data = 3\n",
    "n_graphs = 1\n",
    "f = figure(figsize=(8,4))\n",
    "\n",
    "data = words\n",
    "data_inst = 1\n",
    "units = 'Word Frequency'\n",
    "plot_fit_ccdf(data, data_inst, f, units)\n",
    "\n",
    "data_inst = 2\n",
    "#data = city\n",
    "#units = 'City Population'\n",
    "data = worm\n",
    "units = 'Neuron Connections'\n",
    "plot_fit_ccdf(data, data_inst, f, units)\n",
    "\n",
    "data = blackouts\n",
    "data_inst = 3\n",
    "units = 'Population Affected\\nby Blackouts'\n",
    "plot_fit_ccdf(data, data_inst, f, units)\n",
    "\n",
    "f.subplots_adjust(left=None, bottom=None, right=None, top=None, wspace=.3, hspace=.2)\n",
    "f.savefig('fit_ccdf.png', bbox_inches='tight')\n",
    "plt.close()\n",
    "\n",
    "Image(filename='fit_ccdf.png') "
   ]
  },
  {
   "cell_type": "markdown",
   "id": "e3c36cc6",
   "metadata": {},
   "source": [
    "The figures illustrate the *probability density functions (PDF)*\n",
    "for the data (red solid line), the power law fit for the best xmin fit (green dotted line) \n",
    "and the fit with a fixed xmin of 1 (blue dashed line)"
   ]
  },
  {
   "cell_type": "markdown",
   "id": "784a4730",
   "metadata": {},
   "source": [
    "## Fitting the power law\n",
    "\n",
    "The primary step is to estimate both *xmin* and *α*. All these things are done by *powerlaw.Fit()*\n",
    "\n",
    "We are interested in the tail of a heavy-tailed distribution as the small values do not follow a power law. Note  that power laws are also undefined for xmin 0. We can set *xmin* by ourselves or we can estimate the **best value** of *xmin*. <br>\n",
    "One method for estimating the best value of xmin is to create a fit for each value in your data and choose the one resulting in the minimal *Kolmogorov-Smirnov distance D* between the corresponding fit and your data. \n",
    "\n",
    "In the *powerlaw* package we can **manually** set a *xmin* value if the data is descrete. When we do not specify a **xmin** value, the best value is determined **automatically**. \n",
    "\n",
    "For finding *α* one can use the maximum likelihood method. "
   ]
  },
  {
   "cell_type": "code",
   "execution_count": 25,
   "id": "913d6bd9",
   "metadata": {},
   "outputs": [
    {
     "name": "stdout",
     "output_type": "stream",
     "text": [
      "Calculating best minimal value for power law fit\n",
      "Calculating best minimal value for power law fit\n",
      "Calculating best minimal value for power law fit\n",
      "xmin progress: 99%\r"
     ]
    },
    {
     "data": {
      "image/png": "[encoded data removed]",
      "text/plain": [
       "<IPython.core.display.Image object>"
      ]
     },
     "execution_count": 25,
     "metadata": {},
     "output_type": "execute_result"
    }
   ],
   "source": [
    "n_data = 3\n",
    "n_graphs = 1\n",
    "f = figure(figsize=(8,4))\n",
    "\n",
    "data = words\n",
    "data_inst = 1\n",
    "units = 'Word Frequency'\n",
    "plot_fit_pdf(data, data_inst, f, units)\n",
    "\n",
    "data_inst = 2\n",
    "# data = city\n",
    "# units = 'City Population'\n",
    "data = worm\n",
    "units = 'Neuron Connections'\n",
    "plot_fit_pdf(data, data_inst, f, units)\n",
    "\n",
    "data_inst = 3\n",
    "data = blackouts\n",
    "units = 'Population Affected\\nby Blackouts'\n",
    "plot_fit_pdf(data, data_inst, f, units)\n",
    "\n",
    "f.subplots_adjust(left=None, bottom=None, right=None, top=None, wspace=.3, hspace=.2)\n",
    "f.savefig('fit_pdf.png', bbox_inches='tight')\n",
    "plt.close()\n",
    "\n",
    "Image(filename='fit_pdf.png') "
   ]
  },
  {
   "cell_type": "markdown",
   "id": "96af3dca",
   "metadata": {},
   "source": [
    "The figures illustrate the *probability density functions (PDF)* for the data (red solid line), the power law fit for the best *xmin* fit (green dotted line) and the fit with a fixed *xmin = 1* (blue dashed line):\n",
    "\n",
    "We can see clear differences for a fixed and best *xmin* fit. \n",
    "\n",
    "The power law seems to be a very good fit for the *Word* dataset. For the *Neuron* dataset it is a moderate fit, and for the *Blackout* data it is no good fit at all. \n",
    "\n"
   ]
  },
  {
   "cell_type": "markdown",
   "id": "dd516c09",
   "metadata": {},
   "source": [
    "In numbers we can check the values of *xmin(, *α* and the *Kolmogorov-Smirnov distance D*"
   ]
  },
  {
   "cell_type": "code",
   "execution_count": 26,
   "id": "d8d66fec",
   "metadata": {
    "scrolled": true
   },
   "outputs": [
    {
     "name": "stdout",
     "output_type": "stream",
     "text": [
      "Calculating best minimal value for power law fit\n",
      "**** Words ****99%\n",
      "xmin 7.0\n",
      "alpha 1.9501572269094178\n",
      "D 0.00922886388026034\n",
      "**** Neuron ****\n",
      "Calculating best minimal value for power law fit\n",
      "xmin 4.0gress: 92%\n",
      "alpha 3.0680986449882477\n",
      "D 0.032069835751601716\n",
      "**** Blackouts ****\n",
      "Calculating best minimal value for power law fit\n",
      "xmin 230000.0: 99%\n",
      "alpha 2.272633698954695\n",
      "D 0.06067335894897041\n"
     ]
    }
   ],
   "source": [
    "import powerlaw\n",
    "data = words\n",
    "fit = powerlaw.Fit(data, discrete=True)\n",
    "print(\"**** Words ****\")\n",
    "print(\"xmin\", fit.xmin)\n",
    "print(\"alpha\", fit.alpha)\n",
    "print(\"D\", fit.D)\n",
    "\n",
    "print(\"**** Neuron ****\")\n",
    "data = worm\n",
    "fit = powerlaw.Fit(data, discrete=True)\n",
    "print(\"xmin\", fit.xmin)\n",
    "print(\"alpha\", fit.alpha)\n",
    "print(\"D\", fit.D)\n",
    "\n",
    "print(\"**** Blackouts ****\")\n",
    "data = blackouts\n",
    "fit = powerlaw.Fit(data, discrete=True)\n",
    "print(\"xmin\", fit.xmin)\n",
    "print(\"alpha\", fit.alpha)\n",
    "print(\"D\", fit.D)\n"
   ]
  },
  {
   "cell_type": "code",
   "execution_count": 27,
   "id": "828f7bd4",
   "metadata": {},
   "outputs": [
    {
     "name": "stdout",
     "output_type": "stream",
     "text": [
      "**** Words ****\n",
      "xmin 1.0\n",
      "alpha 1.6551331335143833\n",
      "D 0.052901694587085935\n",
      "**** Neuron ****\n",
      "xmin 1.0\n",
      "alpha 1.4965946310360758\n",
      "D 0.3808276981409207\n",
      "**** Blackouts ****\n",
      "xmin 1.0\n",
      "alpha 1.082353930240705\n",
      "D 0.5092063861032725\n"
     ]
    }
   ],
   "source": [
    "import powerlaw\n",
    "\n",
    "data = words\n",
    "fit = powerlaw.Fit(data, discrete=True, xmin=1)\n",
    "print(\"**** Words ****\")\n",
    "print(\"xmin\", fit.xmin)\n",
    "print(\"alpha\", fit.alpha)\n",
    "print(\"D\", fit.D)\n",
    "\n",
    "data = worm\n",
    "fit = powerlaw.Fit(data, discrete=True, xmin=1)\n",
    "print(\"**** Neuron ****\")\n",
    "print(\"xmin\", fit.xmin)\n",
    "print(\"alpha\", fit.alpha)\n",
    "print(\"D\", fit.D)\n",
    "\n",
    "data = blackouts\n",
    "fit = powerlaw.Fit(data, discrete=True, xmin=1)\n",
    "print(\"**** Blackouts ****\")\n",
    "print(\"xmin\", fit.xmin)\n",
    "print(\"alpha\", fit.alpha)\n",
    "print(\"D\", fit.D)\n"
   ]
  },
  {
   "cell_type": "markdown",
   "id": "d0951172",
   "metadata": {},
   "source": [
    "## Goodness of fit \n",
    "\n",
    "We consider the *goodness of fit* in order to conclude that power law is a good fit for our data at hand.<br>\n",
    "One way to do this is comparing the power law fit to fits of other distribution using log-likelihood ratios. <br> \n",
    "Some potential candidate functions could be *exponential*, *lognormal*. \n",
    "\n",
    "We also print two values: <br>\n",
    "*R* = log-likelihood ratio between both distributions <br>\n",
    "*p* = p-value<br>\n",
    "If *R* is positive, than the first distribution is a better fit while if it is negative, the second one should be prefered.<br>\n",
    "The *p-value* specifies the significance for this ratio and we can prefer a *p-value* below 0.1 for statistical significance."
   ]
  },
  {
   "cell_type": "code",
   "execution_count": 28,
   "id": "2f553713",
   "metadata": {},
   "outputs": [
    {
     "name": "stdout",
     "output_type": "stream",
     "text": [
      "Calculating best minimal value for power law fit\n",
      "Comparison with lognormal:\n",
      " R = 0.008785246720703466 p-value = 0.9492243713201907\n",
      "\n",
      "Comparison with exponential:\n",
      " R = 3025.0229258679205 p-value = 6.485614241379581e-20\n",
      "\n"
     ]
    },
    {
     "data": {
      "image/png": "[encoded data removed]",
      "text/plain": [
       "<IPython.core.display.Image object>"
      ]
     },
     "execution_count": 28,
     "metadata": {},
     "output_type": "execute_result"
    }
   ],
   "source": [
    "data = words\n",
    "fit = powerlaw.Fit(data, discrete=True)\n",
    "\n",
    "R, p = fit.distribution_compare('power_law', 'lognormal')\n",
    "print(\"Comparison with lognormal:\\n R = \"+str(R)+(\" p-value = \")+str(p)+\"\\n\")\n",
    "\n",
    "R, p = fit.distribution_compare('power_law', 'exponential')\n",
    "print(\"Comparison with exponential:\\n R = \"+str(R)+(\" p-value = \")+str(p)+\"\\n\")\n",
    "\n",
    "fig = fit.plot_ccdf(linewidth=3, label='Empirical Data')\n",
    "fit.power_law.plot_ccdf(ax=fig, color='r', linestyle='--', label='Power law fit')\n",
    "fit.lognormal.plot_ccdf(ax=fig, color='g', linestyle='--', label='Lognormal fit')\n",
    "fit.exponential.plot_ccdf(ax=fig, color='c', linestyle='--', label='Exponential fit')\n",
    "####\n",
    "fig.set_ylabel(r\"$p(X\\geq x)$\")\n",
    "fig.set_xlabel(r\"Word Frequency\")\n",
    "handles, labels = fig.get_legend_handles_labels()\n",
    "fig.legend(handles, labels, loc=3)\n",
    "plt.savefig('word_compare.png', bbox_inches='tight')\n",
    "plt.close()\n",
    "\n",
    "Image(filename='word_compare.png') "
   ]
  },
  {
   "cell_type": "markdown",
   "id": "cc713c90",
   "metadata": {},
   "source": [
    "The exponential distribution is a much worse fit (high R value of 3025.03 and a p-value way below 0.1). **Lognormal and power law seem to be an equally good fit to the word data (a high p-value).**"
   ]
  },
  {
   "cell_type": "markdown",
   "id": "0da2aacd",
   "metadata": {},
   "source": [
    "Let's see what happen for the *Worm* dataset"
   ]
  },
  {
   "cell_type": "code",
   "execution_count": 29,
   "id": "975c0118",
   "metadata": {},
   "outputs": [
    {
     "name": "stdout",
     "output_type": "stream",
     "text": [
      "Calculating best minimal value for power law fit\n",
      "Comparison with lognormal:\n",
      " R = -0.07681516451364034 p-value = 0.8405642403755008\n",
      "\n",
      "Comparison with exponential:\n",
      " R = 16.384325448885427 p-value = 0.024184177728485495\n",
      "\n"
     ]
    },
    {
     "data": {
      "image/png": "[encoded data removed]",
      "text/plain": [
       "<IPython.core.display.Image object>"
      ]
     },
     "execution_count": 29,
     "metadata": {},
     "output_type": "execute_result"
    }
   ],
   "source": [
    "data = worm\n",
    "fit = powerlaw.Fit(data, discrete=True)\n",
    "\n",
    "\n",
    "R, p = fit.distribution_compare('power_law', 'lognormal')\n",
    "print(\"Comparison with lognormal:\\n R = \"+str(R)+(\" p-value = \")+str(p)+\"\\n\")\n",
    "\n",
    "R, p = fit.distribution_compare('power_law', 'exponential')\n",
    "print(\"Comparison with exponential:\\n R = \"+str(R)+(\" p-value = \")+str(p)+\"\\n\")\n",
    "\n",
    "fig = fit.plot_ccdf(linewidth=3, label='Empirical Data')\n",
    "fit.power_law.plot_ccdf(ax=fig, color='r', linestyle='--', label='Power law fit')\n",
    "fit.lognormal.plot_ccdf(ax=fig, color='g', linestyle='--', label='Lognormal fit')\n",
    "fit.exponential.plot_ccdf(ax=fig, color='c', linestyle='--', label='Exponential fit')\n",
    "####\n",
    "fig.set_ylabel(r\"$p(X\\geq x)$\")\n",
    "fig.set_xlabel(r\"Neuron Connections\")\n",
    "handles, labels = fig.get_legend_handles_labels()\n",
    "fig.legend(handles, labels, loc=3)\n",
    "plt.savefig('worm_compare.png', bbox_inches='tight')\n",
    "plt.close()\n",
    "\n",
    "Image(filename='worm_compare.png') "
   ]
  },
  {
   "cell_type": "markdown",
   "id": "975e9167",
   "metadata": {},
   "source": [
    "and finally for the *Blackouts* dataset"
   ]
  },
  {
   "cell_type": "code",
   "execution_count": null,
   "id": "c2033177",
   "metadata": {},
   "outputs": [
    {
     "name": "stdout",
     "output_type": "stream",
     "text": [
      "Calculating best minimal value for power law fit\n",
      "xmin progress: 00%\r\n",
      "xmin progress: 00%\r\n",
      "xmin progress: 01%\r\n",
      "xmin progress: 01%\r\n",
      "xmin progress: 02%\r\n",
      "xmin progress: 03%\r\n",
      "xmin progress: 03%\r\n",
      "xmin progress: 04%\r\n",
      "xmin progress: 05%\r\n",
      "xmin progress: 05%\r\n",
      "xmin progress: 06%\r\n",
      "xmin progress: 07%\r\n",
      "xmin progress: 07%\r\n",
      "xmin progress: 08%\r\n",
      "xmin progress: 09%\r\n",
      "xmin progress: 09%\r\n",
      "xmin progress: 10%\r\n",
      "xmin progress: 11%\r\n",
      "xmin progress: 11%\r\n",
      "xmin progress: 12%\r\n",
      "xmin progress: 13%\r\n",
      "xmin progress: 13%\r\n",
      "xmin progress: 14%\r\n",
      "xmin progress: 15%\r\n",
      "xmin progress: 15%\r\n",
      "xmin progress: 16%\r\n",
      "xmin progress: 17%\r\n",
      "xmin progress: 17%\r\n",
      "xmin progress: 18%\r\n",
      "xmin progress: 19%\r\n",
      "xmin progress: 19%\r\n",
      "xmin progress: 20%\r\n",
      "xmin progress: 21%\r\n",
      "xmin progress: 21%\r\n",
      "xmin progress: 22%\r\n",
      "xmin progress: 23%\r\n",
      "xmin progress: 23%\r\n",
      "xmin progress: 24%\r\n",
      "xmin progress: 25%\r\n",
      "xmin progress: 25%\r\n",
      "xmin progress: 26%\r\n",
      "xmin progress: 26%\r\n",
      "xmin progress: 27%\r\n",
      "xmin progress: 28%\r\n",
      "xmin progress: 28%\r\n",
      "xmin progress: 29%\r\n",
      "xmin progress: 30%\r\n",
      "xmin progress: 30%\r\n",
      "xmin progress: 31%\r\n",
      "xmin progress: 32%\r\n",
      "xmin progress: 32%\r\n",
      "xmin progress: 33%\r\n",
      "xmin progress: 34%\r\n",
      "xmin progress: 34%\r\n",
      "xmin progress: 35%\r\n",
      "xmin progress: 36%\r\n",
      "xmin progress: 36%\r\n",
      "xmin progress: 37%\r\n",
      "xmin progress: 38%\r\n",
      "xmin progress: 38%\r\n",
      "xmin progress: 39%\r\n",
      "xmin progress: 40%\r\n",
      "xmin progress: 40%\r\n",
      "xmin progress: 41%\r\n",
      "xmin progress: 42%\r\n",
      "xmin progress: 42%\r\n",
      "xmin progress: 43%\r\n",
      "xmin progress: 44%\r\n",
      "xmin progress: 44%\r\n",
      "xmin progress: 45%\r\n",
      "xmin progress: 46%\r\n",
      "xmin progress: 46%\r\n",
      "xmin progress: 47%\r\n",
      "xmin progress: 48%\r\n",
      "xmin progress: 48%\r\n",
      "xmin progress: 49%\r\n",
      "xmin progress: 50%\r\n",
      "xmin progress: 50%\r\n",
      "xmin progress: 51%\r\n",
      "xmin progress: 51%\r\n",
      "xmin progress: 52%\r\n",
      "xmin progress: 53%\r\n",
      "xmin progress: 53%\r\n",
      "xmin progress: 54%\r\n",
      "xmin progress: 55%\r\n",
      "xmin progress: 55%\r\n",
      "xmin progress: 56%\r\n",
      "xmin progress: 57%\r\n",
      "xmin progress: 57%\r\n",
      "xmin progress: 58%\r\n",
      "xmin progress: 59%\r\n",
      "xmin progress: 59%\r\n",
      "xmin progress: 60%\r\n",
      "xmin progress: 61%\r\n",
      "xmin progress: 61%\r\n",
      "xmin progress: 62%\r\n",
      "xmin progress: 63%\r\n",
      "xmin progress: 63%\r\n",
      "xmin progress: 64%\r\n",
      "xmin progress: 65%\r\n",
      "xmin progress: 65%\r\n",
      "xmin progress: 66%\r\n",
      "xmin progress: 67%\r\n",
      "xmin progress: 67%\r\n",
      "xmin progress: 68%\r\n",
      "xmin progress: 69%\r\n",
      "xmin progress: 69%\r\n",
      "xmin progress: 70%\r\n",
      "xmin progress: 71%\r\n",
      "xmin progress: 71%\r\n",
      "xmin progress: 72%\r\n",
      "xmin progress: 73%\r\n",
      "xmin progress: 73%\r\n",
      "xmin progress: 74%\r\n",
      "xmin progress: 75%\r\n",
      "xmin progress: 75%\r\n",
      "xmin progress: 76%\r\n",
      "xmin progress: 76%\r\n",
      "xmin progress: 77%\r\n",
      "xmin progress: 78%\r\n",
      "xmin progress: 78%\r\n",
      "xmin progress: 79%\r\n",
      "xmin progress: 80%\r\n",
      "xmin progress: 80%\r\n",
      "xmin progress: 81%\r\n",
      "xmin progress: 82%\r\n",
      "xmin progress: 82%\r\n",
      "xmin progress: 83%\r\n",
      "xmin progress: 84%\r\n",
      "xmin progress: 84%\r\n",
      "xmin progress: 85%\r\n",
      "xmin progress: 86%\r\n",
      "xmin progress: 86%\r\n",
      "xmin progress: 87%\r\n",
      "xmin progress: 88%\r\n",
      "xmin progress: 88%\r\n",
      "xmin progress: 89%\r\n",
      "xmin progress: 90%\r\n",
      "xmin progress: 90%\r\n",
      "xmin progress: 91%\r\n",
      "xmin progress: 92%\r\n",
      "xmin progress: 92%\r\n",
      "xmin progress: 93%\r\n",
      "xmin progress: 94%\r\n",
      "xmin progress: 94%\r\n",
      "xmin progress: 95%\r\n",
      "xmin progress: 96%\r\n",
      "xmin progress: 96%\r\n",
      "xmin progress: 97%\r\n",
      "xmin progress: 98%\r\n",
      "xmin progress: 98%\r\n",
      "xmin progress: 99%\r\n",
      "Comparison with lognormal:\n",
      " R = -0.2409035247375204 p-value = 0.6775599643849131\n",
      "\n",
      "Comparison with exponential:\n",
      " R = 12.754459441307608 p-value = 0.15229591286621572\n",
      "\n"
     ]
    },
    {
     "data": {
      "image/png": "[encoded data removed]",
      "text/plain": [
       "<IPython.core.display.Image object>"
      ]
     },
     "execution_count": 18,
     "metadata": {},
     "output_type": "execute_result"
    }
   ],
   "source": [
    "data = blackouts\n",
    "fit = powerlaw.Fit(data, discrete=True)\n",
    "\n",
    "R, p = fit.distribution_compare('power_law', 'lognormal')\n",
    "print(\"Comparison with lognormal:\\n R = \"+str(R)+(\" p-value = \")+str(p)+\"\\n\")\n",
    "\n",
    "R, p = fit.distribution_compare('power_law', 'exponential')\n",
    "print(\"Comparison with exponential:\\n R = \"+str(R)+(\" p-value = \")+str(p)+\"\\n\")\n",
    "\n",
    "fig = fit.plot_ccdf(linewidth=3, label='Empirical Data')\n",
    "fit.power_law.plot_ccdf(ax=fig, color='r', linestyle='--', label='Power law fit')\n",
    "fit.lognormal.plot_ccdf(ax=fig, color='g', linestyle='--', label='Lognormal fit')\n",
    "fit.exponential.plot_ccdf(ax=fig, color='c', linestyle='--', label='Exponential fit')\n",
    "####\n",
    "fig.set_ylabel(r\"$p(X\\geq x)$\")\n",
    "fig.set_xlabel(r\"Blackouts\")\n",
    "handles, labels = fig.get_legend_handles_labels()\n",
    "fig.legend(handles, labels, loc=3)\n",
    "plt.savefig('blackouts_compare.png', bbox_inches='tight')\n",
    "plt.close()\n",
    "\n",
    "Image(filename='blackouts_compare.png') "
   ]
  },
  {
   "cell_type": "code",
   "execution_count": null,
   "id": "82b23c58",
   "metadata": {},
   "outputs": [],
   "source": []
  },
  {
   "cell_type": "code",
   "execution_count": null,
   "id": "b5ce6b00",
   "metadata": {},
   "outputs": [],
   "source": []
  },
  {
   "cell_type": "code",
   "execution_count": null,
   "id": "3ad65e81",
   "metadata": {},
   "outputs": [],
   "source": []
  }
 ],
 "metadata": {
  "interpreter": {
   "hash": "c41831a3f6935dcd2b991c28ca0e9b4fd0816f72b313fbbe31ffbe7aae07454d"
  },
  "kernelspec": {
   "display_name": "Python 3.8.0 ('Social-Analytics')",
   "language": "python",
   "name": "python3"
  },
  "language_info": {
   "codemirror_mode": {
    "name": "ipython",
    "version": 3
   },
   "file_extension": ".py",
   "mimetype": "text/x-python",
   "name": "python",
   "nbconvert_exporter": "python",
   "pygments_lexer": "ipython3",
   "version": "3.8.0"
  }
 },
 "nbformat": 4,
 "nbformat_minor": 5
}
